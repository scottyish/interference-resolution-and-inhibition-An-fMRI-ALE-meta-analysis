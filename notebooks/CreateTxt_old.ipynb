{
 "cells": [
  {
   "cell_type": "markdown",
   "metadata": {},
   "source": [
    "# Code to create txt files for input to GingerALE"
   ]
  },
  {
   "cell_type": "code",
   "execution_count": 1,
   "metadata": {},
   "outputs": [
    {
     "data": {
      "text/html": [
       "<style>.container { width:95% !important; }</style>"
      ],
      "text/plain": [
       "<IPython.core.display.HTML object>"
      ]
     },
     "metadata": {},
     "output_type": "display_data"
    }
   ],
   "source": [
    "import pandas as pd\n",
    "import numpy as np\n",
    "from os.path import join as opj\n",
    "import os\n",
    "import glob\n",
    "import re\n",
    "import shutil\n",
    "\n",
    "# change width of notebook\n",
    "from IPython.core.display import display, HTML\n",
    "display(HTML(\"<style>.container { width:95% !important; }</style>\"))\n",
    "\n",
    "# change max row pandas will spit out\n",
    "pd.set_option('display.max_rows', 5000)\n",
    "pd.options.display.max_colwidth = 1000"
   ]
  },
  {
   "cell_type": "markdown",
   "metadata": {},
   "source": [
    "Contrasts of interest:\n",
    "    \n",
    "Contrast 1 (main): Overlap of inhibition and interference\n",
    "SST – Successful stop > go\n",
    "Go/NoGo – Nogo > Go\n",
    "Flanker – Incongruent > Congruent\n",
    "Stroop – Incongruent > Congruent\n",
    "Simon – Incongruent > Congruent\n",
    "MSIT – Incongruent > Congruent\n",
    "\n",
    "Contrast 2: Overlap of inhibition\n",
    "SST – Successful stop > go\n",
    "Go/NoGo – Nogo > Go\n",
    "\n",
    "Contrast 3: Overlap of interference\n",
    "Flanker – Incongruent > Congruent\n",
    "Stroop – Incongruent > Congruent\n",
    "Simon – Incongruent > Congruent\n",
    "MSIT – Incongruent > Congruent\n",
    "\n",
    "Contrast 4: SST individually\n",
    "SST – Successful stop > go\n",
    "\n",
    "Contrast 5: SST individually\n",
    "SST – Failed stop > go\n",
    "\n",
    "Contrast 6: SST individually\n",
    "SST – Failed stop > Successful stop\n",
    "\n",
    "Contrast 7: Go/NoGo individually\n",
    "Go/NoGo – Nogo > Go\n",
    "\n",
    "Contrast 8: Flanker individually\n",
    "Flanker – Incongruent > Congruent\n",
    "\n",
    "Contrast 9: Stroop individually\n",
    "Stroop – Incongruent > Congruent\n",
    "\n",
    "Contrast 10: Simon individually\n",
    "MSIT – Incongruent > Congruent\n",
    "\n",
    "Contrast 11: Visual vs Auditory stop signal\n",
    "SST – Successful stop > go\n",
    "\n"
   ]
  },
  {
   "cell_type": "code",
   "execution_count": 2,
   "metadata": {},
   "outputs": [
    {
     "name": "stdout",
     "output_type": "stream",
     "text": [
      "Changed to correct working directory: /Users/scotti/surfdrive/Projects/interference_in_the_subcortex\n"
     ]
    }
   ],
   "source": [
    "# Ensure correct wokring directory\n",
    "if os.getcwd().split('/')[-1].startswith('interference') == True:\n",
    "    print('In the correct working directory: ' + str(os.getcwd()))\n",
    "else:\n",
    "    os.chdir(\"..\")\n",
    "    print('Changed to correct working directory: ' + str(os.getcwd()))\n",
    "\n",
    "txt_input = opj(os.getcwd(), 'finished_fulltexts/CoordinateTxtFiles') # original rtfs\n",
    "txt_output = opj(os.getcwd(), 'Gingerale/realdeal') # where the contrast files should be\n",
    "# rtf_txt_dir = opj(os.getcwd(), 'Gingerale/txtfiles') # directory where rtfs are converted to txts\n"
   ]
  },
  {
   "cell_type": "code",
   "execution_count": 4,
   "metadata": {},
   "outputs": [
    {
     "name": "stdout",
     "output_type": "stream",
     "text": [
      "['NoGo>Go', 'StopS>GoS', 'Con>Inc', 'Inc>Con']\n"
     ]
    }
   ],
   "source": [
    "# First lets check contrast 1 - 3\n",
    "c1 = 'inh&int'\n",
    "c2 = 'inh'\n",
    "c3 = 'int'\n",
    "\n",
    "# load in the coordinate files that we already have\n",
    "all_txts = glob.glob(opj(txt_input, '*.txt'))\n",
    "\n",
    "\n",
    "print(There are)\n",
    "\n",
    "# define all possible contrasts\n",
    "def search(text,n):\n",
    "    '''Searches for contrasts in txt files, and retrieves n words either side of the text, then returns'''\n",
    "    word = r\"\\W*([\\w]+)\"\n",
    "    groups = re.search(r'{}\\W*{}{}'.format(word*n,'>',word*n), text).groups()\n",
    "    return str(groups[0]) + '>' + str(groups[1])\n",
    "\n",
    "contrs = []\n",
    "for i in all_txts:\n",
    "    contrs.append(search(i, 1))\n",
    "\n",
    "contrs = list(dict.fromkeys(contrs)) # contrast types\n",
    "print(contrs)"
   ]
  },
  {
   "cell_type": "code",
   "execution_count": 86,
   "metadata": {},
   "outputs": [],
   "source": [
    "# NO LONGER NEED TO CONVERT TO TXT\n",
    "# # convert rtf files to plain text files\n",
    "# for rtf in all_rtfs:\n",
    "\n",
    "#     with open(rtf) as f: \n",
    "#         text = rtf_to_text(f.read())\n",
    "#         check=open(rtf.replace(txt_input,rtf_txt_dir).replace('rtf','txt'),'w')\n",
    "#         check.write(text)\n",
    "#         check.close()\n",
    "        \n",
    "# all_txts = glob.glob(opj(rtf_txt_dir, '*'))"
   ]
  },
  {
   "cell_type": "code",
   "execution_count": 107,
   "metadata": {},
   "outputs": [],
   "source": [
    "matching = [s for s in all_txts if contrs[0] in s]"
   ]
  },
  {
   "cell_type": "code",
   "execution_count": 108,
   "metadata": {},
   "outputs": [
    {
     "data": {
      "text/plain": [
       "['/Users/scotti/surfdrive/Projects/interference_in_the_subcortex/Gingerale/txtfiles/Alam-2018-GoNoGo-Picture-NoGo>Go.txt',\n",
       " '/Users/scotti/surfdrive/Projects/interference_in_the_subcortex/Gingerale/txtfiles/Alam-2018-GoNoGo-BoxEasy-NoGo>Go.txt',\n",
       " '/Users/scotti/surfdrive/Projects/interference_in_the_subcortex/Gingerale/txtfiles/Jahfari-2015-GoNoGo-Typical-NoGo>Go.txt',\n",
       " '/Users/scotti/surfdrive/Projects/interference_in_the_subcortex/Gingerale/txtfiles/RodriguezNieto-2019-GoNoGo-Typical-NoGo>Go.txt',\n",
       " '/Users/scotti/surfdrive/Projects/interference_in_the_subcortex/Gingerale/txtfiles/Alam-2018-GoNoGo-Word-NoGo>Go.txt',\n",
       " '/Users/scotti/surfdrive/Projects/interference_in_the_subcortex/Gingerale/txtfiles/Sebastian-2012-GoNogo-Typical-NoGo>Go.txt',\n",
       " '/Users/scotti/surfdrive/Projects/interference_in_the_subcortex/Gingerale/txtfiles/Rothmayr-2011-GoNoGo-WM-NoGo>Go.txt',\n",
       " '/Users/scotti/surfdrive/Projects/interference_in_the_subcortex/Gingerale/txtfiles/Mehren-2019-GoNoGo-Typical-NoGo>Go.txt',\n",
       " '/Users/scotti/surfdrive/Projects/interference_in_the_subcortex/Gingerale/txtfiles/Osada-2019-GoNoGo-Typical-NoGo>Go.txt',\n",
       " '/Users/scotti/surfdrive/Projects/interference_in_the_subcortex/Gingerale/txtfiles/Kohler-2018-GoNoGo-ComplicatedVersion-NoGo>Go.txt',\n",
       " '/Users/scotti/surfdrive/Projects/interference_in_the_subcortex/Gingerale/txtfiles/Alam-2018-GoNoGo-BoxHard-NoGo>Go.txt',\n",
       " '/Users/scotti/surfdrive/Projects/interference_in_the_subcortex/Gingerale/txtfiles/Chiu-2015-GoNoGo-Typical-NoGo>Go.txt',\n",
       " '/Users/scotti/surfdrive/Projects/interference_in_the_subcortex/Gingerale/txtfiles/Asci-2019-GoNoGo-ModifiedEmotional-NoGo>Go.txt',\n",
       " '/Users/scotti/surfdrive/Projects/interference_in_the_subcortex/Gingerale/txtfiles/Sebastiaan-2013b-GoNoGo-Typical-NoGo>Go.txt',\n",
       " '/Users/scotti/surfdrive/Projects/interference_in_the_subcortex/Gingerale/txtfiles/vanEijk-2015-GoNoGo-Hybrid-NoGo>Go.txt',\n",
       " '/Users/scotti/surfdrive/Projects/interference_in_the_subcortex/Gingerale/txtfiles/vanEijk-2015-GoNoGo-Typical-NoGo>Go.txt']"
      ]
     },
     "execution_count": 108,
     "metadata": {},
     "output_type": "execute_result"
    }
   ],
   "source": [
    "matching"
   ]
  },
  {
   "cell_type": "code",
   "execution_count": 109,
   "metadata": {},
   "outputs": [],
   "source": [
    "# CONTRAST 1 - all constrasts (except for Con > Inc)\n",
    "m1 = [s for s in all_txts if contrs[0] in s]\n",
    "m2 = [s for s in all_txts if contrs[1] in s]\n",
    "m3 = [s for s in all_txts if contrs[3] in s]\n",
    "    \n",
    "c1_txts = m1 + m2 + m3\n",
    "\n",
    "with open(opj(txt_output, c1 + '.txt'),'wb') as wfd:\n",
    "    for f in c1_txts:\n",
    "        with open(f,'rb') as fd:\n",
    "            shutil.copyfileobj(fd, wfd)\n",
    "        wfd.write(b'\\n')"
   ]
  },
  {
   "cell_type": "code",
   "execution_count": 110,
   "metadata": {},
   "outputs": [],
   "source": [
    "# CONTRAST 2 - inhibition contrasts constrasts (Go/NoGo and SST)\n",
    "m1 = [s for s in all_txts if contrs[0] in s]\n",
    "m2 = [s for s in all_txts if contrs[1] in s]\n",
    "    \n",
    "c2_txts = m1 + m2\n",
    "\n",
    "with open(opj(txt_output, c2 + '.txt'),'wb') as wfd:\n",
    "    for f in c2_txts:\n",
    "        with open(f,'rb') as fd:\n",
    "            shutil.copyfileobj(fd, wfd)\n",
    "        wfd.write(b'\\n')"
   ]
  },
  {
   "cell_type": "code",
   "execution_count": 111,
   "metadata": {},
   "outputs": [],
   "source": [
    "# CONTRAST 3 - interference contrasts constrasts (Simon, Flanker, Stroop and MSIT)\n",
    "m1 = [s for s in all_txts if contrs[3] in s]\n",
    "    \n",
    "c3_txts = m1\n",
    "\n",
    "with open(opj(txt_output, c3 + '.txt'),'wb') as wfd:\n",
    "    for f in c3_txts:\n",
    "        with open(f,'rb') as fd:\n",
    "            shutil.copyfileobj(fd, wfd)\n",
    "        wfd.write(b'\\n')"
   ]
  },
  {
   "cell_type": "markdown",
   "metadata": {},
   "source": [
    "# Make GingerALE bashable"
   ]
  },
  {
   "cell_type": "code",
   "execution_count": 113,
   "metadata": {},
   "outputs": [],
   "source": [
    "# Change directory\n",
    "os.chdir('./Gingerale')"
   ]
  },
  {
   "cell_type": "code",
   "execution_count": 114,
   "metadata": {},
   "outputs": [
    {
     "name": "stdout",
     "output_type": "stream",
     "text": [
      "getALE2 usage:\r\n",
      "\tFoci_Text - name of text file with foci data\r\n",
      "optional parameters:\r\n",
      "\t-mask=Mask_Image\r\n",
      "\t-ale=ALE_Prefix\r\n",
      "\t-pval=PVal_Prefix\r\n",
      "\t-nonadd - use Turkeltaub's nonadditive method\r\n",
      "\t-noPVal - don't create a P value result image\r\n",
      "Thresholding Method, chose at most one:\r\n",
      "(If none chosen, no thresholded image will be saved)\r\n",
      "\t-p=value - Uncorrected P Value\r\n",
      "\t-pN=value - FDR pN Value\r\n",
      "\t-pID=value - FDR pID Value\r\n",
      "Permutation-Based Thresholding Method:\r\n",
      "\t-perm=Number of Permutations\r\n",
      "\t-fwe=value - Family-wise Error Rate\r\n",
      "\t-clust=value - Cluster-level Inference Rate\r\n",
      "Minimum Clust Volume (mm^3):\r\n",
      "\t(Appropriate with all methods except Cluster-level Inference)\r\n",
      "\t-minVol=value - Cubic millimeters of the smallest allowed cluster\r\n"
     ]
    }
   ],
   "source": [
    "!java -cp GingerALE.jar org.brainmap.meta.getALE2"
   ]
  },
  {
   "cell_type": "code",
   "execution_count": null,
   "metadata": {},
   "outputs": [],
   "source": [
    "!java -cp GingerALE.jar org.brainmap.meta.getALE2 \\\n",
    "./realdeal/inh&int.txt -mask=./template/Colin27_T1_seg_MNI.nii.gz \\\n",
    "-nonadd -perm=5000 -p=0.001 fwe= -minVol=0"
   ]
  }
 ],
 "metadata": {
  "kernelspec": {
   "display_name": "Python 3",
   "language": "python",
   "name": "python3"
  },
  "language_info": {
   "codemirror_mode": {
    "name": "ipython",
    "version": 3
   },
   "file_extension": ".py",
   "mimetype": "text/x-python",
   "name": "python",
   "nbconvert_exporter": "python",
   "pygments_lexer": "ipython3",
   "version": "3.7.3"
  },
  "toc": {
   "base_numbering": 1,
   "nav_menu": {},
   "number_sections": true,
   "sideBar": true,
   "skip_h1_title": false,
   "title_cell": "Table of Contents",
   "title_sidebar": "Contents",
   "toc_cell": false,
   "toc_position": {},
   "toc_section_display": true,
   "toc_window_display": false
  }
 },
 "nbformat": 4,
 "nbformat_minor": 2
}
