{
 "cells": [
  {
   "cell_type": "markdown",
   "metadata": {},
   "source": [
    "## Interference and Inhibition meta analysis\n",
    "#### Code written by Scott Isherwood, Max Keuken\n",
    "\n",
    "    Goal of the notebook is to create a number of txt files that can be used as an input for gingerALE. "
   ]
  },
  {
   "cell_type": "code",
   "execution_count": 1,
   "metadata": {},
   "outputs": [
    {
     "data": {
      "text/html": [
       "<style>.container { width:95% !important; }</style>"
      ],
      "text/plain": [
       "<IPython.core.display.HTML object>"
      ]
     },
     "metadata": {},
     "output_type": "display_data"
    }
   ],
   "source": [
    "# Import standard modules\n",
    "import shutil, os, re\n",
    "from glob import glob as glob\n",
    "import pandas as pd\n",
    "import numpy as np\n",
    "from os.path import join as opj\n",
    "\n",
    "# change width of notebook\n",
    "from IPython.core.display import display, HTML\n",
    "display(HTML(\"<style>.container { width:95% !important; }</style>\"))\n",
    "\n",
    "# change max row pandas will spit out\n",
    "pd.set_option('display.max_rows', 5000)\n",
    "pd.options.display.max_colwidth = 1000"
   ]
  },
  {
   "cell_type": "code",
   "execution_count": 7,
   "metadata": {},
   "outputs": [
    {
     "name": "stdout",
     "output_type": "stream",
     "text": [
      "In the correct working directory: /Users/scotti/surfdrive/Projects/interference_in_the_subcortex\n"
     ]
    }
   ],
   "source": [
    "# Ensure correct wokring directory\n",
    "if os.getcwd().split('/')[-1].startswith('interference') == True:\n",
    "    print('In the correct working directory: ' + str(os.getcwd()))\n",
    "else:\n",
    "    os.chdir(\"..\")\n",
    "    print('Changed to correct working directory: ' + str(os.getcwd()))\n",
    "\n",
    "# Define important working directories\n",
    "txt_input = opj(os.getcwd(), 'finished_fulltexts/CoordinateTxtFiles') # original txts\n",
    "txt_output = opj(os.getcwd(), 'Gingerale/GingerALE-Input') # where the contrast files should be"
   ]
  },
  {
   "cell_type": "code",
   "execution_count": 13,
   "metadata": {},
   "outputs": [
    {
     "name": "stdout",
     "output_type": "stream",
     "text": [
      "\n",
      "We have the following number of contrasts included for the inhibition contrasts: 44\n",
      "\n",
      "We have the following number of contrasts included for the interference contrasts: 31\n",
      "\n",
      "We have the following number of contrasts included for the both inhibition and interference contrasts: 75\n"
     ]
    }
   ],
   "source": [
    "# Get all the single coordinates as list\n",
    "file_list = glob(opj(txt_input, '*.txt'))\n",
    "\n",
    "#####\n",
    "# Define the different contrasts by selecting the corresponding txt files\n",
    "#\n",
    "# Inhibition contrast\n",
    "#. The inhibition contrasts contains the SST and the GoNoGo tasks where we look at\n",
    "#. Succesfull stop > succesfull go & NoGo > Go trials:\n",
    "contrastInhibition = {s for s in file_list for xs in ['StopS>GoS', 'NoGo>Go'] if xs in s}\n",
    "print('\\nWe have the following number of contrasts included for the inhibition contrasts:', len(contrastInhibition))\n",
    "#\n",
    "# Interference contrasts \n",
    "#. The interference contrasts contains the Flanker, Simon, Stroop and MISTs tasks\n",
    "#. where we look at the incongruent > congruent trials:\n",
    "contrastInterference = {s for s in file_list for xs in ['Inc>Con'] if xs in s}\n",
    "print('\\nWe have the following number of contrasts included for the interference contrasts:', len(contrastInterference))\n",
    "\n",
    "# Interference and Inhibition contrasts\n",
    "contrastInhibitionAndInterference = {s for s in file_list for xs in ['StopS>GoS', 'NoGo>Go', 'Inc>Con'] if xs in s}\n",
    "print('\\nWe have the following number of contrasts included for the both inhibition and interference contrasts:', len(contrastInhibitionAndInterference))\n",
    "\n",
    "# Stop signal studies\n",
    "contrastSST = {s for s in file_list for xs in ['StopS>GoS'] if xs in s}\n",
    "print('\\nWe have the following number of contrasts included for the SST contrast:', len(contrastSST))\n",
    "\n",
    "# Go No Go studies\n",
    "contrastGoNoGo = {s for s in file_list for xs in ['NoGo>Go'] if xs in s}\n",
    "print('\\nWe have the following number of contrasts included for the Go No Go contrast:', len(contrastGoNoGo))\n",
    "\n",
    "#####\n",
    "# Concatenate all the txt files that are part of the contrast\n",
    "#. while starting each txt file on a new line.\n",
    "contrasts = [contrastInhibition, contrastInterference, contrastInhibitionAndInterference, contrastSST, contrastGoNoGo]\n",
    "outputfiles = ['contrastInhibitionInput.txt', 'contrastInterferenceInput.txt', 'contrastInhibitionAndInterferenceInput.txt', 'contrastSSTInput.txt', 'contrastGoNoGoInput.txt']\n",
    "\n",
    "# For the given contrasts concatenate the different studies in a single txt file \n",
    "#. what then is used as an input file for gingerALE:\n",
    "for i in range(0, len(contrasts)):\n",
    "    #with open(opj('./GingerALE-Input/', outputfiles[i]), 'wb') as outputFile:\n",
    "    with open(opj(txt_output, outputfiles[i]), 'wb') as outputFile:\n",
    "        for file in contrasts[i]:\n",
    "            with open(file,'rb') as fd:\n",
    "                shutil.copyfileobj(fd, outputFile)\n",
    "            outputFile.write(b'\\n')"
   ]
  },
  {
   "cell_type": "markdown",
   "metadata": {},
   "source": [
    "# GingerALE"
   ]
  },
  {
   "cell_type": "code",
   "execution_count": 15,
   "metadata": {},
   "outputs": [],
   "source": [
    "# GingerALE via terminal\n",
    "# Requires the GingerALE.jar file\n",
    "# Change directory\n",
    "os.chdir('./Gingerale')"
   ]
  },
  {
   "cell_type": "code",
   "execution_count": 16,
   "metadata": {},
   "outputs": [
    {
     "name": "stdout",
     "output_type": "stream",
     "text": [
      "getALE2 usage:\n",
      "\tFoci_Text - name of text file with foci data\n",
      "optional parameters:\n",
      "\t-mask=Mask_Image\n",
      "\t-ale=ALE_Prefix\n",
      "\t-pval=PVal_Prefix\n",
      "\t-nonadd - use Turkeltaub's nonadditive method\n",
      "\t-noPVal - don't create a P value result image\n",
      "Thresholding Method, chose at most one:\n",
      "(If none chosen, no thresholded image will be saved)\n",
      "\t-p=value - Uncorrected P Value\n",
      "\t-pN=value - FDR pN Value\n",
      "\t-pID=value - FDR pID Value\n",
      "Permutation-Based Thresholding Method:\n",
      "\t-perm=Number of Permutations\n",
      "\t-fwe=value - Family-wise Error Rate\n",
      "\t-clust=value - Cluster-level Inference Rate\n",
      "Minimum Clust Volume (mm^3):\n",
      "\t(Appropriate with all methods except Cluster-level Inference)\n",
      "\t-minVol=value - Cubic millimeters of the smallest allowed cluster\n"
     ]
    }
   ],
   "source": [
    "# List inputs required for single dataset ALE functions\n",
    "!java -cp GingerALE.jar org.brainmap.meta.getALE2"
   ]
  },
  {
   "cell_type": "code",
   "execution_count": 44,
   "metadata": {},
   "outputs": [],
   "source": [
    "# FOR INHIBITION AND INTERFERENCE CONTRAST\n",
    "!java -cp GingerALE.jar org.brainmap.meta.getALE2 \\\n",
    "./GingerALE-Input/contrastInhibitionAndInterferenceInput.txt -mask=MNI_wb.nii \\\n",
    "#-ale=./GingerALE-Output-CLI/contrastInhibitionAndInterferenceOutput_p001_C001_1_ALE.nii \\\n",
    "#-pval=./GingerALE-Output-CLI/contrastInhibitionAndInterferenceOutput_p001_C001_1_PVal.nii \\\n",
    "-nonadd -perm=10000 -clust=0.05 -p=0.001\n"
   ]
  },
  {
   "cell_type": "code",
   "execution_count": 43,
   "metadata": {},
   "outputs": [],
   "source": [
    "# MUST DO SECOND STEP TO GET TXT FILES\n",
    "!java -cp GingerALE.jar org.brainmap.meta.getClustersStats \\\n",
    "./GingerALE-Input/contrastInhibitionAndInterferenceInput.txt \\\n",
    "./GingerALE-Input/contrastInhibitionAndInterferenceInput_p001_C001_1_ALE.nii \\\n",
    "./GingerALE-Input/contrastInhibitionAndInterferenceInput_p001_C001_1_clust.nii \\\n",
    "-mni -out=./GingerALE-Output-CLI/contrastInhibitionAndInterferenceInput_p001_C001_1_clust"
   ]
  },
  {
   "cell_type": "code",
   "execution_count": 29,
   "metadata": {},
   "outputs": [
    {
     "name": "stdout",
     "output_type": "stream",
     "text": [
      "FociList.readNextExp(line 7): Subject data found within foci\n",
      "FociList.readNextExp(line 10): Subject data found within foci\n",
      "FociList.readNextExp(line 25): Subject data found within foci\n",
      "FociList.readNextExp(line 38): Subject data found within foci\n",
      "FociList.readNextExp(line 73): Subject data found within foci\n",
      "FociList.readNextExp(line 87): Subject data found within foci\n",
      "FociList.readNextExp(line 95): Subject data found within foci\n",
      "FociList.readNextExp(line 105): Subject data found within foci\n",
      "FociList.readNextExp(line 114): Subject data found within foci\n",
      "FociList.readNextExp(line 122): Subject data found within foci\n",
      "FociList.readNextExp(line 134): Subject data found within foci\n",
      "FociList.readNextExp(line 184): Subject data found within foci\n",
      "FociList.readNextExp(line 230): Subject data found within foci\n",
      "FociList.readNextExp(line 242): Subject data found within foci\n",
      "FociList.readNextExp(line 289): Subject data found within foci\n",
      "FociList.readNextExp(line 321): Subject data found within foci\n",
      "FociList.readNextExp(line 329): Subject data found within foci\n",
      "FociList.readNextExp(line 358): Subject data found within foci\n",
      "FociList.readNextExp(line 362): Subject data found within foci\n",
      "FociList.readNextExp(line 365): Subject data found within foci\n",
      "FociList.readNextExp(line 403): Subject data found within foci\n",
      "FociList.readNextExp(line 449): Subject data found within foci\n",
      "FociList.readNextExp(line 482): Subject data found within foci\n",
      "getThreshByPerm: setting min cluster volume 50mm 6 voxels\n"
     ]
    }
   ],
   "source": [
    "# FOR INTERFERENCE ONLY CONTRAST\n",
    "!java -cp GingerALE.jar org.brainmap.meta.getALE2 \\\n",
    "./GingerALE-Input/contrastInterferenceInput.txt -mask=MNI_wb.nii \\\n",
    "-nonadd -perm=10000 -p=0.001 -fwe=0.05 -minVol=50"
   ]
  },
  {
   "cell_type": "code",
   "execution_count": null,
   "metadata": {},
   "outputs": [],
   "source": [
    "# FOR INHIBITION ONLY CONTRAST\n",
    "!java -cp GingerALE.jar org.brainmap.meta.getALE2 \\\n",
    "./GingerALE-Input/contrastInhibitionInput.txt -mask=MNI_wb.nii \\\n",
    "-nonadd -perm=10000 -p=0.001 -fwe=0.05 -minVol=50"
   ]
  },
  {
   "cell_type": "code",
   "execution_count": 45,
   "metadata": {},
   "outputs": [
    {
     "ename": "SyntaxError",
     "evalue": "invalid syntax (<ipython-input-45-30ee2c953c30>, line 2)",
     "output_type": "error",
     "traceback": [
      "\u001b[0;36m  File \u001b[0;32m\"<ipython-input-45-30ee2c953c30>\"\u001b[0;36m, line \u001b[0;32m2\u001b[0m\n\u001b[0;31m    java -cp GingerALE.jar org.brainmap.meta.getALE2Contrast\u001b[0m\n\u001b[0m                     ^\u001b[0m\n\u001b[0;31mSyntaxError\u001b[0m\u001b[0;31m:\u001b[0m invalid syntax\n"
     ]
    }
   ],
   "source": [
    "# Print input options for contrast functions\n",
    "java -cp GingerALE.jar org.brainmap.meta.getALE2Contrast"
   ]
  },
  {
   "cell_type": "code",
   "execution_count": 24,
   "metadata": {},
   "outputs": [
    {
     "ename": "SyntaxError",
     "evalue": "invalid syntax (<ipython-input-24-8438fcbf89e3>, line 2)",
     "output_type": "error",
     "traceback": [
      "\u001b[0;36m  File \u001b[0;32m\"<ipython-input-24-8438fcbf89e3>\"\u001b[0;36m, line \u001b[0;32m2\u001b[0m\n\u001b[0;31m    java -cp GingerALE.jar org.brainmap.meta.getALE2Contrast\u001b[0m\n\u001b[0m                     ^\u001b[0m\n\u001b[0;31mSyntaxError\u001b[0m\u001b[0;31m:\u001b[0m invalid syntax\n"
     ]
    }
   ],
   "source": [
    "# FOR CONTRASTING INHIBITION AND INTERFERENCE. INH>INT\n",
    "java -cp GingerALE.jar org.brainmap.meta.getALE2Contrast \\\n",
    "contrastInhibitionOutput_ALE.nii contrastInterferenceOutput_ALE.nii _ALE_pooled.nii \\\n",
    "-mask=MNI_wb.nii -nonadd"
   ]
  },
  {
   "cell_type": "code",
   "execution_count": null,
   "metadata": {},
   "outputs": [],
   "source": []
  }
 ],
 "metadata": {
  "kernelspec": {
   "display_name": "Python 3",
   "language": "python",
   "name": "python3"
  },
  "language_info": {
   "codemirror_mode": {
    "name": "ipython",
    "version": 3
   },
   "file_extension": ".py",
   "mimetype": "text/x-python",
   "name": "python",
   "nbconvert_exporter": "python",
   "pygments_lexer": "ipython3",
   "version": "3.6.10"
  },
  "toc": {
   "base_numbering": 1,
   "nav_menu": {},
   "number_sections": true,
   "sideBar": true,
   "skip_h1_title": false,
   "title_cell": "Table of Contents",
   "title_sidebar": "Contents",
   "toc_cell": false,
   "toc_position": {},
   "toc_section_display": true,
   "toc_window_display": false
  }
 },
 "nbformat": 4,
 "nbformat_minor": 4
}
