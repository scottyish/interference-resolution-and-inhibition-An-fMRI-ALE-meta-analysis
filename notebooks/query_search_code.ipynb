{
 "cells": [
  {
   "cell_type": "markdown",
   "metadata": {},
   "source": [
    "# Inhibition and Interference in the deep brain\n",
    "\n",
    "### Code for lit. searches and meta-analytical statistics"
   ]
  },
  {
   "cell_type": "code",
   "execution_count": 1,
   "metadata": {},
   "outputs": [],
   "source": [
    "import sys\n",
    "import os\n",
    "from os.path import join as opj\n",
    "import pandas as pd\n",
    "import numpy as np\n",
    "from docx import Document\n",
    "import pymed as pm # for pubmed querying\n",
    "from Bio import Entrez\n",
    "import neurosynth as ns # for neurosynth querying (still in development phase [caution!])\n",
    "#import pygraphviz as pgv\n",
    "import pydot\n"
   ]
  },
  {
   "cell_type": "code",
   "execution_count": 2,
   "metadata": {},
   "outputs": [
    {
     "data": {
      "text/html": [
       "<style>.container { width:95% !important; }</style>"
      ],
      "text/plain": [
       "<IPython.core.display.HTML object>"
      ]
     },
     "metadata": {},
     "output_type": "display_data"
    }
   ],
   "source": [
    "# change width of notebook\n",
    "from IPython.core.display import display, HTML\n",
    "display(HTML(\"<style>.container { width:95% !important; }</style>\"))\n",
    "\n",
    "# change max row pandas will spit out\n",
    "pd.set_option('display.max_rows', 5000)"
   ]
  },
  {
   "cell_type": "code",
   "execution_count": 31,
   "metadata": {},
   "outputs": [],
   "source": [
    "# define some random necessary parameters\n",
    "email = 'scottifict@gmail.com'\n",
    "Entrez.email = email"
   ]
  },
  {
   "cell_type": "markdown",
   "metadata": {},
   "source": [
    "Define keywords"
   ]
  },
  {
   "cell_type": "code",
   "execution_count": 32,
   "metadata": {},
   "outputs": [],
   "source": [
    "# set keyword arguments for pubmed\n",
    "keyword_arguments = [[\"interference\",\n",
    "                      \"interference control\",\n",
    "                      \"conflict\",\n",
    "                      \"conflict control\",\n",
    "                      \"cognitive control\", \n",
    "                      \"stroop\",\n",
    "                      \"simon\",\n",
    "                      \"flanker\",\n",
    "                      \"stop-signal\",\n",
    "                      \"stop signal\",\n",
    "                      \"stop task\",\n",
    "                      \"stop-signal reaction time\",\n",
    "                      \"stop signal reaction time\",\n",
    "                      \"go/no go\",\n",
    "                      \"go no go\",\n",
    "                      \"go-no go\",\n",
    "                      \"go/nogo\",\n",
    "                      \"go/no-go\",\n",
    "                      \"go-no-go\",\n",
    "                      \"selective inhibition\",\n",
    "                      \"global inhibition\",\n",
    "                      \"inhibition\",\n",
    "                      \"response inhibition\",\n",
    "                      \"inhibitory control\",\n",
    "                      \"multi source interference task\",\n",
    "                      \"msit\",\n",
    "                      \"multi-source interference task\"],\n",
    "                      [\"fmri\", \"functional mri\", \"functional magnetic resonance imaging\"]]"
   ]
  },
  {
   "cell_type": "code",
   "execution_count": 33,
   "metadata": {},
   "outputs": [],
   "source": [
    "# Neurosynth already uses only fmri data, so just pass it keyword_arguments[0]\n",
    "neurosynth_keywords = keyword_arguments[0]"
   ]
  },
  {
   "cell_type": "markdown",
   "metadata": {},
   "source": [
    "# Separate by search engine (Phase 1)"
   ]
  },
  {
   "cell_type": "markdown",
   "metadata": {},
   "source": [
    "Notes:\n",
    "    \n",
    "Because PubMed does not necessarily use the query terms that you pass it, we will first use the Bio.Entrez module to query search PubMed and compare the actual searched query to the original qurery that we inputted. Then, we can extract the PubMed IDs that Entrez finds, and use this to accurately find the articles of interest. \n",
    "\n",
    "run code to list attributes of records output:\n",
    "for record in records:\n",
    "    print(record)\n",
    "\n",
    "Info to save for flowchart showing search method: 1) number of total pm articles found for all keywords, 2) number of pm articles found after duplciates removed, 3) number of total neurosynth articles found for all keywords 4) number of neurosynth articles found after duplciates removed 5) total number of ns and pm articles to read abstracts of in phase 1\n",
    "\n",
    "Summary:\n",
    "\n",
    "1) Using Entrez, extract PMIDs for articles of interest\n",
    "\n",
    "2) Using Pymed, download abstracts and output to excel docs"
   ]
  },
  {
   "cell_type": "markdown",
   "metadata": {},
   "source": [
    "### Attempt new verion using bio.entrez instead of pymed"
   ]
  },
  {
   "cell_type": "code",
   "execution_count": 34,
   "metadata": {},
   "outputs": [],
   "source": [
    "# Set the saving directory for all pubmed data\n",
    "save_dir = opj(os.getcwd(), 'query_results/pubmed_results')"
   ]
  },
  {
   "cell_type": "code",
   "execution_count": 39,
   "metadata": {
    "scrolled": true
   },
   "outputs": [
    {
     "name": "stdout",
     "output_type": "stream",
     "text": [
      "Query search for interference fmri argument found 2672 articles\n",
      "original search term was interference fmri, the used search term was interference[All Fields] AND (\"magnetic resonance imaging\"[MeSH Terms] OR (\"magnetic\"[All Fields] AND \"resonance\"[All Fields] AND \"imaging\"[All Fields]) OR \"magnetic resonance imaging\"[All Fields] OR \"fmri\"[All Fields])\n",
      "\n",
      "Query search for interference functional mri argument found 2643 articles\n",
      "original search term was interference functional mri, the used search term was interference[All Fields] AND (\"magnetic resonance imaging\"[MeSH Terms] OR (\"magnetic\"[All Fields] AND \"resonance\"[All Fields] AND \"imaging\"[All Fields]) OR \"magnetic resonance imaging\"[All Fields] OR (\"functional\"[All Fields] AND \"mri\"[All Fields]) OR \"functional mri\"[All Fields])\n",
      "\n",
      "Query search for interference functional magnetic resonance imaging argument found 2595 articles\n",
      "original search term was interference functional magnetic resonance imaging, the used search term was interference[All Fields] AND (\"magnetic resonance imaging\"[MeSH Terms] OR (\"magnetic\"[All Fields] AND \"resonance\"[All Fields] AND \"imaging\"[All Fields]) OR \"magnetic resonance imaging\"[All Fields] OR (\"functional\"[All Fields] AND \"magnetic\"[All Fields] AND \"resonance\"[All Fields] AND \"imaging\"[All Fields]) OR \"functional magnetic resonance imaging\"[All Fields])\n",
      "\n",
      "Query search for interference control fmri argument found 766 articles\n",
      "original search term was interference control fmri, the used search term was interference[All Fields] AND (\"prevention and control\"[Subheading] OR (\"prevention\"[All Fields] AND \"control\"[All Fields]) OR \"prevention and control\"[All Fields] OR \"control\"[All Fields] OR \"control groups\"[MeSH Terms] OR (\"control\"[All Fields] AND \"groups\"[All Fields]) OR \"control groups\"[All Fields]) AND (\"magnetic resonance imaging\"[MeSH Terms] OR (\"magnetic\"[All Fields] AND \"resonance\"[All Fields] AND \"imaging\"[All Fields]) OR \"magnetic resonance imaging\"[All Fields] OR \"fmri\"[All Fields])\n",
      "\n",
      "Query search for interference control functional mri argument found 739 articles\n",
      "original search term was interference control functional mri, the used search term was interference[All Fields] AND (\"prevention and control\"[Subheading] OR (\"prevention\"[All Fields] AND \"control\"[All Fields]) OR \"prevention and control\"[All Fields] OR \"control\"[All Fields] OR \"control groups\"[MeSH Terms] OR (\"control\"[All Fields] AND \"groups\"[All Fields]) OR \"control groups\"[All Fields]) AND (\"magnetic resonance imaging\"[MeSH Terms] OR (\"magnetic\"[All Fields] AND \"resonance\"[All Fields] AND \"imaging\"[All Fields]) OR \"magnetic resonance imaging\"[All Fields] OR (\"functional\"[All Fields] AND \"mri\"[All Fields]) OR \"functional mri\"[All Fields])\n",
      "\n",
      "Query search for interference control functional magnetic resonance imaging argument found 725 articles\n",
      "original search term was interference control functional magnetic resonance imaging, the used search term was interference[All Fields] AND (\"prevention and control\"[Subheading] OR (\"prevention\"[All Fields] AND \"control\"[All Fields]) OR \"prevention and control\"[All Fields] OR \"control\"[All Fields] OR \"control groups\"[MeSH Terms] OR (\"control\"[All Fields] AND \"groups\"[All Fields]) OR \"control groups\"[All Fields]) AND (\"magnetic resonance imaging\"[MeSH Terms] OR (\"magnetic\"[All Fields] AND \"resonance\"[All Fields] AND \"imaging\"[All Fields]) OR \"magnetic resonance imaging\"[All Fields] OR (\"functional\"[All Fields] AND \"magnetic\"[All Fields] AND \"resonance\"[All Fields] AND \"imaging\"[All Fields]) OR \"functional magnetic resonance imaging\"[All Fields])\n",
      "\n",
      "Query search for conflict fmri argument found 4305 articles\n",
      "original search term was conflict fmri, the used search term was (\"conflict, psychological\"[MeSH Terms] OR (\"conflict\"[All Fields] AND \"psychological\"[All Fields]) OR \"psychological conflict\"[All Fields] OR \"conflict\"[All Fields]) AND (\"magnetic resonance imaging\"[MeSH Terms] OR (\"magnetic\"[All Fields] AND \"resonance\"[All Fields] AND \"imaging\"[All Fields]) OR \"magnetic resonance imaging\"[All Fields] OR \"fmri\"[All Fields])\n",
      "\n",
      "Query search for conflict functional mri argument found 4212 articles\n",
      "original search term was conflict functional mri, the used search term was (\"conflict, psychological\"[MeSH Terms] OR (\"conflict\"[All Fields] AND \"psychological\"[All Fields]) OR \"psychological conflict\"[All Fields] OR \"conflict\"[All Fields]) AND (\"magnetic resonance imaging\"[MeSH Terms] OR (\"magnetic\"[All Fields] AND \"resonance\"[All Fields] AND \"imaging\"[All Fields]) OR \"magnetic resonance imaging\"[All Fields] OR (\"functional\"[All Fields] AND \"mri\"[All Fields]) OR \"functional mri\"[All Fields])\n",
      "\n",
      "Query search for conflict functional magnetic resonance imaging argument found 4121 articles\n",
      "original search term was conflict functional magnetic resonance imaging, the used search term was (\"conflict, psychological\"[MeSH Terms] OR (\"conflict\"[All Fields] AND \"psychological\"[All Fields]) OR \"psychological conflict\"[All Fields] OR \"conflict\"[All Fields]) AND (\"magnetic resonance imaging\"[MeSH Terms] OR (\"magnetic\"[All Fields] AND \"resonance\"[All Fields] AND \"imaging\"[All Fields]) OR \"magnetic resonance imaging\"[All Fields] OR (\"functional\"[All Fields] AND \"magnetic\"[All Fields] AND \"resonance\"[All Fields] AND \"imaging\"[All Fields]) OR \"functional magnetic resonance imaging\"[All Fields])\n",
      "\n",
      "Query search for conflict control fmri argument found 962 articles\n",
      "original search term was conflict control fmri, the used search term was (\"conflict, psychological\"[MeSH Terms] OR (\"conflict\"[All Fields] AND \"psychological\"[All Fields]) OR \"psychological conflict\"[All Fields] OR \"conflict\"[All Fields]) AND (\"prevention and control\"[Subheading] OR (\"prevention\"[All Fields] AND \"control\"[All Fields]) OR \"prevention and control\"[All Fields] OR \"control\"[All Fields] OR \"control groups\"[MeSH Terms] OR (\"control\"[All Fields] AND \"groups\"[All Fields]) OR \"control groups\"[All Fields]) AND (\"magnetic resonance imaging\"[MeSH Terms] OR (\"magnetic\"[All Fields] AND \"resonance\"[All Fields] AND \"imaging\"[All Fields]) OR \"magnetic resonance imaging\"[All Fields] OR \"fmri\"[All Fields])\n",
      "\n",
      "Query search for conflict control functional mri argument found 900 articles\n",
      "original search term was conflict control functional mri, the used search term was (\"conflict, psychological\"[MeSH Terms] OR (\"conflict\"[All Fields] AND \"psychological\"[All Fields]) OR \"psychological conflict\"[All Fields] OR \"conflict\"[All Fields]) AND (\"prevention and control\"[Subheading] OR (\"prevention\"[All Fields] AND \"control\"[All Fields]) OR \"prevention and control\"[All Fields] OR \"control\"[All Fields] OR \"control groups\"[MeSH Terms] OR (\"control\"[All Fields] AND \"groups\"[All Fields]) OR \"control groups\"[All Fields]) AND (\"magnetic resonance imaging\"[MeSH Terms] OR (\"magnetic\"[All Fields] AND \"resonance\"[All Fields] AND \"imaging\"[All Fields]) OR \"magnetic resonance imaging\"[All Fields] OR (\"functional\"[All Fields] AND \"mri\"[All Fields]) OR \"functional mri\"[All Fields])\n",
      "\n",
      "Query search for conflict control functional magnetic resonance imaging argument found 883 articles\n",
      "original search term was conflict control functional magnetic resonance imaging, the used search term was (\"conflict, psychological\"[MeSH Terms] OR (\"conflict\"[All Fields] AND \"psychological\"[All Fields]) OR \"psychological conflict\"[All Fields] OR \"conflict\"[All Fields]) AND (\"prevention and control\"[Subheading] OR (\"prevention\"[All Fields] AND \"control\"[All Fields]) OR \"prevention and control\"[All Fields] OR \"control\"[All Fields] OR \"control groups\"[MeSH Terms] OR (\"control\"[All Fields] AND \"groups\"[All Fields]) OR \"control groups\"[All Fields]) AND (\"magnetic resonance imaging\"[MeSH Terms] OR (\"magnetic\"[All Fields] AND \"resonance\"[All Fields] AND \"imaging\"[All Fields]) OR \"magnetic resonance imaging\"[All Fields] OR (\"functional\"[All Fields] AND \"magnetic\"[All Fields] AND \"resonance\"[All Fields] AND \"imaging\"[All Fields]) OR \"functional magnetic resonance imaging\"[All Fields])\n",
      "\n",
      "Query search for cognitive control fmri argument found 11363 articles\n",
      "original search term was cognitive control fmri, the used search term was (\"Cogn Int Conf Adv Cogn Technol Appl\"[Journal] OR \"cognitive\"[All Fields]) AND (\"prevention and control\"[Subheading] OR (\"prevention\"[All Fields] AND \"control\"[All Fields]) OR \"prevention and control\"[All Fields] OR \"control\"[All Fields] OR \"control groups\"[MeSH Terms] OR (\"control\"[All Fields] AND \"groups\"[All Fields]) OR \"control groups\"[All Fields]) AND (\"magnetic resonance imaging\"[MeSH Terms] OR (\"magnetic\"[All Fields] AND \"resonance\"[All Fields] AND \"imaging\"[All Fields]) OR \"magnetic resonance imaging\"[All Fields] OR \"fmri\"[All Fields])\n",
      "\n"
     ]
    },
    {
     "name": "stdout",
     "output_type": "stream",
     "text": [
      "Query search for cognitive control functional mri argument found 11014 articles\n",
      "original search term was cognitive control functional mri, the used search term was (\"Cogn Int Conf Adv Cogn Technol Appl\"[Journal] OR \"cognitive\"[All Fields]) AND (\"prevention and control\"[Subheading] OR (\"prevention\"[All Fields] AND \"control\"[All Fields]) OR \"prevention and control\"[All Fields] OR \"control\"[All Fields] OR \"control groups\"[MeSH Terms] OR (\"control\"[All Fields] AND \"groups\"[All Fields]) OR \"control groups\"[All Fields]) AND (\"magnetic resonance imaging\"[MeSH Terms] OR (\"magnetic\"[All Fields] AND \"resonance\"[All Fields] AND \"imaging\"[All Fields]) OR \"magnetic resonance imaging\"[All Fields] OR (\"functional\"[All Fields] AND \"mri\"[All Fields]) OR \"functional mri\"[All Fields])\n",
      "\n",
      "Query search for cognitive control functional magnetic resonance imaging argument found 10699 articles\n",
      "original search term was cognitive control functional magnetic resonance imaging, the used search term was (\"Cogn Int Conf Adv Cogn Technol Appl\"[Journal] OR \"cognitive\"[All Fields]) AND (\"prevention and control\"[Subheading] OR (\"prevention\"[All Fields] AND \"control\"[All Fields]) OR \"prevention and control\"[All Fields] OR \"control\"[All Fields] OR \"control groups\"[MeSH Terms] OR (\"control\"[All Fields] AND \"groups\"[All Fields]) OR \"control groups\"[All Fields]) AND (\"magnetic resonance imaging\"[MeSH Terms] OR (\"magnetic\"[All Fields] AND \"resonance\"[All Fields] AND \"imaging\"[All Fields]) OR \"magnetic resonance imaging\"[All Fields] OR (\"functional\"[All Fields] AND \"magnetic\"[All Fields] AND \"resonance\"[All Fields] AND \"imaging\"[All Fields]) OR \"functional magnetic resonance imaging\"[All Fields])\n",
      "\n",
      "Query search for stroop fmri argument found 1034 articles\n",
      "original search term was stroop fmri, the used search term was stroop[All Fields] AND (\"magnetic resonance imaging\"[MeSH Terms] OR (\"magnetic\"[All Fields] AND \"resonance\"[All Fields] AND \"imaging\"[All Fields]) OR \"magnetic resonance imaging\"[All Fields] OR \"fmri\"[All Fields])\n",
      "\n",
      "Query search for stroop functional mri argument found 994 articles\n",
      "original search term was stroop functional mri, the used search term was stroop[All Fields] AND (\"magnetic resonance imaging\"[MeSH Terms] OR (\"magnetic\"[All Fields] AND \"resonance\"[All Fields] AND \"imaging\"[All Fields]) OR \"magnetic resonance imaging\"[All Fields] OR (\"functional\"[All Fields] AND \"mri\"[All Fields]) OR \"functional mri\"[All Fields])\n",
      "\n",
      "Query search for stroop functional magnetic resonance imaging argument found 975 articles\n",
      "original search term was stroop functional magnetic resonance imaging, the used search term was stroop[All Fields] AND (\"magnetic resonance imaging\"[MeSH Terms] OR (\"magnetic\"[All Fields] AND \"resonance\"[All Fields] AND \"imaging\"[All Fields]) OR \"magnetic resonance imaging\"[All Fields] OR (\"functional\"[All Fields] AND \"magnetic\"[All Fields] AND \"resonance\"[All Fields] AND \"imaging\"[All Fields]) OR \"functional magnetic resonance imaging\"[All Fields])\n",
      "\n",
      "Query search for simon fmri argument found 1441 articles\n",
      "original search term was simon fmri, the used search term was simon[All Fields] AND (\"magnetic resonance imaging\"[MeSH Terms] OR (\"magnetic\"[All Fields] AND \"resonance\"[All Fields] AND \"imaging\"[All Fields]) OR \"magnetic resonance imaging\"[All Fields] OR \"fmri\"[All Fields])\n",
      "\n",
      "Query search for simon functional mri argument found 1424 articles\n",
      "original search term was simon functional mri, the used search term was simon[All Fields] AND (\"magnetic resonance imaging\"[MeSH Terms] OR (\"magnetic\"[All Fields] AND \"resonance\"[All Fields] AND \"imaging\"[All Fields]) OR \"magnetic resonance imaging\"[All Fields] OR (\"functional\"[All Fields] AND \"mri\"[All Fields]) OR \"functional mri\"[All Fields])\n",
      "\n",
      "Query search for simon functional magnetic resonance imaging argument found 1407 articles\n",
      "original search term was simon functional magnetic resonance imaging, the used search term was simon[All Fields] AND (\"magnetic resonance imaging\"[MeSH Terms] OR (\"magnetic\"[All Fields] AND \"resonance\"[All Fields] AND \"imaging\"[All Fields]) OR \"magnetic resonance imaging\"[All Fields] OR (\"functional\"[All Fields] AND \"magnetic\"[All Fields] AND \"resonance\"[All Fields] AND \"imaging\"[All Fields]) OR \"functional magnetic resonance imaging\"[All Fields])\n",
      "\n",
      "Query search for flanker fmri argument found 201 articles\n",
      "original search term was flanker fmri, the used search term was flanker[All Fields] AND (\"magnetic resonance imaging\"[MeSH Terms] OR (\"magnetic\"[All Fields] AND \"resonance\"[All Fields] AND \"imaging\"[All Fields]) OR \"magnetic resonance imaging\"[All Fields] OR \"fmri\"[All Fields])\n",
      "\n",
      "Query search for flanker functional mri argument found 190 articles\n",
      "original search term was flanker functional mri, the used search term was flanker[All Fields] AND (\"magnetic resonance imaging\"[MeSH Terms] OR (\"magnetic\"[All Fields] AND \"resonance\"[All Fields] AND \"imaging\"[All Fields]) OR \"magnetic resonance imaging\"[All Fields] OR (\"functional\"[All Fields] AND \"mri\"[All Fields]) OR \"functional mri\"[All Fields])\n",
      "\n",
      "Query search for flanker functional magnetic resonance imaging argument found 186 articles\n",
      "original search term was flanker functional magnetic resonance imaging, the used search term was flanker[All Fields] AND (\"magnetic resonance imaging\"[MeSH Terms] OR (\"magnetic\"[All Fields] AND \"resonance\"[All Fields] AND \"imaging\"[All Fields]) OR \"magnetic resonance imaging\"[All Fields] OR (\"functional\"[All Fields] AND \"magnetic\"[All Fields] AND \"resonance\"[All Fields] AND \"imaging\"[All Fields]) OR \"functional magnetic resonance imaging\"[All Fields])\n",
      "\n",
      "Query search for stop-signal fmri argument found 346 articles\n",
      "original search term was stop-signal fmri, the used search term was stop-signal[All Fields] AND (\"magnetic resonance imaging\"[MeSH Terms] OR (\"magnetic\"[All Fields] AND \"resonance\"[All Fields] AND \"imaging\"[All Fields]) OR \"magnetic resonance imaging\"[All Fields] OR \"fmri\"[All Fields])\n",
      "\n",
      "Query search for stop-signal functional mri argument found 324 articles\n",
      "original search term was stop-signal functional mri, the used search term was stop-signal[All Fields] AND (\"magnetic resonance imaging\"[MeSH Terms] OR (\"magnetic\"[All Fields] AND \"resonance\"[All Fields] AND \"imaging\"[All Fields]) OR \"magnetic resonance imaging\"[All Fields] OR (\"functional\"[All Fields] AND \"mri\"[All Fields]) OR \"functional mri\"[All Fields])\n",
      "\n",
      "Query search for stop-signal functional magnetic resonance imaging argument found 317 articles\n",
      "original search term was stop-signal functional magnetic resonance imaging, the used search term was stop-signal[All Fields] AND (\"magnetic resonance imaging\"[MeSH Terms] OR (\"magnetic\"[All Fields] AND \"resonance\"[All Fields] AND \"imaging\"[All Fields]) OR \"magnetic resonance imaging\"[All Fields] OR (\"functional\"[All Fields] AND \"magnetic\"[All Fields] AND \"resonance\"[All Fields] AND \"imaging\"[All Fields]) OR \"functional magnetic resonance imaging\"[All Fields])\n",
      "\n",
      "Query search for stop signal fmri argument found 427 articles\n",
      "original search term was stop signal fmri, the used search term was stop[All Fields] AND signal[All Fields] AND (\"magnetic resonance imaging\"[MeSH Terms] OR (\"magnetic\"[All Fields] AND \"resonance\"[All Fields] AND \"imaging\"[All Fields]) OR \"magnetic resonance imaging\"[All Fields] OR \"fmri\"[All Fields])\n",
      "\n",
      "Query search for stop signal functional mri argument found 404 articles\n",
      "original search term was stop signal functional mri, the used search term was stop[All Fields] AND signal[All Fields] AND (\"magnetic resonance imaging\"[MeSH Terms] OR (\"magnetic\"[All Fields] AND \"resonance\"[All Fields] AND \"imaging\"[All Fields]) OR \"magnetic resonance imaging\"[All Fields] OR (\"functional\"[All Fields] AND \"mri\"[All Fields]) OR \"functional mri\"[All Fields])\n",
      "\n",
      "Query search for stop signal functional magnetic resonance imaging argument found 397 articles\n",
      "original search term was stop signal functional magnetic resonance imaging, the used search term was stop[All Fields] AND signal[All Fields] AND (\"magnetic resonance imaging\"[MeSH Terms] OR (\"magnetic\"[All Fields] AND \"resonance\"[All Fields] AND \"imaging\"[All Fields]) OR \"magnetic resonance imaging\"[All Fields] OR (\"functional\"[All Fields] AND \"magnetic\"[All Fields] AND \"resonance\"[All Fields] AND \"imaging\"[All Fields]) OR \"functional magnetic resonance imaging\"[All Fields])\n",
      "\n"
     ]
    },
    {
     "name": "stdout",
     "output_type": "stream",
     "text": [
      "Query search for stop task fmri argument found 420 articles\n",
      "original search term was stop task fmri, the used search term was stop[All Fields] AND task[All Fields] AND (\"magnetic resonance imaging\"[MeSH Terms] OR (\"magnetic\"[All Fields] AND \"resonance\"[All Fields] AND \"imaging\"[All Fields]) OR \"magnetic resonance imaging\"[All Fields] OR \"fmri\"[All Fields])\n",
      "\n",
      "Query search for stop task functional mri argument found 398 articles\n",
      "original search term was stop task functional mri, the used search term was stop[All Fields] AND task[All Fields] AND (\"magnetic resonance imaging\"[MeSH Terms] OR (\"magnetic\"[All Fields] AND \"resonance\"[All Fields] AND \"imaging\"[All Fields]) OR \"magnetic resonance imaging\"[All Fields] OR (\"functional\"[All Fields] AND \"mri\"[All Fields]) OR \"functional mri\"[All Fields])\n",
      "\n",
      "Query search for stop task functional magnetic resonance imaging argument found 389 articles\n",
      "original search term was stop task functional magnetic resonance imaging, the used search term was stop[All Fields] AND task[All Fields] AND (\"magnetic resonance imaging\"[MeSH Terms] OR (\"magnetic\"[All Fields] AND \"resonance\"[All Fields] AND \"imaging\"[All Fields]) OR \"magnetic resonance imaging\"[All Fields] OR (\"functional\"[All Fields] AND \"magnetic\"[All Fields] AND \"resonance\"[All Fields] AND \"imaging\"[All Fields]) OR \"functional magnetic resonance imaging\"[All Fields])\n",
      "\n",
      "Query search for stop-signal reaction time fmri argument found 175 articles\n",
      "original search term was stop-signal reaction time fmri, the used search term was stop-signal[All Fields] AND (\"reaction time\"[MeSH Terms] OR (\"reaction\"[All Fields] AND \"time\"[All Fields]) OR \"reaction time\"[All Fields]) AND (\"magnetic resonance imaging\"[MeSH Terms] OR (\"magnetic\"[All Fields] AND \"resonance\"[All Fields] AND \"imaging\"[All Fields]) OR \"magnetic resonance imaging\"[All Fields] OR \"fmri\"[All Fields])\n",
      "\n",
      "Query search for stop-signal reaction time functional mri argument found 170 articles\n",
      "original search term was stop-signal reaction time functional mri, the used search term was stop-signal[All Fields] AND (\"reaction time\"[MeSH Terms] OR (\"reaction\"[All Fields] AND \"time\"[All Fields]) OR \"reaction time\"[All Fields]) AND (\"magnetic resonance imaging\"[MeSH Terms] OR (\"magnetic\"[All Fields] AND \"resonance\"[All Fields] AND \"imaging\"[All Fields]) OR \"magnetic resonance imaging\"[All Fields] OR (\"functional\"[All Fields] AND \"mri\"[All Fields]) OR \"functional mri\"[All Fields])\n",
      "\n",
      "Query search for stop-signal reaction time functional magnetic resonance imaging argument found 167 articles\n",
      "original search term was stop-signal reaction time functional magnetic resonance imaging, the used search term was stop-signal[All Fields] AND (\"reaction time\"[MeSH Terms] OR (\"reaction\"[All Fields] AND \"time\"[All Fields]) OR \"reaction time\"[All Fields]) AND (\"magnetic resonance imaging\"[MeSH Terms] OR (\"magnetic\"[All Fields] AND \"resonance\"[All Fields] AND \"imaging\"[All Fields]) OR \"magnetic resonance imaging\"[All Fields] OR (\"functional\"[All Fields] AND \"magnetic\"[All Fields] AND \"resonance\"[All Fields] AND \"imaging\"[All Fields]) OR \"functional magnetic resonance imaging\"[All Fields])\n",
      "\n",
      "Query search for stop signal reaction time fmri argument found 181 articles\n",
      "original search term was stop signal reaction time fmri, the used search term was stop[All Fields] AND signal[All Fields] AND (\"reaction time\"[MeSH Terms] OR (\"reaction\"[All Fields] AND \"time\"[All Fields]) OR \"reaction time\"[All Fields]) AND (\"magnetic resonance imaging\"[MeSH Terms] OR (\"magnetic\"[All Fields] AND \"resonance\"[All Fields] AND \"imaging\"[All Fields]) OR \"magnetic resonance imaging\"[All Fields] OR \"fmri\"[All Fields])\n",
      "\n",
      "Query search for stop signal reaction time functional mri argument found 176 articles\n",
      "original search term was stop signal reaction time functional mri, the used search term was stop[All Fields] AND signal[All Fields] AND (\"reaction time\"[MeSH Terms] OR (\"reaction\"[All Fields] AND \"time\"[All Fields]) OR \"reaction time\"[All Fields]) AND (\"magnetic resonance imaging\"[MeSH Terms] OR (\"magnetic\"[All Fields] AND \"resonance\"[All Fields] AND \"imaging\"[All Fields]) OR \"magnetic resonance imaging\"[All Fields] OR (\"functional\"[All Fields] AND \"mri\"[All Fields]) OR \"functional mri\"[All Fields])\n",
      "\n",
      "Query search for stop signal reaction time functional magnetic resonance imaging argument found 173 articles\n",
      "original search term was stop signal reaction time functional magnetic resonance imaging, the used search term was stop[All Fields] AND signal[All Fields] AND (\"reaction time\"[MeSH Terms] OR (\"reaction\"[All Fields] AND \"time\"[All Fields]) OR \"reaction time\"[All Fields]) AND (\"magnetic resonance imaging\"[MeSH Terms] OR (\"magnetic\"[All Fields] AND \"resonance\"[All Fields] AND \"imaging\"[All Fields]) OR \"magnetic resonance imaging\"[All Fields] OR (\"functional\"[All Fields] AND \"magnetic\"[All Fields] AND \"resonance\"[All Fields] AND \"imaging\"[All Fields]) OR \"functional magnetic resonance imaging\"[All Fields])\n",
      "\n",
      "Query search for go/no go fmri argument found 410 articles\n",
      "original search term was go/no go fmri, the used search term was go/no[All Fields] AND go[All Fields] AND (\"magnetic resonance imaging\"[MeSH Terms] OR (\"magnetic\"[All Fields] AND \"resonance\"[All Fields] AND \"imaging\"[All Fields]) OR \"magnetic resonance imaging\"[All Fields] OR \"fmri\"[All Fields])\n",
      "\n",
      "Query search for go/no go functional mri argument found 383 articles\n",
      "original search term was go/no go functional mri, the used search term was go/no[All Fields] AND go[All Fields] AND (\"magnetic resonance imaging\"[MeSH Terms] OR (\"magnetic\"[All Fields] AND \"resonance\"[All Fields] AND \"imaging\"[All Fields]) OR \"magnetic resonance imaging\"[All Fields] OR (\"functional\"[All Fields] AND \"mri\"[All Fields]) OR \"functional mri\"[All Fields])\n",
      "\n",
      "Query search for go/no go functional magnetic resonance imaging argument found 374 articles\n",
      "original search term was go/no go functional magnetic resonance imaging, the used search term was go/no[All Fields] AND go[All Fields] AND (\"magnetic resonance imaging\"[MeSH Terms] OR (\"magnetic\"[All Fields] AND \"resonance\"[All Fields] AND \"imaging\"[All Fields]) OR \"magnetic resonance imaging\"[All Fields] OR (\"functional\"[All Fields] AND \"magnetic\"[All Fields] AND \"resonance\"[All Fields] AND \"imaging\"[All Fields]) OR \"functional magnetic resonance imaging\"[All Fields])\n",
      "\n",
      "Query search for go no go fmri argument found 3002 articles\n",
      "original search term was go no go fmri, the used search term was go[All Fields] AND go[All Fields] AND (\"magnetic resonance imaging\"[MeSH Terms] OR (\"magnetic\"[All Fields] AND \"resonance\"[All Fields] AND \"imaging\"[All Fields]) OR \"magnetic resonance imaging\"[All Fields] OR \"fmri\"[All Fields])\n",
      "\n",
      "Query search for go no go functional mri argument found 2957 articles\n",
      "original search term was go no go functional mri, the used search term was go[All Fields] AND go[All Fields] AND (\"magnetic resonance imaging\"[MeSH Terms] OR (\"magnetic\"[All Fields] AND \"resonance\"[All Fields] AND \"imaging\"[All Fields]) OR \"magnetic resonance imaging\"[All Fields] OR (\"functional\"[All Fields] AND \"mri\"[All Fields]) OR \"functional mri\"[All Fields])\n",
      "\n",
      "Query search for go no go functional magnetic resonance imaging argument found 2899 articles\n",
      "original search term was go no go functional magnetic resonance imaging, the used search term was go[All Fields] AND go[All Fields] AND (\"magnetic resonance imaging\"[MeSH Terms] OR (\"magnetic\"[All Fields] AND \"resonance\"[All Fields] AND \"imaging\"[All Fields]) OR \"magnetic resonance imaging\"[All Fields] OR (\"functional\"[All Fields] AND \"magnetic\"[All Fields] AND \"resonance\"[All Fields] AND \"imaging\"[All Fields]) OR \"functional magnetic resonance imaging\"[All Fields])\n",
      "\n",
      "Query search for go-no go fmri argument found 444 articles\n",
      "original search term was go-no go fmri, the used search term was go-no[All Fields] AND go[All Fields] AND (\"magnetic resonance imaging\"[MeSH Terms] OR (\"magnetic\"[All Fields] AND \"resonance\"[All Fields] AND \"imaging\"[All Fields]) OR \"magnetic resonance imaging\"[All Fields] OR \"fmri\"[All Fields])\n",
      "\n",
      "Query search for go-no go functional mri argument found 416 articles\n",
      "original search term was go-no go functional mri, the used search term was go-no[All Fields] AND go[All Fields] AND (\"magnetic resonance imaging\"[MeSH Terms] OR (\"magnetic\"[All Fields] AND \"resonance\"[All Fields] AND \"imaging\"[All Fields]) OR \"magnetic resonance imaging\"[All Fields] OR (\"functional\"[All Fields] AND \"mri\"[All Fields]) OR \"functional mri\"[All Fields])\n",
      "\n"
     ]
    },
    {
     "name": "stdout",
     "output_type": "stream",
     "text": [
      "Query search for go-no go functional magnetic resonance imaging argument found 407 articles\n",
      "original search term was go-no go functional magnetic resonance imaging, the used search term was go-no[All Fields] AND go[All Fields] AND (\"magnetic resonance imaging\"[MeSH Terms] OR (\"magnetic\"[All Fields] AND \"resonance\"[All Fields] AND \"imaging\"[All Fields]) OR \"magnetic resonance imaging\"[All Fields] OR (\"functional\"[All Fields] AND \"magnetic\"[All Fields] AND \"resonance\"[All Fields] AND \"imaging\"[All Fields]) OR \"functional magnetic resonance imaging\"[All Fields])\n",
      "\n",
      "Query search for go/nogo fmri argument found 183 articles\n",
      "original search term was go/nogo fmri, the used search term was go/nogo[All Fields] AND (\"magnetic resonance imaging\"[MeSH Terms] OR (\"magnetic\"[All Fields] AND \"resonance\"[All Fields] AND \"imaging\"[All Fields]) OR \"magnetic resonance imaging\"[All Fields] OR \"fmri\"[All Fields])\n",
      "\n",
      "Query search for go/nogo functional mri argument found 172 articles\n",
      "original search term was go/nogo functional mri, the used search term was go/nogo[All Fields] AND (\"magnetic resonance imaging\"[MeSH Terms] OR (\"magnetic\"[All Fields] AND \"resonance\"[All Fields] AND \"imaging\"[All Fields]) OR \"magnetic resonance imaging\"[All Fields] OR (\"functional\"[All Fields] AND \"mri\"[All Fields]) OR \"functional mri\"[All Fields])\n",
      "\n",
      "Query search for go/nogo functional magnetic resonance imaging argument found 171 articles\n",
      "original search term was go/nogo functional magnetic resonance imaging, the used search term was go/nogo[All Fields] AND (\"magnetic resonance imaging\"[MeSH Terms] OR (\"magnetic\"[All Fields] AND \"resonance\"[All Fields] AND \"imaging\"[All Fields]) OR \"magnetic resonance imaging\"[All Fields] OR (\"functional\"[All Fields] AND \"magnetic\"[All Fields] AND \"resonance\"[All Fields] AND \"imaging\"[All Fields]) OR \"functional magnetic resonance imaging\"[All Fields])\n",
      "\n",
      "Query search for go/no-go fmri argument found 410 articles\n",
      "original search term was go/no-go fmri, the used search term was go/no-go[All Fields] AND (\"magnetic resonance imaging\"[MeSH Terms] OR (\"magnetic\"[All Fields] AND \"resonance\"[All Fields] AND \"imaging\"[All Fields]) OR \"magnetic resonance imaging\"[All Fields] OR \"fmri\"[All Fields])\n",
      "\n",
      "Query search for go/no-go functional mri argument found 383 articles\n",
      "original search term was go/no-go functional mri, the used search term was go/no-go[All Fields] AND (\"magnetic resonance imaging\"[MeSH Terms] OR (\"magnetic\"[All Fields] AND \"resonance\"[All Fields] AND \"imaging\"[All Fields]) OR \"magnetic resonance imaging\"[All Fields] OR (\"functional\"[All Fields] AND \"mri\"[All Fields]) OR \"functional mri\"[All Fields])\n",
      "\n",
      "Query search for go/no-go functional magnetic resonance imaging argument found 374 articles\n",
      "original search term was go/no-go functional magnetic resonance imaging, the used search term was go/no-go[All Fields] AND (\"magnetic resonance imaging\"[MeSH Terms] OR (\"magnetic\"[All Fields] AND \"resonance\"[All Fields] AND \"imaging\"[All Fields]) OR \"magnetic resonance imaging\"[All Fields] OR (\"functional\"[All Fields] AND \"magnetic\"[All Fields] AND \"resonance\"[All Fields] AND \"imaging\"[All Fields]) OR \"functional magnetic resonance imaging\"[All Fields])\n",
      "\n",
      "Query search for go-no-go fmri argument found 442 articles\n",
      "original search term was go-no-go fmri, the used search term was go-no-go[All Fields] AND (\"magnetic resonance imaging\"[MeSH Terms] OR (\"magnetic\"[All Fields] AND \"resonance\"[All Fields] AND \"imaging\"[All Fields]) OR \"magnetic resonance imaging\"[All Fields] OR \"fmri\"[All Fields])\n",
      "\n",
      "Query search for go-no-go functional mri argument found 414 articles\n",
      "original search term was go-no-go functional mri, the used search term was go-no-go[All Fields] AND (\"magnetic resonance imaging\"[MeSH Terms] OR (\"magnetic\"[All Fields] AND \"resonance\"[All Fields] AND \"imaging\"[All Fields]) OR \"magnetic resonance imaging\"[All Fields] OR (\"functional\"[All Fields] AND \"mri\"[All Fields]) OR \"functional mri\"[All Fields])\n",
      "\n",
      "Query search for go-no-go functional magnetic resonance imaging argument found 405 articles\n",
      "original search term was go-no-go functional magnetic resonance imaging, the used search term was go-no-go[All Fields] AND (\"magnetic resonance imaging\"[MeSH Terms] OR (\"magnetic\"[All Fields] AND \"resonance\"[All Fields] AND \"imaging\"[All Fields]) OR \"magnetic resonance imaging\"[All Fields] OR (\"functional\"[All Fields] AND \"magnetic\"[All Fields] AND \"resonance\"[All Fields] AND \"imaging\"[All Fields]) OR \"functional magnetic resonance imaging\"[All Fields])\n",
      "\n",
      "Query search for selective inhibition fmri argument found 352 articles\n",
      "original search term was selective inhibition fmri, the used search term was selective[All Fields] AND (\"inhibition, psychological\"[MeSH Terms] OR (\"inhibition\"[All Fields] AND \"psychological\"[All Fields]) OR \"psychological inhibition\"[All Fields] OR \"inhibition\"[All Fields]) AND (\"magnetic resonance imaging\"[MeSH Terms] OR (\"magnetic\"[All Fields] AND \"resonance\"[All Fields] AND \"imaging\"[All Fields]) OR \"magnetic resonance imaging\"[All Fields] OR \"fmri\"[All Fields])\n",
      "\n",
      "Query search for selective inhibition functional mri argument found 344 articles\n",
      "original search term was selective inhibition functional mri, the used search term was selective[All Fields] AND (\"inhibition, psychological\"[MeSH Terms] OR (\"inhibition\"[All Fields] AND \"psychological\"[All Fields]) OR \"psychological inhibition\"[All Fields] OR \"inhibition\"[All Fields]) AND (\"magnetic resonance imaging\"[MeSH Terms] OR (\"magnetic\"[All Fields] AND \"resonance\"[All Fields] AND \"imaging\"[All Fields]) OR \"magnetic resonance imaging\"[All Fields] OR (\"functional\"[All Fields] AND \"mri\"[All Fields]) OR \"functional mri\"[All Fields])\n",
      "\n",
      "Query search for selective inhibition functional magnetic resonance imaging argument found 335 articles\n",
      "original search term was selective inhibition functional magnetic resonance imaging, the used search term was selective[All Fields] AND (\"inhibition, psychological\"[MeSH Terms] OR (\"inhibition\"[All Fields] AND \"psychological\"[All Fields]) OR \"psychological inhibition\"[All Fields] OR \"inhibition\"[All Fields]) AND (\"magnetic resonance imaging\"[MeSH Terms] OR (\"magnetic\"[All Fields] AND \"resonance\"[All Fields] AND \"imaging\"[All Fields]) OR \"magnetic resonance imaging\"[All Fields] OR (\"functional\"[All Fields] AND \"magnetic\"[All Fields] AND \"resonance\"[All Fields] AND \"imaging\"[All Fields]) OR \"functional magnetic resonance imaging\"[All Fields])\n",
      "\n",
      "Query search for global inhibition fmri argument found 145 articles\n",
      "original search term was global inhibition fmri, the used search term was (\"Glob Impacts\"[Journal] OR \"global\"[All Fields]) AND (\"inhibition, psychological\"[MeSH Terms] OR (\"inhibition\"[All Fields] AND \"psychological\"[All Fields]) OR \"psychological inhibition\"[All Fields] OR \"inhibition\"[All Fields]) AND (\"magnetic resonance imaging\"[MeSH Terms] OR (\"magnetic\"[All Fields] AND \"resonance\"[All Fields] AND \"imaging\"[All Fields]) OR \"magnetic resonance imaging\"[All Fields] OR \"fmri\"[All Fields])\n",
      "\n",
      "Query search for global inhibition functional mri argument found 140 articles\n",
      "original search term was global inhibition functional mri, the used search term was (\"Glob Impacts\"[Journal] OR \"global\"[All Fields]) AND (\"inhibition, psychological\"[MeSH Terms] OR (\"inhibition\"[All Fields] AND \"psychological\"[All Fields]) OR \"psychological inhibition\"[All Fields] OR \"inhibition\"[All Fields]) AND (\"magnetic resonance imaging\"[MeSH Terms] OR (\"magnetic\"[All Fields] AND \"resonance\"[All Fields] AND \"imaging\"[All Fields]) OR \"magnetic resonance imaging\"[All Fields] OR (\"functional\"[All Fields] AND \"mri\"[All Fields]) OR \"functional mri\"[All Fields])\n",
      "\n",
      "Query search for global inhibition functional magnetic resonance imaging argument found 138 articles\n",
      "original search term was global inhibition functional magnetic resonance imaging, the used search term was (\"Glob Impacts\"[Journal] OR \"global\"[All Fields]) AND (\"inhibition, psychological\"[MeSH Terms] OR (\"inhibition\"[All Fields] AND \"psychological\"[All Fields]) OR \"psychological inhibition\"[All Fields] OR \"inhibition\"[All Fields]) AND (\"magnetic resonance imaging\"[MeSH Terms] OR (\"magnetic\"[All Fields] AND \"resonance\"[All Fields] AND \"imaging\"[All Fields]) OR \"magnetic resonance imaging\"[All Fields] OR (\"functional\"[All Fields] AND \"magnetic\"[All Fields] AND \"resonance\"[All Fields] AND \"imaging\"[All Fields]) OR \"functional magnetic resonance imaging\"[All Fields])\n",
      "\n"
     ]
    },
    {
     "name": "stdout",
     "output_type": "stream",
     "text": [
      "Query search for inhibition fmri argument found 5237 articles\n",
      "original search term was inhibition fmri, the used search term was (\"inhibition, psychological\"[MeSH Terms] OR (\"inhibition\"[All Fields] AND \"psychological\"[All Fields]) OR \"psychological inhibition\"[All Fields] OR \"inhibition\"[All Fields]) AND (\"magnetic resonance imaging\"[MeSH Terms] OR (\"magnetic\"[All Fields] AND \"resonance\"[All Fields] AND \"imaging\"[All Fields]) OR \"magnetic resonance imaging\"[All Fields] OR \"fmri\"[All Fields])\n",
      "\n",
      "Query search for inhibition functional mri argument found 5148 articles\n",
      "original search term was inhibition functional mri, the used search term was (\"inhibition, psychological\"[MeSH Terms] OR (\"inhibition\"[All Fields] AND \"psychological\"[All Fields]) OR \"psychological inhibition\"[All Fields] OR \"inhibition\"[All Fields]) AND (\"magnetic resonance imaging\"[MeSH Terms] OR (\"magnetic\"[All Fields] AND \"resonance\"[All Fields] AND \"imaging\"[All Fields]) OR \"magnetic resonance imaging\"[All Fields] OR (\"functional\"[All Fields] AND \"mri\"[All Fields]) OR \"functional mri\"[All Fields])\n",
      "\n",
      "Query search for inhibition functional magnetic resonance imaging argument found 4999 articles\n",
      "original search term was inhibition functional magnetic resonance imaging, the used search term was (\"inhibition, psychological\"[MeSH Terms] OR (\"inhibition\"[All Fields] AND \"psychological\"[All Fields]) OR \"psychological inhibition\"[All Fields] OR \"inhibition\"[All Fields]) AND (\"magnetic resonance imaging\"[MeSH Terms] OR (\"magnetic\"[All Fields] AND \"resonance\"[All Fields] AND \"imaging\"[All Fields]) OR \"magnetic resonance imaging\"[All Fields] OR (\"functional\"[All Fields] AND \"magnetic\"[All Fields] AND \"resonance\"[All Fields] AND \"imaging\"[All Fields]) OR \"functional magnetic resonance imaging\"[All Fields])\n",
      "\n",
      "Query search for response inhibition fmri argument found 2047 articles\n",
      "original search term was response inhibition fmri, the used search term was response[All Fields] AND (\"inhibition, psychological\"[MeSH Terms] OR (\"inhibition\"[All Fields] AND \"psychological\"[All Fields]) OR \"psychological inhibition\"[All Fields] OR \"inhibition\"[All Fields]) AND (\"magnetic resonance imaging\"[MeSH Terms] OR (\"magnetic\"[All Fields] AND \"resonance\"[All Fields] AND \"imaging\"[All Fields]) OR \"magnetic resonance imaging\"[All Fields] OR \"fmri\"[All Fields])\n",
      "\n",
      "Query search for response inhibition functional mri argument found 1992 articles\n",
      "original search term was response inhibition functional mri, the used search term was response[All Fields] AND (\"inhibition, psychological\"[MeSH Terms] OR (\"inhibition\"[All Fields] AND \"psychological\"[All Fields]) OR \"psychological inhibition\"[All Fields] OR \"inhibition\"[All Fields]) AND (\"magnetic resonance imaging\"[MeSH Terms] OR (\"magnetic\"[All Fields] AND \"resonance\"[All Fields] AND \"imaging\"[All Fields]) OR \"magnetic resonance imaging\"[All Fields] OR (\"functional\"[All Fields] AND \"mri\"[All Fields]) OR \"functional mri\"[All Fields])\n",
      "\n",
      "Query search for response inhibition functional magnetic resonance imaging argument found 1939 articles\n",
      "original search term was response inhibition functional magnetic resonance imaging, the used search term was response[All Fields] AND (\"inhibition, psychological\"[MeSH Terms] OR (\"inhibition\"[All Fields] AND \"psychological\"[All Fields]) OR \"psychological inhibition\"[All Fields] OR \"inhibition\"[All Fields]) AND (\"magnetic resonance imaging\"[MeSH Terms] OR (\"magnetic\"[All Fields] AND \"resonance\"[All Fields] AND \"imaging\"[All Fields]) OR \"magnetic resonance imaging\"[All Fields] OR (\"functional\"[All Fields] AND \"magnetic\"[All Fields] AND \"resonance\"[All Fields] AND \"imaging\"[All Fields]) OR \"functional magnetic resonance imaging\"[All Fields])\n",
      "\n",
      "Query search for inhibitory control fmri argument found 1292 articles\n",
      "original search term was inhibitory control fmri, the used search term was inhibitory[All Fields] AND (\"prevention and control\"[Subheading] OR (\"prevention\"[All Fields] AND \"control\"[All Fields]) OR \"prevention and control\"[All Fields] OR \"control\"[All Fields] OR \"control groups\"[MeSH Terms] OR (\"control\"[All Fields] AND \"groups\"[All Fields]) OR \"control groups\"[All Fields]) AND (\"magnetic resonance imaging\"[MeSH Terms] OR (\"magnetic\"[All Fields] AND \"resonance\"[All Fields] AND \"imaging\"[All Fields]) OR \"magnetic resonance imaging\"[All Fields] OR \"fmri\"[All Fields])\n",
      "\n",
      "Query search for inhibitory control functional mri argument found 1231 articles\n",
      "original search term was inhibitory control functional mri, the used search term was inhibitory[All Fields] AND (\"prevention and control\"[Subheading] OR (\"prevention\"[All Fields] AND \"control\"[All Fields]) OR \"prevention and control\"[All Fields] OR \"control\"[All Fields] OR \"control groups\"[MeSH Terms] OR (\"control\"[All Fields] AND \"groups\"[All Fields]) OR \"control groups\"[All Fields]) AND (\"magnetic resonance imaging\"[MeSH Terms] OR (\"magnetic\"[All Fields] AND \"resonance\"[All Fields] AND \"imaging\"[All Fields]) OR \"magnetic resonance imaging\"[All Fields] OR (\"functional\"[All Fields] AND \"mri\"[All Fields]) OR \"functional mri\"[All Fields])\n",
      "\n",
      "Query search for inhibitory control functional magnetic resonance imaging argument found 1202 articles\n",
      "original search term was inhibitory control functional magnetic resonance imaging, the used search term was inhibitory[All Fields] AND (\"prevention and control\"[Subheading] OR (\"prevention\"[All Fields] AND \"control\"[All Fields]) OR \"prevention and control\"[All Fields] OR \"control\"[All Fields] OR \"control groups\"[MeSH Terms] OR (\"control\"[All Fields] AND \"groups\"[All Fields]) OR \"control groups\"[All Fields]) AND (\"magnetic resonance imaging\"[MeSH Terms] OR (\"magnetic\"[All Fields] AND \"resonance\"[All Fields] AND \"imaging\"[All Fields]) OR \"magnetic resonance imaging\"[All Fields] OR (\"functional\"[All Fields] AND \"magnetic\"[All Fields] AND \"resonance\"[All Fields] AND \"imaging\"[All Fields]) OR \"functional magnetic resonance imaging\"[All Fields])\n",
      "\n",
      "Query search for multi source interference task fmri argument found 44 articles\n",
      "original search term was multi source interference task fmri, the used search term was multi[All Fields] AND (\"Source Notes Hist Art\"[Journal] OR \"source\"[All Fields]) AND interference[All Fields] AND task[All Fields] AND (\"magnetic resonance imaging\"[MeSH Terms] OR (\"magnetic\"[All Fields] AND \"resonance\"[All Fields] AND \"imaging\"[All Fields]) OR \"magnetic resonance imaging\"[All Fields] OR \"fmri\"[All Fields])\n",
      "\n",
      "Query search for multi source interference task functional mri argument found 41 articles\n",
      "original search term was multi source interference task functional mri, the used search term was multi[All Fields] AND (\"Source Notes Hist Art\"[Journal] OR \"source\"[All Fields]) AND interference[All Fields] AND task[All Fields] AND (\"magnetic resonance imaging\"[MeSH Terms] OR (\"magnetic\"[All Fields] AND \"resonance\"[All Fields] AND \"imaging\"[All Fields]) OR \"magnetic resonance imaging\"[All Fields] OR (\"functional\"[All Fields] AND \"mri\"[All Fields]) OR \"functional mri\"[All Fields])\n",
      "\n",
      "Query search for multi source interference task functional magnetic resonance imaging argument found 39 articles\n",
      "original search term was multi source interference task functional magnetic resonance imaging, the used search term was multi[All Fields] AND (\"Source Notes Hist Art\"[Journal] OR \"source\"[All Fields]) AND interference[All Fields] AND task[All Fields] AND (\"magnetic resonance imaging\"[MeSH Terms] OR (\"magnetic\"[All Fields] AND \"resonance\"[All Fields] AND \"imaging\"[All Fields]) OR \"magnetic resonance imaging\"[All Fields] OR (\"functional\"[All Fields] AND \"magnetic\"[All Fields] AND \"resonance\"[All Fields] AND \"imaging\"[All Fields]) OR \"functional magnetic resonance imaging\"[All Fields])\n",
      "\n",
      "Query search for msit fmri argument found 38 articles\n",
      "original search term was msit fmri, the used search term was msit[All Fields] AND (\"magnetic resonance imaging\"[MeSH Terms] OR (\"magnetic\"[All Fields] AND \"resonance\"[All Fields] AND \"imaging\"[All Fields]) OR \"magnetic resonance imaging\"[All Fields] OR \"fmri\"[All Fields])\n",
      "\n",
      "Query search for msit functional mri argument found 35 articles\n",
      "original search term was msit functional mri, the used search term was msit[All Fields] AND (\"magnetic resonance imaging\"[MeSH Terms] OR (\"magnetic\"[All Fields] AND \"resonance\"[All Fields] AND \"imaging\"[All Fields]) OR \"magnetic resonance imaging\"[All Fields] OR (\"functional\"[All Fields] AND \"mri\"[All Fields]) OR \"functional mri\"[All Fields])\n",
      "\n"
     ]
    },
    {
     "name": "stdout",
     "output_type": "stream",
     "text": [
      "Query search for msit functional magnetic resonance imaging argument found 33 articles\n",
      "original search term was msit functional magnetic resonance imaging, the used search term was msit[All Fields] AND (\"magnetic resonance imaging\"[MeSH Terms] OR (\"magnetic\"[All Fields] AND \"resonance\"[All Fields] AND \"imaging\"[All Fields]) OR \"magnetic resonance imaging\"[All Fields] OR (\"functional\"[All Fields] AND \"magnetic\"[All Fields] AND \"resonance\"[All Fields] AND \"imaging\"[All Fields]) OR \"functional magnetic resonance imaging\"[All Fields])\n",
      "\n",
      "Query search for multi-source interference task fmri argument found 44 articles\n",
      "original search term was multi-source interference task fmri, the used search term was multi-source[All Fields] AND interference[All Fields] AND task[All Fields] AND (\"magnetic resonance imaging\"[MeSH Terms] OR (\"magnetic\"[All Fields] AND \"resonance\"[All Fields] AND \"imaging\"[All Fields]) OR \"magnetic resonance imaging\"[All Fields] OR \"fmri\"[All Fields])\n",
      "\n",
      "Query search for multi-source interference task functional mri argument found 41 articles\n",
      "original search term was multi-source interference task functional mri, the used search term was multi-source[All Fields] AND interference[All Fields] AND task[All Fields] AND (\"magnetic resonance imaging\"[MeSH Terms] OR (\"magnetic\"[All Fields] AND \"resonance\"[All Fields] AND \"imaging\"[All Fields]) OR \"magnetic resonance imaging\"[All Fields] OR (\"functional\"[All Fields] AND \"mri\"[All Fields]) OR \"functional mri\"[All Fields])\n",
      "\n",
      "Query search for multi-source interference task functional magnetic resonance imaging argument found 39 articles\n",
      "original search term was multi-source interference task functional magnetic resonance imaging, the used search term was multi-source[All Fields] AND interference[All Fields] AND task[All Fields] AND (\"magnetic resonance imaging\"[MeSH Terms] OR (\"magnetic\"[All Fields] AND \"resonance\"[All Fields] AND \"imaging\"[All Fields]) OR \"magnetic resonance imaging\"[All Fields] OR (\"functional\"[All Fields] AND \"magnetic\"[All Fields] AND \"resonance\"[All Fields] AND \"imaging\"[All Fields]) OR \"functional magnetic resonance imaging\"[All Fields])\n",
      "\n"
     ]
    }
   ],
   "source": [
    "# Use Entrez to query search and output articles of interest\n",
    "pm_search = pd.DataFrame(columns = [\"pmid\",\"query_orig\",\"query_trans\"])\n",
    "\n",
    "for args in keyword_arguments[0]: # loop over first level keyword arguments\n",
    "    for method in keyword_arguments[1]: # loop over second level keyword arguments\n",
    "        \n",
    "        query_term = args + ' ' + method # merge keyword arguments\n",
    "        \n",
    "        # setup Entrez search module\n",
    "        handle = Entrez.esearch(db=\"pubmed\", term=query_term, retmax=100000, idtype=\"acc\")\n",
    "        records = Entrez.read(handle)\n",
    "        handle.close()\n",
    "        \n",
    "        # loop over found articles, append to dataframe\n",
    "        for res in records[\"IdList\"]:\n",
    "            \n",
    "            pm_search = pm_search.append(pd.DataFrame({\"pmid\":[res],\"query_orig\":[query_term],\"query_trans\":[records[\"QueryTranslation\"]]}))\n",
    "        \n",
    "        # Print some info on the findings\n",
    "        num_records = len(records[\"IdList\"])    \n",
    "        print(f\"Query search for {query_term} argument found {num_records} articles\")\n",
    "        \n",
    "        searched = str(records[\"QueryTranslation\"])\n",
    "        print(f\"original search term was {query_term}, the used search term was {searched}\\n\")\n",
    "        "
   ]
  },
  {
   "cell_type": "code",
   "execution_count": 40,
   "metadata": {},
   "outputs": [
    {
     "name": "stdout",
     "output_type": "stream",
     "text": [
      "112056 articles found overall\n"
     ]
    }
   ],
   "source": [
    "print(f'{len(pm_search)} articles found overall')\n",
    "all_pm_search = pm_search"
   ]
  },
  {
   "cell_type": "code",
   "execution_count": 41,
   "metadata": {},
   "outputs": [
    {
     "data": {
      "text/html": [
       "<div>\n",
       "<style scoped>\n",
       "    .dataframe tbody tr th:only-of-type {\n",
       "        vertical-align: middle;\n",
       "    }\n",
       "\n",
       "    .dataframe tbody tr th {\n",
       "        vertical-align: top;\n",
       "    }\n",
       "\n",
       "    .dataframe thead th {\n",
       "        text-align: right;\n",
       "    }\n",
       "</style>\n",
       "<table border=\"1\" class=\"dataframe\">\n",
       "  <thead>\n",
       "    <tr style=\"text-align: right;\">\n",
       "      <th></th>\n",
       "      <th>pmid</th>\n",
       "      <th>query_orig</th>\n",
       "      <th>query_trans</th>\n",
       "    </tr>\n",
       "  </thead>\n",
       "  <tbody>\n",
       "    <tr>\n",
       "      <td>0</td>\n",
       "      <td>32356855</td>\n",
       "      <td>interference fmri</td>\n",
       "      <td>interference[All Fields] AND (\"magnetic resona...</td>\n",
       "    </tr>\n",
       "    <tr>\n",
       "      <td>0</td>\n",
       "      <td>32342465</td>\n",
       "      <td>interference fmri</td>\n",
       "      <td>interference[All Fields] AND (\"magnetic resona...</td>\n",
       "    </tr>\n",
       "    <tr>\n",
       "      <td>0</td>\n",
       "      <td>32314048</td>\n",
       "      <td>interference fmri</td>\n",
       "      <td>interference[All Fields] AND (\"magnetic resona...</td>\n",
       "    </tr>\n",
       "    <tr>\n",
       "      <td>0</td>\n",
       "      <td>32311411</td>\n",
       "      <td>interference fmri</td>\n",
       "      <td>interference[All Fields] AND (\"magnetic resona...</td>\n",
       "    </tr>\n",
       "    <tr>\n",
       "      <td>0</td>\n",
       "      <td>32299791</td>\n",
       "      <td>interference fmri</td>\n",
       "      <td>interference[All Fields] AND (\"magnetic resona...</td>\n",
       "    </tr>\n",
       "  </tbody>\n",
       "</table>\n",
       "</div>"
      ],
      "text/plain": [
       "       pmid         query_orig  \\\n",
       "0  32356855  interference fmri   \n",
       "0  32342465  interference fmri   \n",
       "0  32314048  interference fmri   \n",
       "0  32311411  interference fmri   \n",
       "0  32299791  interference fmri   \n",
       "\n",
       "                                         query_trans  \n",
       "0  interference[All Fields] AND (\"magnetic resona...  \n",
       "0  interference[All Fields] AND (\"magnetic resona...  \n",
       "0  interference[All Fields] AND (\"magnetic resona...  \n",
       "0  interference[All Fields] AND (\"magnetic resona...  \n",
       "0  interference[All Fields] AND (\"magnetic resona...  "
      ]
     },
     "execution_count": 41,
     "metadata": {},
     "output_type": "execute_result"
    }
   ],
   "source": [
    "all_pm_search.head()"
   ]
  },
  {
   "cell_type": "code",
   "execution_count": 42,
   "metadata": {},
   "outputs": [
    {
     "name": "stdout",
     "output_type": "stream",
     "text": [
      "26478 unique articles found from all pubmed searches\n"
     ]
    }
   ],
   "source": [
    "pm_search.drop_duplicates(subset=\"pmid\", keep=\"first\", inplace=True)\n",
    "print(f'{len(pm_search)} unique articles found from all pubmed searches')"
   ]
  },
  {
   "cell_type": "code",
   "execution_count": 8,
   "metadata": {},
   "outputs": [
    {
     "name": "stdout",
     "output_type": "stream",
     "text": [
      "26391 articles found overall\n",
      "26391 unique articles found from all pubmed searches\n"
     ]
    }
   ],
   "source": [
    "# Remove duplicates \n",
    "print(f'{len(pm_search)} articles found overall')\n",
    "pm_search.drop_duplicates(subset=\"pmid\", keep=\"first\", inplace=True)\n",
    "print(f'{len(pm_search)} unique articles found from all pubmed searches')\n",
    "entrez_total = len(pm_search)"
   ]
  },
  {
   "cell_type": "code",
   "execution_count": 53,
   "metadata": {},
   "outputs": [
    {
     "data": {
      "text/html": [
       "<div>\n",
       "<style scoped>\n",
       "    .dataframe tbody tr th:only-of-type {\n",
       "        vertical-align: middle;\n",
       "    }\n",
       "\n",
       "    .dataframe tbody tr th {\n",
       "        vertical-align: top;\n",
       "    }\n",
       "\n",
       "    .dataframe thead th {\n",
       "        text-align: right;\n",
       "    }\n",
       "</style>\n",
       "<table border=\"1\" class=\"dataframe\">\n",
       "  <thead>\n",
       "    <tr style=\"text-align: right;\">\n",
       "      <th></th>\n",
       "      <th>pmid</th>\n",
       "      <th>query_orig</th>\n",
       "      <th>query_trans</th>\n",
       "    </tr>\n",
       "  </thead>\n",
       "  <tbody>\n",
       "    <tr>\n",
       "      <td>0</td>\n",
       "      <td>32314048</td>\n",
       "      <td>interference fmri</td>\n",
       "      <td>interference[All Fields] AND (\"magnetic resona...</td>\n",
       "    </tr>\n",
       "    <tr>\n",
       "      <td>1</td>\n",
       "      <td>32311411</td>\n",
       "      <td>interference fmri</td>\n",
       "      <td>interference[All Fields] AND (\"magnetic resona...</td>\n",
       "    </tr>\n",
       "    <tr>\n",
       "      <td>2</td>\n",
       "      <td>32299791</td>\n",
       "      <td>interference fmri</td>\n",
       "      <td>interference[All Fields] AND (\"magnetic resona...</td>\n",
       "    </tr>\n",
       "    <tr>\n",
       "      <td>3</td>\n",
       "      <td>32285357</td>\n",
       "      <td>interference fmri</td>\n",
       "      <td>interference[All Fields] AND (\"magnetic resona...</td>\n",
       "    </tr>\n",
       "    <tr>\n",
       "      <td>4</td>\n",
       "      <td>32285159</td>\n",
       "      <td>interference fmri</td>\n",
       "      <td>interference[All Fields] AND (\"magnetic resona...</td>\n",
       "    </tr>\n",
       "  </tbody>\n",
       "</table>\n",
       "</div>"
      ],
      "text/plain": [
       "       pmid         query_orig  \\\n",
       "0  32314048  interference fmri   \n",
       "1  32311411  interference fmri   \n",
       "2  32299791  interference fmri   \n",
       "3  32285357  interference fmri   \n",
       "4  32285159  interference fmri   \n",
       "\n",
       "                                         query_trans  \n",
       "0  interference[All Fields] AND (\"magnetic resona...  \n",
       "1  interference[All Fields] AND (\"magnetic resona...  \n",
       "2  interference[All Fields] AND (\"magnetic resona...  \n",
       "3  interference[All Fields] AND (\"magnetic resona...  \n",
       "4  interference[All Fields] AND (\"magnetic resona...  "
      ]
     },
     "execution_count": 53,
     "metadata": {},
     "output_type": "execute_result"
    }
   ],
   "source": [
    "# give new index and check the new dataframe\n",
    "pm_search.reset_index(drop=True,inplace=True)\n",
    "pm_search.head()"
   ]
  },
  {
   "cell_type": "code",
   "execution_count": 55,
   "metadata": {},
   "outputs": [],
   "source": [
    "# save search terms and PMIDs\n",
    "pm_search.to_excel(opj(save_dir, 'excel', 'pm_search.xlsx'), sheet_name = 'pubmed_info')"
   ]
  },
  {
   "cell_type": "code",
   "execution_count": 70,
   "metadata": {},
   "outputs": [],
   "source": [
    "pm_search = pd.read_excel(opj(save_dir, 'excel', 'pm_search.xlsx'))"
   ]
  },
  {
   "cell_type": "markdown",
   "metadata": {},
   "source": [
    "## PubMed"
   ]
  },
  {
   "cell_type": "markdown",
   "metadata": {},
   "source": [
    "Due to the amount of searches that need to be done (26391) the code keeps crashing (probably because of the amount of qeury searches in a small amount of time). Therefore, it is probably easiest to split the search into 27 ~1000 batches and run it. "
   ]
  },
  {
   "cell_type": "code",
   "execution_count": 10,
   "metadata": {},
   "outputs": [],
   "source": [
    "import time"
   ]
  },
  {
   "cell_type": "code",
   "execution_count": 262,
   "metadata": {
    "scrolled": true
   },
   "outputs": [
    {
     "name": "stdout",
     "output_type": "stream",
     "text": [
      "There are 26391 articles to extract\n",
      "Finished\n"
     ]
    }
   ],
   "source": [
    "pubmed = pm.PubMed(tool=\"MyTool\", email = email)\n",
    "\n",
    "duplicate_checker_pm = [] # setup list incase multiple articles are found (should only find one per PMID)\n",
    "\n",
    "all_pm_articles = pd.DataFrame(columns = [\"title\",\"authors\",\"pmid\",\"keywords\",\"pubdate\",\"abstract\"]) # create pd object to append to\n",
    "\n",
    "counter = 1\n",
    "\n",
    "print(f'There are {entrez_total} articles to extract')\n",
    "\n",
    "for pmid_args in pm_search.pmid: # loop over all keyword argmuents\n",
    "    \n",
    "    results = pubmed.query(query=pmid_args, max_results=10) # run search query\n",
    "        \n",
    "    for article in results: # loop over all found articles\n",
    "    \n",
    "        if '\\n' in article.pubmed_id: # extract pubmed ID\n",
    "            article_id = article.pubmed_id.split('\\n')[0]\n",
    "        else:\n",
    "            article_id = article.pubmed_id\n",
    "                \n",
    "        article_title = article.title # extract title\n",
    "\n",
    "        if hasattr(article,'keywords'):\n",
    "            if article.keywords: # find keywords if they exist\n",
    "                if None in article.keywords:\n",
    "                    article.keywords.remove(None)\n",
    "                article_keywords = '\", \"'.join(article.keywords)\n",
    "            else:\n",
    "                article_keywords = \"Article has no keywords\"\n",
    "            \n",
    "        article_publication_date = article.publication_date # extract publication date\n",
    "        article_abstract = article.abstract # extract abstract\n",
    "\n",
    "        article_authors = []\n",
    "        for auths in range(len(article.authors)):\n",
    "            if auths == len(article.authors)-1:\n",
    "                if article.authors[auths]['lastname']==None or article.authors[auths]['firstname']==None:\n",
    "                    print('Skipping author, nonetype')\n",
    "                else:\n",
    "                    article_authors.append(article.authors[auths]['lastname'] + ', ' + article.authors[auths]['initials'])\n",
    "            else:\n",
    "                if article.authors[auths]['lastname']==None or article.authors[auths]['firstname']==None:\n",
    "                    print('Skipping author, nonetype')\n",
    "                else:\n",
    "                    article_authors.append(article.authors[auths]['lastname'] + ', ' + article.authors[auths]['initials'] + '.,')\n",
    "        \n",
    "        # Throw all this info into a pandas dataframe so we can export it to excel\n",
    "        all_pm_articles = all_pm_articles.append(pd.DataFrame({\"title\":[article_title],\"authors\":[str(' '.join(article_authors))],\"pmid\":[article_id],\n",
    "                                          \"keywords\":[article_keywords],\"pubdate\":[article_publication_date],\n",
    "                                          \"abstract\":[article_abstract]}))\n",
    "        \n",
    "        # provide some output so we know what stage the code is at\n",
    "        if counter%50==0:\n",
    "            print(f'Processing article {counter}...')\n",
    "        counter += 1\n",
    "        \n",
    "        time.sleep(0.5)\n",
    "        \n",
    "        # SAVE EXCEL DOCUMENT every iteration incase the code crashes\n",
    "        all_pm_articles.to_excel(opj(save_dir, 'excel', 'pubmed_articles_fifth_sunday.xlsx'), sheet_name = 'pmid_pubmed')\n",
    "        \n",
    "print('Finished')"
   ]
  },
  {
   "cell_type": "code",
   "execution_count": 1,
   "metadata": {},
   "outputs": [
    {
     "ename": "NameError",
     "evalue": "name 'entrez_total' is not defined",
     "output_type": "error",
     "traceback": [
      "\u001b[0;31m---------------------------------------------------------------------------\u001b[0m",
      "\u001b[0;31mNameError\u001b[0m                                 Traceback (most recent call last)",
      "\u001b[0;32m<ipython-input-1-793ead4a01c8>\u001b[0m in \u001b[0;36m<module>\u001b[0;34m\u001b[0m\n\u001b[0;32m----> 1\u001b[0;31m \u001b[0mprint\u001b[0m\u001b[0;34m(\u001b[0m\u001b[0;34mf'{entrez_total} articles were suppossed to be found'\u001b[0m\u001b[0;34m)\u001b[0m\u001b[0;34m\u001b[0m\u001b[0;34m\u001b[0m\u001b[0m\n\u001b[0m\u001b[1;32m      2\u001b[0m \u001b[0mprint\u001b[0m\u001b[0;34m(\u001b[0m\u001b[0;34mf'{len(all_pm_articles)} were found'\u001b[0m\u001b[0;34m)\u001b[0m\u001b[0;34m\u001b[0m\u001b[0;34m\u001b[0m\u001b[0m\n",
      "\u001b[0;31mNameError\u001b[0m: name 'entrez_total' is not defined"
     ]
    }
   ],
   "source": [
    "print(f'{entrez_total} articles were suppossed to be found')\n",
    "print(f'{len(all_pm_articles)} were found')"
   ]
  },
  {
   "cell_type": "code",
   "execution_count": 263,
   "metadata": {},
   "outputs": [],
   "source": [
    "# load, combine and save the different search batches\n",
    "first = pd.read_excel(opj(save_dir, 'excel', 'pubmed_articles_first_sunday.xlsx'),index_col=0)\n",
    "second = pd.read_excel(opj(save_dir, 'excel', 'pubmed_articles_second_sunday.xlsx'),index_col=0)\n",
    "third = pd.read_excel(opj(save_dir, 'excel', 'pubmed_articles_third_sunday.xlsx'),index_col=0)\n",
    "fourth = pd.read_excel(opj(save_dir, 'excel', 'pubmed_articles_fourth_sunday.xlsx'),index_col=0)\n",
    "fifth = pd.read_excel(opj(save_dir, 'excel', 'pubmed_articles_fifth_sunday.xlsx'),index_col=0)\n",
    "all_pms = pd.concat([first,second,third,fourth,fifth])\n",
    "all_pms.drop_duplicates(subset=\"pmid\", keep=\"first\", inplace=True)\n",
    "all_pms.reset_index(inplace=True,drop=True)\n",
    "all_pms.to_excel(opj(save_dir, 'excel', 'pubmed_articles_combined.xlsx'), sheet_name = 'pmid_pubmed')"
   ]
  },
  {
   "cell_type": "code",
   "execution_count": 264,
   "metadata": {},
   "outputs": [
    {
     "name": "stderr",
     "output_type": "stream",
     "text": [
      "/Users/scotti/anaconda3/lib/python3.7/site-packages/ipykernel_launcher.py:4: SettingWithCopyWarning: \n",
      "A value is trying to be set on a copy of a slice from a DataFrame.\n",
      "Try using .loc[row_indexer,col_indexer] = value instead\n",
      "\n",
      "See the caveats in the documentation: http://pandas.pydata.org/pandas-docs/stable/indexing.html#indexing-view-versus-copy\n",
      "  after removing the cwd from sys.path.\n"
     ]
    }
   ],
   "source": [
    "# make some columns strings to make it easier to index\n",
    "all_pms[\"pubdate\"] = all_pms[\"pubdate\"].astype(str)\n",
    "all_pms[\"pmid\"] = all_pms[\"pmid\"].astype(str)\n",
    "pm_search[\"pmid\"] = pm_search[\"pmid\"].astype(str)"
   ]
  },
  {
   "cell_type": "code",
   "execution_count": 266,
   "metadata": {},
   "outputs": [],
   "source": [
    "# remove all articles that were before 2010\n",
    "all_pms[\"pubdate\"] = all_pms[\"pubdate\"].astype(str)\n",
    "all_pms = all_pms[all_pms['pubdate'].str.startswith(('2020','2019','2018','2017','2016','2015','2014','2013','2012','2011','2010'),na=False)]"
   ]
  },
  {
   "cell_type": "markdown",
   "metadata": {},
   "source": [
    "## Neurosynth"
   ]
  },
  {
   "cell_type": "code",
   "execution_count": 267,
   "metadata": {},
   "outputs": [],
   "source": [
    "from neurosynth import Dataset"
   ]
  },
  {
   "cell_type": "code",
   "execution_count": 268,
   "metadata": {},
   "outputs": [
    {
     "name": "stdout",
     "output_type": "stream",
     "text": [
      "Downloading the latest Neurosynth files: https://github.com/neurosynth/neurosynth-data/blob/master/current_data.tar.gz?raw=true bytes: 1\n"
     ]
    },
    {
     "name": "stdout",
     "output_type": "stream",
     "text": [
      "8192  [819200.00%16384  [1638400.00%24576  [2457600.00%32768  [3276800.00%40960  [4096000.00%49152  [4915200.00%57344  [5734400.00%65536  [6553600.00%73728  [7372800.00%81920  [8192000.00%90112  [9011200.00%98304  [9830400.00%106496  [10649600.00%114688  [11468800.00%122880  [12288000.00%131072  [13107200.00%139264  [13926400.00%147456  [14745600.00%155648  [15564800.00%163840  [16384000.00%172032  [17203200.00%180224  [18022400.00%188416  [18841600.00%196608  [19660800.00%204800  [20480000.00%212992  [21299200.00%221184  [22118400.00%229376  [22937600.00%237568  [23756800.00%245760  [24576000.00%253952  [25395200.00%262144  [26214400.00%270336  [27033600.00%278528  [27852800.00%286720  [28672000.00%294912  [29491200.00%303104  [30310400.00%311296  [31129600.00%319488  [31948800.00%327680  [32768000.00%335872  [33587200.00%344064  [34406400.00%352256  [35225600.00%360448  [36044800.00%368640  [36864000.00%376832  [37683200.00%385024  [38502400.00%393216  [39321600.00%401408  [40140800.00%409600  [40960000.00%417792  [41779200.00%425984  [42598400.00%434176  [43417600.00%442368  [44236800.00%450560  [45056000.00%458752  [45875200.00%466944  [46694400.00%475136  [47513600.00%483328  [48332800.00%491520  [49152000.00%499712  [49971200.00%507904  [50790400.00%516096  [51609600.00%524288  [52428800.00%532480  [53248000.00%540672  [54067200.00%548864  [54886400.00%557056  [55705600.00%565248  [56524800.00%573440  [57344000.00%581632  [58163200.00%589824  [58982400.00%598016  [59801600.00%606208  [60620800.00%614400  [61440000.00%622592  [62259200.00%630784  [63078400.00%638976  [63897600.00%647168  [64716800.00%655360  [65536000.00%663552  [66355200.00%671744  [67174400.00%679936  [67993600.00%688128  [68812800.00%696320  [69632000.00%704512  [70451200.00%712704  [71270400.00%720896  [72089600.00%729088  [72908800.00%737280  [73728000.00%745472  [74547200.00%753664  [75366400.00%761856  [76185600.00%770048  [77004800.00%778240  [77824000.00%786432  [78643200.00%794624  [79462400.00%802816  [80281600.00%811008  [81100800.00%819200  [81920000.00%827392  [82739200.00%835584  [83558400.00%843776  [84377600.00%851968  [85196800.00%860160  [86016000.00%868352  [86835200.00%876544  [87654400.00%884736  [88473600.00%892928  [89292800.00%901120  [90112000.00%909312  [90931200.00%917504  [91750400.00%925696  [92569600.00%933888  [93388800.00%942080  [94208000.00%950272  [95027200.00%958464  [95846400.00%966656  [96665600.00%974848  [97484800.00%983040  [98304000.00%991232  [99123200.00%999424  [99942400.00%1007616  [100761600.00%1015808  [101580800.00%1024000  [102400000.00%1032192  [103219200.00%1040384  [104038400.00%1048576  [104857600.00%1056768  [105676800.00%1064960  [106496000.00%1073152  [107315200.00%1081344  [108134400.00%1089536  [108953600.00%1097728  [109772800.00%1105920  [110592000.00%1114112  [111411200.00%1122304  [112230400.00%1130496  [113049600.00%1138688  [113868800.00%1146880  [114688000.00%1155072  [115507200.00%1163264  [116326400.00%1171456  [117145600.00%1179648  [117964800.00%1187840  [118784000.00%1196032  [119603200.00%1204224  [120422400.00%1212416  [121241600.00%1220608  [122060800.00%1228800  [122880000.00%1236992  [123699200.00%1245184  [124518400.00%1253376  [125337600.00%1261568  [126156800.00%1269760  [126976000.00%1277952  [127795200.00%1286144  [128614400.00%1294336  [129433600.00%1302528  [130252800.00%1310720  [131072000.00%1318912  [131891200.00%1327104  [132710400.00%1335296  [133529600.00%1343488  [134348800.00%1351680  [135168000.00%1359872  [135987200.00%1368064  [136806400.00%1376256  [137625600.00%1384448  [138444800.00%1392640  [139264000.00%1400832  [140083200.00%1409024  [140902400.00%1417216  [141721600.00%1425408  [142540800.00%1433600  [143360000.00%1441792  [144179200.00%1449984  [144998400.00%1458176  [145817600.00%1466368  [146636800.00%1474560  [147456000.00%1482752  [148275200.00%1490944  [149094400.00%1499136  [149913600.00%1507328  [150732800.00%1515520  [151552000.00%1523712  [152371200.00%1531904  [153190400.00%1540096  [154009600.00%1548288  [154828800.00%1556480  [155648000.00%1564672  [156467200.00%1572864  [157286400.00%1581056  [158105600.00%1589248  [158924800.00%1597440  [159744000.00%1605632  [160563200.00%1613824  [161382400.00%1622016  [162201600.00%1630208  [163020800.00%1638400  [163840000.00%1646592  [164659200.00%1654784  [165478400.00%1662976  [166297600.00%1671168  [167116800.00%1679360  [167936000.00%1687552  [168755200.00%1695744  [169574400.00%1703936  [170393600.00%1712128  [171212800.00%1720320  [172032000.00%1728512  [172851200.00%1736704  [173670400.00%1744896  [174489600.00%1753088  [175308800.00%1761280  [176128000.00%1769472  [176947200.00%1777664  [177766400.00%1785856  [178585600.00%1794048  [179404800.00%1802240  [180224000.00%1810432  [181043200.00%1818624  [181862400.00%1826816  [182681600.00%1835008  [183500800.00%1843200  [184320000.00%1851392  [185139200.00%1859584  [185958400.00%1867776  [186777600.00%1875968  [187596800.00%1884160  [188416000.00%1892352  [189235200.00%1900544  [190054400.00%1908736  [190873600.00%1916928  [191692800.00%1925120  [192512000.00%1933312  [193331200.00%1941504  [194150400.00%1949696  [194969600.00%1957888  [195788800.00%1966080  [196608000.00%1974272  [197427200.00%1982464  [198246400.00%1990656  [199065600.00%1998848  [199884800.00%2007040  [200704000.00%2015232  [201523200.00%2023424  [202342400.00%2031616  [203161600.00%2039808  [203980800.00%2048000  [204800000.00%2056192  [205619200.00%2064384  [206438400.00%2072576  [207257600.00%2080768  [208076800.00%2088960  [208896000.00%2097152  [209715200.00%2105344  [210534400.00%2113536  [211353600.00%2121728  [212172800.00%2129920  [212992000.00%2138112  [213811200.00%2146304  [214630400.00%2154496  [215449600.00%2162688  [216268800.00%2170880  [217088000.00%2179072  [217907200.00%2187264  [218726400.00%2195456  [219545600.00%2203648  [220364800.00%2211840  [221184000.00%2220032  [222003200.00%2228224  [222822400.00%2236416  [223641600.00%2244608  [224460800.00%2252800  [225280000.00%2260992  [226099200.00%2269184  [226918400.00%2277376  [227737600.00%2285568  [228556800.00%2293760  [229376000.00%2301952  [230195200.00%2310144  [231014400.00%2318336  [231833600.00%2326528  [232652800.00%2334720  [233472000.00%2342912  [234291200.00%2351104  [235110400.00%2359296  [235929600.00%2367488  [236748800.00%2375680  [237568000.00%2383872  [238387200.00%2392064  [239206400.00%2400256  [240025600.00%2408448  [240844800.00%2416640  [241664000.00%2424832  [242483200.00%2433024  [243302400.00%2441216  [244121600.00%2449408  [244940800.00%2457600  [245760000.00%2465792  [246579200.00%2473984  [247398400.00%2482176  [248217600.00%2490368  [249036800.00%2498560  [249856000.00%2506752  [250675200.00%2514944  [251494400.00%2523136  [252313600.00%2531328  [253132800.00%2539520  [253952000.00%2547712  [254771200.00%2555904  [255590400.00%2564096  [256409600.00%2572288  [257228800.00%2580480  [258048000.00%2588672  [258867200.00%2596864  [259686400.00%2605056  [260505600.00%2613248  [261324800.00%2621440  [262144000.00%2629632  [262963200.00%2637824  [263782400.00%2646016  [264601600.00%2654208  [265420800.00%2662400  [266240000.00%2670592  [267059200.00%2678784  [267878400.00%2686976  [268697600.00%2695168  [269516800.00%2703360  [270336000.00%2711552  [271155200.00%2719744  [271974400.00%2727936  [272793600.00%2736128  [273612800.00%2744320  [274432000.00%2752512  [275251200.00%2760704  [276070400.00%2768896  [276889600.00%2777088  [277708800.00%2785280  [278528000.00%2793472  [279347200.00%2801664  [280166400.00%2809856  [280985600.00%2818048  [281804800.00%2826240  [282624000.00%2834432  [283443200.00%2842624  [284262400.00%2850816  [285081600.00%2859008  [285900800.00%2867200  [286720000.00%2875392  [287539200.00%2883584  [288358400.00%2891776  [289177600.00%2899968  [289996800.00%2908160  [290816000.00%2916352  [291635200.00%2924544  [292454400.00%2932736  [293273600.00%2940928  [294092800.00%2949120  [294912000.00%2957312  [295731200.00%2965504  [296550400.00%2973696  [297369600.00%2981888  [298188800.00%2990080  [299008000.00%2998272  [299827200.00%3006464  [300646400.00%3014656  [301465600.00%3022848  [302284800.00%3031040  [303104000.00%3039232  [303923200.00%3047424  [304742400.00%3055616  [305561600.00%3063808  [306380800.00%3072000  [307200000.00%3080192  [308019200.00%3088384  [308838400.00%3096576  [309657600.00%3104768  [310476800.00%3112960  [311296000.00%3121152  [312115200.00%3129344  [312934400.00%3137536  [313753600.00%3145728  [314572800.00%3153920  [315392000.00%3162112  [316211200.00%3170304  [317030400.00%3178496  [317849600.00%3186688  [318668800.00%3194880  [319488000.00%3203072  [320307200.00%3211264  [321126400.00%3219456  [321945600.00%3227648  [322764800.00%3235840  [323584000.00%3244032  [324403200.00%3252224  [325222400.00%3260416  [326041600.00%3268608  [326860800.00%3276800  [327680000.00%3284992  [328499200.00%3293184  [329318400.00%3301376  [330137600.00%3309568  [330956800.00%3317760  [331776000.00%3325952  [332595200.00%3334144  [333414400.00%3342336  [334233600.00%3350528  [335052800.00%3358720  [335872000.00%3366912  [336691200.00%3375104  [337510400.00%3383296  [338329600.00%3391488  [339148800.00%3399680  [339968000.00%3407872  [340787200.00%3416064  [341606400.00%3424256  [342425600.00%3432448  [343244800.00%3440640  [344064000.00%3448832  [344883200.00%3457024  [345702400.00%3465216  [346521600.00%3473408  [347340800.00%3481600  [348160000.00%3489792  [348979200.00%3497984  [349798400.00%3506176  [350617600.00%3514368  [351436800.00%3522560  [352256000.00%3530752  [353075200.00%3538944  [353894400.00%3547136  [354713600.00%3555328  [355532800.00%3563520  [356352000.00%3571712  [357171200.00%3579904  [357990400.00%3588096  [358809600.00%3596288  [359628800.00%3604480  [360448000.00%3612672  [361267200.00%3620864  [362086400.00%3629056  [362905600.00%3637248  [363724800.00%3645440  [364544000.00%3653632  [365363200.00%3661824  [366182400.00%3670016  [367001600.00%3678208  [367820800.00%3686400  [368640000.00%3694592  [369459200.00%3702784  [370278400.00%3710976  [371097600.00%3719168  [371916800.00%3727360  [372736000.00%3735552  [373555200.00%3743744  [374374400.00%3751936  [375193600.00%3760128  [376012800.00%3768320  [376832000.00%3776512  [377651200.00%3784704  [378470400.00%3792896  [379289600.00%3801088  [380108800.00%3809280  [380928000.00%3817472  [381747200.00%3825664  [382566400.00%3833856  [383385600.00%3842048  [384204800.00%3850240  [385024000.00%3858432  [385843200.00%3866624  [386662400.00%3874816  [387481600.00%3883008  [388300800.00%3891200  [389120000.00%3899392  [389939200.00%3907584  [390758400.00%3915776  [391577600.00%3923968  [392396800.00%3932160  [393216000.00%3940352  [394035200.00%3948544  [394854400.00%3956736  [395673600.00%3964928  [396492800.00%3973120  [397312000.00%3981312  [398131200.00%3989504  [398950400.00%3997696  [399769600.00%4005888  [400588800.00%4014080  [401408000.00%4022272  [402227200.00%4030464  [403046400.00%4038656  [403865600.00%4046848  [404684800.00%4055040  [405504000.00%4063232  [406323200.00%4071424  [407142400.00%4079616  [407961600.00%4087808  [408780800.00%4096000  [409600000.00%4104192  [410419200.00%4112384  [411238400.00%4120576  [412057600.00%4128768  [412876800.00%4136960  [413696000.00%4145152  [414515200.00%4153344  [415334400.00%4161536  [416153600.00%4169728  [416972800.00%4177920  [417792000.00%4186112  [418611200.00%4194304  [419430400.00%4202496  [420249600.00%4210688  [421068800.00%4218880  [421888000.00%4227072  [422707200.00%4235264  [423526400.00%4243456  [424345600.00%4251648  [425164800.00%4259840  [425984000.00%4268032  [426803200.00%4276224  [427622400.00%4284416  [428441600.00%4292608  [429260800.00%4300800  [430080000.00%4308992  [430899200.00%4317184  [431718400.00%4325376  [432537600.00%4333568  [433356800.00%4341760  [434176000.00%4349952  [434995200.00%4358144  [435814400.00%4366336  [436633600.00%4374528  [437452800.00%4382720  [438272000.00%4390912  [439091200.00%4399104  [439910400.00%4407296  [440729600.00%4415488  [441548800.00%4423680  [442368000.00%4431872  [443187200.00%4440064  [444006400.00%4448256  [444825600.00%4456448  [445644800.00%4464640  [446464000.00%4472832  [447283200.00%4481024  [448102400.00%4489216  [448921600.00%4497408  [449740800.00%4505600  [450560000.00%4513792  [451379200.00%4521984  [452198400.00%4530176  [453017600.00%4538368  [453836800.00%4546560  [454656000.00%4554752  [455475200.00%4562944  [456294400.00%4571136  [457113600.00%4579328  [457932800.00%4587520  [458752000.00%4595712  [459571200.00%4603904  [460390400.00%4612096  [461209600.00%4620288  [462028800.00%4628480  [462848000.00%4636672  [463667200.00%4644864  [464486400.00%4653056  [465305600.00%4661248  [466124800.00%4669440  [466944000.00%4677632  [467763200.00%4685824  [468582400.00%4694016  [469401600.00%4702208  [470220800.00%4710400  [471040000.00%4718592  [471859200.00%4726784  [472678400.00%4734976  [473497600.00%4743168  [474316800.00%4751360  [475136000.00%4759552  [475955200.00%4767744  [476774400.00%4775936  [477593600.00%4784128  [478412800.00%4792320  [479232000.00%4800512  [480051200.00%4808704  [480870400.00%4816896  [481689600.00%4825088  [482508800.00%4833280  [483328000.00%4841472  [484147200.00%4849664  [484966400.00%4857856  [485785600.00%4866048  [486604800.00%4874240  [487424000.00%4882432  [488243200.00%4890624  [489062400.00%4898816  [489881600.00%4907008  [490700800.00%4915200  [491520000.00%4923392  [492339200.00%4931584  [493158400.00%4939776  [493977600.00%4947968  [494796800.00%4956160  [495616000.00%4964352  [496435200.00%4972544  [497254400.00%4980736  [498073600.00%4988928  [498892800.00%4997120  [499712000.00%5005312  [500531200.00%5013504  [501350400.00%5021696  [502169600.00%5029888  [502988800.00%5038080  [503808000.00%5046272  [504627200.00%5054464  [505446400.00%5062656  [506265600.00%5070848  [507084800.00%5079040  [507904000.00%5087232  [508723200.00%5095424  [509542400.00%5103616  [510361600.00%5111808  [511180800.00%5120000  [512000000.00%5128192  [512819200.00%5136384  [513638400.00%5144576  [514457600.00%5152768  [515276800.00%5160960  [516096000.00%5169152  [516915200.00%5177344  [517734400.00%5185536  [518553600.00%5193728  [519372800.00%5201920  [520192000.00%5210112  [521011200.00%5218304  [521830400.00%5226496  [522649600.00%5234688  [523468800.00%5242880  [524288000.00%5251072  [525107200.00%5259264  [525926400.00%5267456  [526745600.00%5275648  [527564800.00%5283840  [528384000.00%5292032  [529203200.00%5300224  [530022400.00%5308416  [530841600.00%5316608  [531660800.00%5324800  [532480000.00%5332992  [533299200.00%5341184  [534118400.00%5349376  [534937600.00%5357568  [535756800.00%5365760  [536576000.00%5373952  [537395200.00%5382144  [538214400.00%5390336  [539033600.00%5398528  [539852800.00%5406720  [540672000.00%5414912  [541491200.00%5423104  [542310400.00%5431296  [543129600.00%5439488  [543948800.00%5447680  [544768000.00%5455872  [545587200.00%5464064  [546406400.00%5472256  [547225600.00%5480448  [548044800.00%5488640  [548864000.00%5496832  [549683200.00%5505024  [550502400.00%5513216  [551321600.00%5521408  [552140800.00%5529600  [552960000.00%5537792  [553779200.00%5545984  [554598400.00%5554176  [555417600.00%5562368  [556236800.00%5570560  [557056000.00%5578752  [557875200.00%5586944  [558694400.00%5595136  [559513600.00%5603328  [560332800.00%5611520  [561152000.00%5619712  [561971200.00%5627904  [562790400.00%5636096  [563609600.00%5644288  [564428800.00%5652480  [565248000.00%5660672  [566067200.00%5668864  [566886400.00%5677056  [567705600.00%5685248  [568524800.00%5693440  [569344000.00%5701632  [570163200.00%5709824  [570982400.00%5718016  [571801600.00%5726208  [572620800.00%5734400  [573440000.00%5742592  [574259200.00%5750784  [575078400.00%5758976  [575897600.00%5767168  [576716800.00%5775360  [577536000.00%5783552  [578355200.00%5791744  [579174400.00%5799936  [579993600.00%5808128  [580812800.00%5816320  [581632000.00%5824512  [582451200.00%5832704  [583270400.00%5840896  [584089600.00%5849088  [584908800.00%5857280  [585728000.00%5865472  [586547200.00%5873664  [587366400.00%5881856  [588185600.00%5890048  [589004800.00%5898240  [589824000.00%5906432  [590643200.00%5914624  [591462400.00%5922816  [592281600.00%5931008  [593100800.00%5939200  [593920000.00%5947392  [594739200.00%5955584  [595558400.00%5963776  [596377600.00%5971968  [597196800.00%5980160  [598016000.00%5988352  [598835200.00%5996544  [599654400.00%6004736  [600473600.00%6012928  [601292800.00%6021120  [602112000.00%6029312  [602931200.00%6037504  [603750400.00%6045696  [604569600.00%6053888  [605388800.00%6062080  [606208000.00%6070272  [607027200.00%6078464  [607846400.00%6086656  [608665600.00%6094848  [609484800.00%6103040  [610304000.00%6111232  [611123200.00%6119424  [611942400.00%6127616  [612761600.00%6135808  [613580800.00%6144000  [614400000.00%6152192  [615219200.00%6160384  [616038400.00%6168576  [616857600.00%6176768  [617676800.00%6184960  [618496000.00%6193152  [619315200.00%6201344  [620134400.00%6209536  [620953600.00%6217728  [621772800.00%6225920  [622592000.00%6234112  [623411200.00%6242304  [624230400.00%6250496  [625049600.00%6258688  [625868800.00%6266880  [626688000.00%6275072  [627507200.00%6283264  [628326400.00%6291456  [629145600.00%6299648  [629964800.00%6307840  [630784000.00%6316032  [631603200.00%6324224  [632422400.00%6332416  [633241600.00%6340608  [634060800.00%6348800  [634880000.00%6356992  [635699200.00%6365184  [636518400.00%6373376  [637337600.00%6381568  [638156800.00%6389760  [638976000.00%6397952  [639795200.00%6406144  [640614400.00%6414336  [641433600.00%6422528  [642252800.00%6430720  [643072000.00%6438912  [643891200.00%6447104  [644710400.00%6455296  [645529600.00%6463488  [646348800.00%6471680  [647168000.00%6479872  [647987200.00%6488064  [648806400.00%6496256  [649625600.00%6504448  [650444800.00%6512640  [651264000.00%6520832  [652083200.00%6529024  [652902400.00%6537216  [653721600.00%6545408  [654540800.00%6553600  [655360000.00%6561792  [656179200.00%6569984  [656998400.00%6578176  [657817600.00%6586368  [658636800.00%6594560  [659456000.00%6602752  [660275200.00%6610944  [661094400.00%6619136  [661913600.00%6627328  [662732800.00%6635520  [663552000.00%6643712  [664371200.00%6651904  [665190400.00%6660096  [666009600.00%6668288  [666828800.00%6676480  [667648000.00%6684672  [668467200.00%6692864  [669286400.00%6701056  [670105600.00%6709248  [670924800.00%6717440  [671744000.00%6725632  [672563200.00%6733824  [673382400.00%6742016  [674201600.00%6750208  [675020800.00%6758400  [675840000.00%6766592  [676659200.00%6774784  [677478400.00%6782976  [678297600.00%6791168  [679116800.00%6799360  [679936000.00%6807552  [680755200.00%6815744  [681574400.00%6823936  [682393600.00%6832128  [683212800.00%6840320  [684032000.00%6848512  [684851200.00%6856704  [685670400.00%6864896  [686489600.00%6873088  [687308800.00%6881280  [688128000.00%6889472  [688947200.00%6897664  [689766400.00%6905856  [690585600.00%6914048  [691404800.00%6922240  [692224000.00%6930432  [693043200.00%6938624  [693862400.00%6946816  [694681600.00%6955008  [695500800.00%6963200  [696320000.00%6971392  [697139200.00%6979584  [697958400.00%6987776  [698777600.00%6995968  [699596800.00%7004160  [700416000.00%7012352  [701235200.00%7020544  [702054400.00%7028736  [702873600.00%7036928  [703692800.00%7045120  [704512000.00%7053312  [705331200.00%7061504  [706150400.00%7069696  [706969600.00%7077888  [707788800.00%7086080  [708608000.00%7094272  [709427200.00%7102464  [710246400.00%7110656  [711065600.00%7118848  [711884800.00%7127040  [712704000.00%7135232  [713523200.00%7143424  [714342400.00%7151616  [715161600.00%7159808  [715980800.00%7168000  [716800000.00%7176192  [717619200.00%7184384  [718438400.00%7192576  [719257600.00%7200768  [720076800.00%7208960  [720896000.00%7217152  [721715200.00%7225344  [722534400.00%7233536  [723353600.00%7241728  [724172800.00%7249920  [724992000.00%7258112  [725811200.00%7266304  [726630400.00%7274496  [727449600.00%7282688  [728268800.00%7290880  [729088000.00%7299072  [729907200.00%7307264  [730726400.00%7315456  [731545600.00%7323648  [732364800.00%7331840  [733184000.00%7340032  [734003200.00%7348224  [734822400.00%7356416  [735641600.00%7364608  [736460800.00%7372800  [737280000.00%7380992  [738099200.00%7389184  [738918400.00%7397376  [739737600.00%7405568  [740556800.00%7413760  [741376000.00%7421952  [742195200.00%7430144  [743014400.00%7438336  [743833600.00%7446528  [744652800.00%7454720  [745472000.00%7462912  [746291200.00%7471104  [747110400.00%7479296  [747929600.00%7487488  [748748800.00%7495680  [749568000.00%7503872  [750387200.00%7512064  [751206400.00%7520256  [752025600.00%7528448  [752844800.00%7536640  [753664000.00%7544832  [754483200.00%7553024  [755302400.00%7561216  [756121600.00%7569408  [756940800.00%7577600  [757760000.00%7585792  [758579200.00%7593984  [759398400.00%7602176  [760217600.00%7610368  [761036800.00%7618560  [761856000.00%7626752  [762675200.00%7634944  [763494400.00%7643136  [764313600.00%7651328  [765132800.00%7659520  [765952000.00%7667712  [766771200.00%7675904  [767590400.00%7684096  [768409600.00%7692288  [769228800.00%7700480  [770048000.00%7708672  [770867200.00%7716864  [771686400.00%7725056  [772505600.00%7733248  [773324800.00%7741440  [774144000.00%7749632  [774963200.00%7757824  [775782400.00%7766016  [776601600.00%7774208  [777420800.00%7782400  [778240000.00%7790592  [779059200.00%7798784  [779878400.00%7806976  [780697600.00%7815168  [781516800.00%7823360  [782336000.00%7831552  [783155200.00%7839744  [783974400.00%7847936  [784793600.00%7856128  [785612800.00%7864320  [786432000.00%7872512  [787251200.00%7880704  [788070400.00%7888896  [788889600.00%7897088  [789708800.00%7905280  [790528000.00%7913472  [791347200.00%7921664  [792166400.00%7929856  [792985600.00%7938048  [793804800.00%7946240  [794624000.00%7954432  [795443200.00%7962624  [796262400.00%7970816  [797081600.00%7979008  [797900800.00%7987200  [798720000.00%7995392  [799539200.00%8003584  [800358400.00%8011776  [801177600.00%8019968  [801996800.00%8028160  [802816000.00%8036352  [803635200.00%8044544  [804454400.00%8052736  [805273600.00%8060928  [806092800.00%8069120  [806912000.00%8077312  [807731200.00%8085504  [808550400.00%8093696  [809369600.00%8101888  [810188800.00%8110080  [811008000.00%8118272  [811827200.00%8126464  [812646400.00%8134656  [813465600.00%8142848  [814284800.00%8151040  [815104000.00%8159232  [815923200.00%8167424  [816742400.00%8175616  [817561600.00%8183808  [818380800.00%8192000  [819200000.00%8200192  [820019200.00%8208384  [820838400.00%8216576  [821657600.00%8224768  [822476800.00%8232960  [823296000.00%8241152  [824115200.00%8249344  [824934400.00%8257536  [825753600.00%8265728  [826572800.00%8273920  [827392000.00%8282112  [828211200.00%8290304  [829030400.00%8298496  [829849600.00%8306688  [830668800.00%8314880  [831488000.00%8323072  [832307200.00%8331264  [833126400.00%8339456  [833945600.00%8347648  [834764800.00%8355840  [835584000.00%8364032  [836403200.00%8372224  [837222400.00%8380416  [838041600.00%8388608  [838860800.00%8396800  [839680000.00%8404992  [840499200.00%8413184  [841318400.00%8421376  [842137600.00%8429568  [842956800.00%8437760  [843776000.00%8445952  [844595200.00%8454144  [845414400.00%8462336  [846233600.00%8470528  [847052800.00%8478720  [847872000.00%8486912  [848691200.00%8495104  [849510400.00%8503296  [850329600.00%8511488  [851148800.00%8519680  [851968000.00%8527872  [852787200.00%8536064  [853606400.00%8544256  [854425600.00%8552448  [855244800.00%8560640  [856064000.00%8568832  [856883200.00%8577024  [857702400.00%8585216  [858521600.00%8593408  [859340800.00%8601600  [860160000.00%8609792  [860979200.00%8617984  [861798400.00%8626176  [862617600.00%8634368  [863436800.00%8642560  [864256000.00%8650752  [865075200.00%8658944  [865894400.00%8667136  [866713600.00%8675328  [867532800.00%8683520  [868352000.00%8691712  [869171200.00%8699904  [869990400.00%8708096  [870809600.00%8716288  [871628800.00%8724480  [872448000.00%8732672  [873267200.00%8740864  [874086400.00%8749056  [874905600.00%8757248  [875724800.00%8765440  [876544000.00%8773632  [877363200.00%8781824  [878182400.00%8790016  [879001600.00%8798208  [879820800.00%8806400  [880640000.00%8814592  [881459200.00%8822784  [882278400.00%8830976  [883097600.00%8839168  [883916800.00%8847360  [884736000.00%8855552  [885555200.00%8863744  [886374400.00%8871936  [887193600.00%8880128  [888012800.00%8888320  [888832000.00%8896512  [889651200.00%8904704  [890470400.00%8912896  [891289600.00%8921088  [892108800.00%8929280  [892928000.00%8937472  [893747200.00%8945664  [894566400.00%8953856  [895385600.00%8962048  [896204800.00%8970240  [897024000.00%8978432  [897843200.00%8986624  [898662400.00%8994816  [899481600.00%9003008  [900300800.00%9011200  [901120000.00%9019392  [901939200.00%9027584  [902758400.00%9035776  [903577600.00%9043968  [904396800.00%9052160  [905216000.00%9060352  [906035200.00%9068544  [906854400.00%9076736  [907673600.00%9084928  [908492800.00%9093120  [909312000.00%9101312  [910131200.00%9109504  [910950400.00%9117696  [911769600.00%9125888  [912588800.00%9134080  [913408000.00%9142272  [914227200.00%9150464  [915046400.00%9158656  [915865600.00%9166848  [916684800.00%9175040  [917504000.00%9183232  [918323200.00%9191424  [919142400.00%9199616  [919961600.00%9207808  [920780800.00%9216000  [921600000.00%9224192  [922419200.00%9232384  [923238400.00%9240576  [924057600.00%9248768  [924876800.00%9256960  [925696000.00%9265152  [926515200.00%9273344  [927334400.00%9281536  [928153600.00%9289728  [928972800.00%9297920  [929792000.00%9306112  [930611200.00%9314304  [931430400.00%9322496  [932249600.00%9330688  [933068800.00%9338880  [933888000.00%9347072  [934707200.00%9355264  [935526400.00%9363456  [936345600.00%9371648  [937164800.00%9379840  [937984000.00%9388032  [938803200.00%9396224  [939622400.00%9404416  [940441600.00%9412608  [941260800.00%9420800  [942080000.00%9428992  [942899200.00%9437184  [943718400.00%9445376  [944537600.00%9453568  [945356800.00%9461760  [946176000.00%9469952  [946995200.00%9478144  [947814400.00%9486336  [948633600.00%9494528  [949452800.00%9502720  [950272000.00%9510912  [951091200.00%9519104  [951910400.00%9527296  [952729600.00%9535488  [953548800.00%9543680  [954368000.00%9551872  [955187200.00%9560064  [956006400.00%9568256  [956825600.00%9576448  [957644800.00%9584640  [958464000.00%9592832  [959283200.00%9601024  [960102400.00%9609216  [960921600.00%9617408  [961740800.00%9625600  [962560000.00%9633792  [963379200.00%9641984  [964198400.00%9650176  [965017600.00%9658368  [965836800.00%9666560  [966656000.00%9674752  [967475200.00%9682944  [968294400.00%9691136  [969113600.00%9699328  [969932800.00%9707520  [970752000.00%9715712  [971571200.00%9723904  [972390400.00%9732096  [973209600.00%9740288  [974028800.00%9748480  [974848000.00%9756672  [975667200.00%9764864  [976486400.00%9773056  [977305600.00%9781248  [978124800.00%9789440  [978944000.00%9797632  [979763200.00%9805824  [980582400.00%9814016  [981401600.00%9822208  [982220800.00%9830400  [983040000.00%9838592  [983859200.00%9846784  [984678400.00%9854976  [985497600.00%9863168  [986316800.00%9871360  [987136000.00%9879552  [987955200.00%9887744  [988774400.00%9895936  [989593600.00%9904128  [990412800.00%9912320  [991232000.00%9920512  [992051200.00%9928704  [992870400.00%9936896  [993689600.00%9945088  [994508800.00%9953280  [995328000.00%9961472  [996147200.00%9969664  [996966400.00%9977856  [997785600.00%9986048  [998604800.00%9994240  [999424000.00%10002432  [1000243200.00%10010624  [1001062400.00%10018816  [1001881600.00%10027008  [1002700800.00%10035200  [1003520000.00%10043392  [1004339200.00%10051584  [1005158400.00%10059776  [1005977600.00%10067968  [1006796800.00%10076160  [1007616000.00%10084352  [1008435200.00%10092544  [1009254400.00%10100736  [1010073600.00%10108928  [1010892800.00%10117120  [1011712000.00%10125312  [1012531200.00%10133504  [1013350400.00%10141696  [1014169600.00%10149888  [1014988800.00%10158080  [1015808000.00%10166272  [1016627200.00%10174464  [1017446400.00%10182656  [1018265600.00%10190848  [1019084800.00%10199040  [1019904000.00%10207232  [1020723200.00%10215424  [1021542400.00%10223616  [1022361600.00%10231808  [1023180800.00%10240000  [1024000000.00%10248192  [1024819200.00%10256384  [1025638400.00%10264576  [1026457600.00%10272768  [1027276800.00%10280960  [1028096000.00%10289152  [1028915200.00%10297344  [1029734400.00%10305536  [1030553600.00%10313728  [1031372800.00%10321920  [1032192000.00%10330112  [1033011200.00%10338304  [1033830400.00%10346496  [1034649600.00%10354688  [1035468800.00%10362880  [1036288000.00%10371072  [1037107200.00%10379264  [1037926400.00%10387456  [1038745600.00%10395648  [1039564800.00%10403840  [1040384000.00%10412032  [1041203200.00%10420224  [1042022400.00%10428416  [1042841600.00%10436608  [1043660800.00%10444800  [1044480000.00%10452992  [1045299200.00%10461184  [1046118400.00%10469376  [1046937600.00%10477568  [1047756800.00%10485760  [1048576000.00%10493952  [1049395200.00%10502144  [1050214400.00%10510336  [1051033600.00%10518528  [1051852800.00%10526720  [1052672000.00%10534912  [1053491200.00%10543104  [1054310400.00%10551296  [1055129600.00%10559488  [1055948800.00%10567680  [1056768000.00%10575872  [1057587200.00%10584064  [1058406400.00%10592256  [1059225600.00%10600448  [1060044800.00%10608640  [1060864000.00%10616832  [1061683200.00%10625024  [1062502400.00%10633216  [1063321600.00%10641408  [1064140800.00%10649600  [1064960000.00%10657792  [1065779200.00%10665984  [1066598400.00%10674176  [1067417600.00%10682368  [1068236800.00%10690560  [1069056000.00%10698752  [1069875200.00%10706944  [1070694400.00%10715136  [1071513600.00%10723328  [1072332800.00%10731520  [1073152000.00%10739712  [1073971200.00%10747904  [1074790400.00%10756096  [1075609600.00%10764288  [1076428800.00%10772480  [1077248000.00%10780672  [1078067200.00%10788864  [1078886400.00%10797056  [1079705600.00%10805248  [1080524800.00%10813440  [1081344000.00%10821632  [1082163200.00%10829824  [1082982400.00%10838016  [1083801600.00%10846208  [1084620800.00%10854400  [1085440000.00%10862592  [1086259200.00%10870784  [1087078400.00%10878976  [1087897600.00%10887168  [1088716800.00%10895360  [1089536000.00%10903552  [1090355200.00%10911744  [1091174400.00%10919936  [1091993600.00%10928128  [1092812800.00%10936320  [1093632000.00%10944512  [1094451200.00%10952704  [1095270400.00%10960896  [1096089600.00%10969088  [1096908800.00%10977280  [1097728000.00%10985472  [1098547200.00%10993664  [1099366400.00%11001856  [1100185600.00%11010048  [1101004800.00%11018240  [1101824000.00%11026432  [1102643200.00%11034624  [1103462400.00%11042816  [1104281600.00%11051008  [1105100800.00%11059200  [1105920000.00%11067392  [1106739200.00%11075584  [1107558400.00%11083776  [1108377600.00%11091968  [1109196800.00%11100160  [1110016000.00%11108352  [1110835200.00%11116544  [1111654400.00%11124736  [1112473600.00%11132928  [1113292800.00%11141120  [1114112000.00%11149312  [1114931200.00%11157504  [1115750400.00%11165696  [1116569600.00%11173888  [1117388800.00%11182080  [1118208000.00%11190272  [1119027200.00%11198464  [1119846400.00%11206656  [1120665600.00%11214848  [1121484800.00%11223040  [1122304000.00%11231232  [1123123200.00%11239424  [1123942400.00%11247616  [1124761600.00%11255808  [1125580800.00%11264000  [1126400000.00%11272192  [1127219200.00%11280384  [1128038400.00%11288576  [1128857600.00%11296768  [1129676800.00%11304960  [1130496000.00%11313152  [1131315200.00%11321344  [1132134400.00%11329536  [1132953600.00%11337728  [1133772800.00%11345920  [1134592000.00%11354112  [1135411200.00%11362304  [1136230400.00%11370496  [1137049600.00%11378688  [1137868800.00%11386880  [1138688000.00%11395072  [1139507200.00%11403264  [1140326400.00%11411456  [1141145600.00%11419648  [1141964800.00%11427840  [1142784000.00%11436032  [1143603200.00%11444224  [1144422400.00%11452416  [1145241600.00%11460608  [1146060800.00%11468800  [1146880000.00%11476992  [1147699200.00%11485184  [1148518400.00%11493376  [1149337600.00%11501568  [1150156800.00%11509760  [1150976000.00%11517952  [1151795200.00%11526144  [1152614400.00%11534336  [1153433600.00%11542528  [1154252800.00%11550720  [1155072000.00%11558912  [1155891200.00%11567104  [1156710400.00%11575296  [1157529600.00%11583488  [1158348800.00%11591680  [1159168000.00%11599872  [1159987200.00%11608064  [1160806400.00%11616256  [1161625600.00%11624448  [1162444800.00%11632640  [1163264000.00%11640832  [1164083200.00%11649024  [1164902400.00%11657216  [1165721600.00%11665408  [1166540800.00%11673600  [1167360000.00%11681792  [1168179200.00%11689984  [1168998400.00%11698176  [1169817600.00%11706368  [1170636800.00%11714560  [1171456000.00%11722752  [1172275200.00%11730944  [1173094400.00%11739136  [1173913600.00%11747328  [1174732800.00%11755520  [1175552000.00%11763712  [1176371200.00%11771904  [1177190400.00%11780096  [1178009600.00%11788288  [1178828800.00%11796480  [1179648000.00%11804672  [1180467200.00%11812864  [1181286400.00%11821056  [1182105600.00%11829248  [1182924800.00%11837440  [1183744000.00%11845632  [1184563200.00%11853824  [1185382400.00%11862016  [1186201600.00%11870208  [1187020800.00%11878400  [1187840000.00%11886592  [1188659200.00%11894784  [1189478400.00%11902976  [1190297600.00%11911168  [1191116800.00%11919360  [1191936000.00%11927552  [1192755200.00%11935744  [1193574400.00%11943936  [1194393600.00%11952128  [1195212800.00%11960320  [1196032000.00%11968512  [1196851200.00%11976704  [1197670400.00%11984896  [1198489600.00%11993088  [1199308800.00%12001280  [1200128000.00%12009472  [1200947200.00%12017664  [1201766400.00%12025856  [1202585600.00%12034048  [1203404800.00%12042240  [1204224000.00%12050432  [1205043200.00%12058624  [1205862400.00%12066816  [1206681600.00%12075008  [1207500800.00%12083200  [1208320000.00%12091392  [1209139200.00%12099584  [1209958400.00%12107776  [1210777600.00%12115968  [1211596800.00%12124160  [1212416000.00%12132352  [1213235200.00%12140544  [1214054400.00%12148736  [1214873600.00%12156928  [1215692800.00%12165120  [1216512000.00%12173312  [1217331200.00%12181504  [1218150400.00%12189696  [1218969600.00%12197888  [1219788800.00%12206080  [1220608000.00%12214272  [1221427200.00%12222464  [1222246400.00%12230656  [1223065600.00%12238848  [1223884800.00%12247040  [1224704000.00%12255232  [1225523200.00%12263424  [1226342400.00%12271616  [1227161600.00%12279808  [1227980800.00%12288000  [1228800000.00%12296192  [1229619200.00%12304384  [1230438400.00%12312576  [1231257600.00%12320768  [1232076800.00%12328960  [1232896000.00%12337152  [1233715200.00%12345344  [1234534400.00%12353536  [1235353600.00%12361728  [1236172800.00%12369920  [1236992000.00%12378112  [1237811200.00%12386304  [1238630400.00%12394496  [1239449600.00%12402688  [1240268800.00%12410880  [1241088000.00%12419072  [1241907200.00%12427264  [1242726400.00%12435456  [1243545600.00%12443648  [1244364800.00%12451840  [1245184000.00%12460032  [1246003200.00%12468224  [1246822400.00%12476416  [1247641600.00%12484608  [1248460800.00%12492800  [1249280000.00%12500992  [1250099200.00%12509184  [1250918400.00%12517376  [1251737600.00%12525568  [1252556800.00%12533760  [1253376000.00%12541952  [1254195200.00%12550144  [1255014400.00%12558336  [1255833600.00%12566528  [1256652800.00%12574720  [1257472000.00%12582912  [1258291200.00%12591104  [1259110400.00%12599296  [1259929600.00%12607488  [1260748800.00%12615680  [1261568000.00%12623872  [1262387200.00%12632064  [1263206400.00%12640256  [1264025600.00%12648448  [1264844800.00%12656640  [1265664000.00%12664832  [1266483200.00%12673024  [1267302400.00%12681216  [1268121600.00%12689408  [1268940800.00%12697600  [1269760000.00%12705792  [1270579200.00%12713984  [1271398400.00%12722176  [1272217600.00%12730368  [1273036800.00%12738560  [1273856000.00%12746752  [1274675200.00%12754944  [1275494400.00%12763136  [1276313600.00%12771328  [1277132800.00%12779520  [1277952000.00%12787712  [1278771200.00%12795904  [1279590400.00%12804096  [1280409600.00%12812288  [1281228800.00%12820480  [1282048000.00%12828672  [1282867200.00%12836864  [1283686400.00%12845056  [1284505600.00%12853248  [1285324800.00%12861440  [1286144000.00%12869632  [1286963200.00%12877824  [1287782400.00%12886016  [1288601600.00%12894208  [1289420800.00%12902400  [1290240000.00%12910592  [1291059200.00%12918784  [1291878400.00%12926976  [1292697600.00%12935168  [1293516800.00%12943360  [1294336000.00%12951552  [1295155200.00%12959744  [1295974400.00%12967936  [1296793600.00%12976128  [1297612800.00%12984320  [1298432000.00%12992512  [1299251200.00%13000704  [1300070400.00%13008896  [1300889600.00%13017088  [1301708800.00%13025280  [1302528000.00%13033472  [1303347200.00%13041664  [1304166400.00%13049856  [1304985600.00%13058048  [1305804800.00%13066240  [1306624000.00%13074432  [1307443200.00%13082624  [1308262400.00%13090816  [1309081600.00%13099008  [1309900800.00%13107200  [1310720000.00%13115392  [1311539200.00%13123584  [1312358400.00%13131776  [1313177600.00%13139968  [1313996800.00%13148160  [1314816000.00%13156352  [1315635200.00%13164544  [1316454400.00%13172736  [1317273600.00%13180928  [1318092800.00%13189120  [1318912000.00%13197312  [1319731200.00%13205504  [1320550400.00%13213696  [1321369600.00%13221888  [1322188800.00%13230080  [1323008000.00%13238272  [1323827200.00%13246464  [1324646400.00%13254656  [1325465600.00%13262848  [1326284800.00%13271040  [1327104000.00%13279232  [1327923200.00%13287424  [1328742400.00%13295616  [1329561600.00%13303808  [1330380800.00%13312000  [1331200000.00%13320192  [1332019200.00%13328384  [1332838400.00%13336576  [1333657600.00%13344768  [1334476800.00%13352960  [1335296000.00%13361152  [1336115200.00%13369344  [1336934400.00%13377536  [1337753600.00%13385728  [1338572800.00%13393920  [1339392000.00%13402112  [1340211200.00%13410304  [1341030400.00%13418496  [1341849600.00%13426688  [1342668800.00%13434880  [1343488000.00%13443072  [1344307200.00%13451264  [1345126400.00%13459456  [1345945600.00%13467648  [1346764800.00%13475840  [1347584000.00%13484032  [1348403200.00%13492224  [1349222400.00%13500416  [1350041600.00%13508608  [1350860800.00%13516800  [1351680000.00%13524992  [1352499200.00%13533184  [1353318400.00%13541376  [1354137600.00%13549568  [1354956800.00%13557760  [1355776000.00%13565952  [1356595200.00%13574144  [1357414400.00%13582336  [1358233600.00%13590528  [1359052800.00%13598720  [1359872000.00%13606912  [1360691200.00%13615104  [1361510400.00%13623296  [1362329600.00%13631488  [1363148800.00%13639680  [1363968000.00%13647872  [1364787200.00%13656064  [1365606400.00%13664256  [1366425600.00%13672448  [1367244800.00%13680640  [1368064000.00%13688832  [1368883200.00%13697024  [1369702400.00%13705216  [1370521600.00%13713408  [1371340800.00%13721600  [1372160000.00%]\b\b\b\b\b\b\b\b\b\b\b\b\b\b\b\b\b\b\b\b\b\b\b\b\b\b\b13729792  [1372979200.00%]\b\b\b\b\b\b\b\b\b\b\b\b\b\b\b\b\b\b\b\b\b\b\b\b\b\b\b13737984  [1373798400.00%]\b\b\b\b\b\b\b\b\b\b\b\b\b\b\b\b\b\b\b\b\b\b\b\b\b\b\b13746176  [1374617600.00%]\b\b\b\b\b\b\b\b\b\b\b\b\b\b\b\b\b\b\b\b\b\b\b\b\b\b\b13754368  [1375436800.00%]\b\b\b\b\b\b\b\b\b\b\b\b\b\b\b\b\b\b\b\b\b\b\b\b\b\b\b13762560  [1376256000.00%]\b\b\b\b\b\b\b\b\b\b\b\b\b\b\b\b\b\b\b\b\b\b\b\b\b\b\b13770752  [1377075200.00%]\b\b\b\b\b\b\b\b\b\b\b\b\b\b\b\b\b\b\b\b\b\b\b\b\b\b\b13778944  [1377894400.00%]\b\b\b\b\b\b\b\b\b\b\b\b\b\b\b\b\b\b\b\b\b\b\b\b\b\b\b13787136  [1378713600.00%]\b\b\b\b\b\b\b\b\b\b\b\b\b\b\b\b\b\b\b\b\b\b\b\b\b\b\b13795328  [1379532800.00%]\b\b\b\b\b\b\b\b\b\b\b\b\b\b\b\b\b\b\b\b\b\b\b\b\b\b\b13803520  [1380352000.00%]\b\b\b\b\b\b\b\b\b\b\b\b\b\b\b\b\b\b\b\b\b\b\b\b\b\b\b13811712  [1381171200.00%]\b\b\b\b\b\b\b\b\b\b\b\b\b\b\b\b\b\b\b\b\b\b\b\b\b\b\b13819904  [1381990400.00%]\b\b\b\b\b\b\b\b\b\b\b\b\b\b\b\b\b\b\b\b\b\b\b\b\b\b\b13828096  [1382809600.00%]\b\b\b\b\b\b\b\b\b\b\b\b\b\b\b\b\b\b\b\b\b\b\b\b\b\b\b13836288  [1383628800.00%]\b\b\b\b\b\b\b\b\b\b\b\b\b\b\b\b\b\b\b\b\b\b\b\b\b\b\b13844480  [1384448000.00%]\b\b\b\b\b\b\b\b\b\b\b\b\b\b\b\b\b\b\b\b\b\b\b\b\b\b\b13852672  [1385267200.00%]\b\b\b\b\b\b\b\b\b\b\b\b\b\b\b\b\b\b\b\b\b\b\b\b\b\b\b13860864  [1386086400.00%]\b\b\b\b\b\b\b\b\b\b\b\b\b\b\b\b\b\b\b\b\b\b\b\b\b\b\b13869056  [1386905600.00%]\b\b\b\b\b\b\b\b\b\b\b\b\b\b\b\b\b\b\b\b\b\b\b\b\b\b\b13877248  [1387724800.00%]\b\b\b\b\b\b\b\b\b\b\b\b\b\b\b\b\b\b\b\b\b\b\b\b\b\b\b13885440  [1388544000.00%]\b\b\b\b\b\b\b\b\b\b\b\b\b\b\b\b\b\b\b\b\b\b\b\b\b\b\b13893632  [1389363200.00%]\b\b\b\b\b\b\b\b\b\b\b\b\b\b\b\b\b\b\b\b\b\b\b\b\b\b\b13901824  [1390182400.00%]\b\b\b\b\b\b\b\b\b\b\b\b\b\b\b\b\b\b\b\b\b\b\b\b\b\b\b13910016  [1391001600.00%]\b\b\b\b\b\b\b\b\b\b\b\b\b\b\b\b\b\b\b\b\b\b\b\b\b\b\b13918208  [1391820800.00%]\b\b\b\b\b\b\b\b\b\b\b\b\b\b\b\b\b\b\b\b\b\b\b\b\b\b\b13926400  [1392640000.00%]\b\b\b\b\b\b\b\b\b\b\b\b\b\b\b\b\b\b\b\b\b\b\b\b\b\b\b13934592  [1393459200.00%]\b\b\b\b\b\b\b\b\b\b\b\b\b\b\b\b\b\b\b\b\b\b\b\b\b\b\b13942784  [1394278400.00%]\b\b\b\b\b\b\b\b\b\b\b\b\b\b\b\b\b\b\b\b\b\b\b\b\b\b\b13950976  [1395097600.00%]\b\b\b\b\b\b\b\b\b\b\b\b\b\b\b\b\b\b\b\b\b\b\b\b\b\b\b13959168  [1395916800.00%]\b\b\b\b\b\b\b\b\b\b\b\b\b\b\b\b\b\b\b\b\b\b\b\b\b\b\b13967360  [1396736000.00%]\b\b\b\b\b\b\b\b\b\b\b\b\b\b\b\b\b\b\b\b\b\b\b\b\b\b\b13975552  [1397555200.00%]\b\b\b\b\b\b\b\b\b\b\b\b\b\b\b\b\b\b\b\b\b\b\b\b\b\b\b13983744  [1398374400.00%]\b\b\b\b\b\b\b\b\b\b\b\b\b\b\b\b\b\b\b\b\b\b\b\b\b\b\b13991936  [1399193600.00%]\b\b\b\b\b\b\b\b\b\b\b\b\b\b\b\b\b\b\b\b\b\b\b\b\b\b\b14000128  [1400012800.00%]\b\b\b\b\b\b\b\b\b\b\b\b\b\b\b\b\b\b\b\b\b\b\b\b\b\b\b14008320  [1400832000.00%]\b\b\b\b\b\b\b\b\b\b\b\b\b\b\b\b\b\b\b\b\b\b\b\b\b\b\b14016512  [1401651200.00%]\b\b\b\b\b\b\b\b\b\b\b\b\b\b\b\b\b\b\b\b\b\b\b\b\b\b\b14024704  [1402470400.00%]\b\b\b\b\b\b\b\b\b\b\b\b\b\b\b\b\b\b\b\b\b\b\b\b\b\b\b14032896  [1403289600.00%]\b\b\b\b\b\b\b\b\b\b\b\b\b\b\b\b\b\b\b\b\b\b\b\b\b\b\b14041088  [1404108800.00%]\b\b\b\b\b\b\b\b\b\b\b\b\b\b\b\b\b\b\b\b\b\b\b\b\b\b\b14049280  [1404928000.00%]\b\b\b\b\b\b\b\b\b\b\b\b\b\b\b\b\b\b\b\b\b\b\b\b\b\b\b14057472  [1405747200.00%]\b\b\b\b\b\b\b\b\b\b\b\b\b\b\b\b\b\b\b\b\b\b\b\b\b\b\b14065664  [1406566400.00%]\b\b\b\b\b\b\b\b\b\b\b\b\b\b\b\b\b\b\b\b\b\b\b\b\b\b\b14073856  [1407385600.00%]\b\b\b\b\b\b\b\b\b\b\b\b\b\b\b\b\b\b\b\b\b\b\b\b\b\b\b14082048  [1408204800.00%]\b\b\b\b\b\b\b\b\b\b\b\b\b\b\b\b\b\b\b\b\b\b\b\b\b\b\b14090240  [1409024000.00%]\b\b\b\b\b\b\b\b\b\b\b\b\b\b\b\b\b\b\b\b\b\b\b\b\b\b\b14098432  [1409843200.00%]\b\b\b\b\b\b\b\b\b\b\b\b\b\b\b\b\b\b\b\b\b\b\b\b\b\b\b14106624  [1410662400.00%]\b\b\b\b\b\b\b\b\b\b\b\b\b\b\b\b\b\b\b\b\b\b\b\b\b\b\b14114816  [1411481600.00%]\b\b\b\b\b\b\b\b\b\b\b\b\b\b\b\b\b\b\b\b\b\b\b\b\b\b\b14123008  [1412300800.00%]\b\b\b\b\b\b\b\b\b\b\b\b\b\b\b\b\b\b\b\b\b\b\b\b\b\b\b14131200  [1413120000.00%]\b\b\b\b\b\b\b\b\b\b\b\b\b\b\b\b\b\b\b\b\b\b\b\b\b\b\b14139392  [1413939200.00%]\b\b\b\b\b\b\b\b\b\b\b\b\b\b\b\b\b\b\b\b\b\b\b\b\b\b\b14147584  [1414758400.00%]\b\b\b\b\b\b\b\b\b\b\b\b\b\b\b\b\b\b\b\b\b\b\b\b\b\b\b14155776  [1415577600.00%]\b\b\b\b\b\b\b\b\b\b\b\b\b\b\b\b\b\b\b\b\b\b\b\b\b\b\b14163968  [1416396800.00%]\b\b\b\b\b\b\b\b\b\b\b\b\b\b\b\b\b\b\b\b\b\b\b\b\b\b\b14172160  [1417216000.00%]\b\b\b\b\b\b\b\b\b\b\b\b\b\b\b\b\b\b\b\b\b\b\b\b\b\b\b14180352  [1418035200.00%]\b\b\b\b\b\b\b\b\b\b\b\b\b\b\b\b\b\b\b\b\b\b\b\b\b\b\b14188544  [1418854400.00%]\b\b\b\b\b\b\b\b\b\b\b\b\b\b\b\b\b\b\b\b\b\b\b\b\b\b\b14196736  [1419673600.00%]\b\b\b\b\b\b\b\b\b\b\b\b\b\b\b\b\b\b\b\b\b\b\b\b\b\b\b14204928  [1420492800.00%]\b\b\b\b\b\b\b\b\b\b\b\b\b\b\b\b\b\b\b\b\b\b\b\b\b\b\b14213120  [1421312000.00%]\b\b\b\b\b\b\b\b\b\b\b\b\b\b\b\b\b\b\b\b\b\b\b\b\b\b\b14221312  [1422131200.00%]\b\b\b\b\b\b\b\b\b\b\b\b\b\b\b\b\b\b\b\b\b\b\b\b\b\b\b14229504  [1422950400.00%]\b\b\b\b\b\b\b\b\b\b\b\b\b\b\b\b\b\b\b\b\b\b\b\b\b\b\b14237696  [1423769600.00%]\b\b\b\b\b\b\b\b\b\b\b\b\b\b\b\b\b\b\b\b\b\b\b\b\b\b\b14245888  [1424588800.00%]\b\b\b\b\b\b\b\b\b\b\b\b\b\b\b\b\b\b\b\b\b\b\b\b\b\b\b14254080  [1425408000.00%]\b\b\b\b\b\b\b\b\b\b\b\b\b\b\b\b\b\b\b\b\b\b\b\b\b\b\b14262272  [1426227200.00%]\b\b\b\b\b\b\b\b\b\b\b\b\b\b\b\b\b\b\b\b\b\b\b\b\b\b\b14270464  [1427046400.00%]\b\b\b\b\b\b\b\b\b\b\b\b\b\b\b\b\b\b\b\b\b\b\b\b\b\b\b14278656  [1427865600.00%]\b\b\b\b\b\b\b\b\b\b\b\b\b\b\b\b\b\b\b\b\b\b\b\b\b\b\b14286848  [1428684800.00%]\b\b\b\b\b\b\b\b\b\b\b\b\b\b\b\b\b\b\b\b\b\b\b\b\b\b\b14295040  [1429504000.00%]\b\b\b\b\b\b\b\b\b\b\b\b\b\b\b\b\b\b\b\b\b\b\b\b\b\b\b14303232  [1430323200.00%]\b\b\b\b\b\b\b\b\b\b\b\b\b\b\b\b\b\b\b\b\b\b\b\b\b\b\b14311424  [1431142400.00%]\b\b\b\b\b\b\b\b\b\b\b\b\b\b\b\b\b\b\b\b\b\b\b\b\b\b\b14319616  [1431961600.00%]\b\b\b\b\b\b\b\b\b\b\b\b\b\b\b\b\b\b\b\b\b\b\b\b\b\b\b14327808  [1432780800.00%]\b\b\b\b\b\b\b\b\b\b\b\b\b\b\b\b\b\b\b\b\b\b\b\b\b\b\b14336000  [1433600000.00%]\b\b\b\b\b\b\b\b\b\b\b\b\b\b\b\b\b\b\b\b\b\b\b\b\b\b\b14344192  [1434419200.00%]\b\b\b\b\b\b\b\b\b\b\b\b\b\b\b\b\b\b\b\b\b\b\b\b\b\b\b14352384  [1435238400.00%]\b\b\b\b\b\b\b\b\b\b\b\b\b\b\b\b\b\b\b\b\b\b\b\b\b\b\b14360576  [1436057600.00%]\b\b\b\b\b\b\b\b\b\b\b\b\b\b\b\b\b\b\b\b\b\b\b\b\b\b\b14368768  [1436876800.00%]\b\b\b\b\b\b\b\b\b\b\b\b\b\b\b\b\b\b\b\b\b\b\b\b\b\b\b14376960  [1437696000.00%]\b\b\b\b\b\b\b\b\b\b\b\b\b\b\b\b\b\b\b\b\b\b\b\b\b\b\b14385152  [1438515200.00%]\b\b\b\b\b\b\b\b\b\b\b\b\b\b\b\b\b\b\b\b\b\b\b\b\b\b\b14393344  [1439334400.00%]\b\b\b\b\b\b\b\b\b\b\b\b\b\b\b\b\b\b\b\b\b\b\b\b\b\b\b14401536  [1440153600.00%]\b\b\b\b\b\b\b\b\b\b\b\b\b\b\b\b\b\b\b\b\b\b\b\b\b\b\b14409728  [1440972800.00%]\b\b\b\b\b\b\b\b\b\b\b\b\b\b\b\b\b\b\b\b\b\b\b\b\b\b\b14417920  [1441792000.00%]\b\b\b\b\b\b\b\b\b\b\b\b\b\b\b\b\b\b\b\b\b\b\b\b\b\b\b14426112  [1442611200.00%]\b\b\b\b\b\b\b\b\b\b\b\b\b\b\b\b\b\b\b\b\b\b\b\b\b\b\b14434304  [1443430400.00%]\b\b\b\b\b\b\b\b\b\b\b\b\b\b\b\b\b\b\b\b\b\b\b\b\b\b\b14442496  [1444249600.00%]\b\b\b\b\b\b\b\b\b\b\b\b\b\b\b\b\b\b\b\b\b\b\b\b\b\b\b14450688  [1445068800.00%]\b\b\b\b\b\b\b\b\b\b\b\b\b\b\b\b\b\b\b\b\b\b\b\b\b\b\b14458880  [1445888000.00%]\b\b\b\b\b\b\b\b\b\b\b\b\b\b\b\b\b\b\b\b\b\b\b\b\b\b\b14467072  [1446707200.00%]\b\b\b\b\b\b\b\b\b\b\b\b\b\b\b\b\b\b\b\b\b\b\b\b\b\b\b14475264  [1447526400.00%]\b\b\b\b\b\b\b\b\b\b\b\b\b\b\b\b\b\b\b\b\b\b\b\b\b\b\b14483456  [1448345600.00%]\b\b\b\b\b\b\b\b\b\b\b\b\b\b\b\b\b\b\b\b\b\b\b\b\b\b\b14491648  [1449164800.00%]\b\b\b\b\b\b\b\b\b\b\b\b\b\b\b\b\b\b\b\b\b\b\b\b\b\b\b14499840  [1449984000.00%]\b\b\b\b\b\b\b\b\b\b\b\b\b\b\b\b\b\b\b\b\b\b\b\b\b\b\b14508032  [1450803200.00%]\b\b\b\b\b\b\b\b\b\b\b\b\b\b\b\b\b\b\b\b\b\b\b\b\b\b\b14516224  [1451622400.00%]\b\b\b\b\b\b\b\b\b\b\b\b\b\b\b\b\b\b\b\b\b\b\b\b\b\b\b14524416  [1452441600.00%]\b\b\b\b\b\b\b\b\b\b\b\b\b\b\b\b\b\b\b\b\b\b\b\b\b\b\b14532608  [1453260800.00%]\b\b\b\b\b\b\b\b\b\b\b\b\b\b\b\b\b\b\b\b\b\b\b\b\b\b\b14540800  [1454080000.00%]\b\b\b\b\b\b\b\b\b\b\b\b\b\b\b\b\b\b\b\b\b\b\b\b\b\b\b14548992  [1454899200.00%]\b\b\b\b\b\b\b\b\b\b\b\b\b\b\b\b\b\b\b\b\b\b\b\b\b\b\b14557184  [1455718400.00%]\b\b\b\b\b\b\b\b\b\b\b\b\b\b\b\b\b\b\b\b\b\b\b\b\b\b\b14565376  [1456537600.00%]\b\b\b\b\b\b\b\b\b\b\b\b\b\b\b\b\b\b\b\b\b\b\b\b\b\b\b14573568  [1457356800.00%]\b\b\b\b\b\b\b\b\b\b\b\b\b\b\b\b\b\b\b\b\b\b\b\b\b\b\b14581760  [1458176000.00%]\b\b\b\b\b\b\b\b\b\b\b\b\b\b\b\b\b\b\b\b\b\b\b\b\b\b\b14589952  [1458995200.00%]\b\b\b\b\b\b\b\b\b\b\b\b\b\b\b\b\b\b\b\b\b\b\b\b\b\b\b14598144  [1459814400.00%]\b\b\b\b\b\b\b\b\b\b\b\b\b\b\b\b\b\b\b\b\b\b\b\b\b\b\b14606336  [1460633600.00%]\b\b\b\b\b\b\b\b\b\b\b\b\b\b\b\b\b\b\b\b\b\b\b\b\b\b\b14614528  [1461452800.00%]\b\b\b\b\b\b\b\b\b\b\b\b\b\b\b\b\b\b\b\b\b\b\b\b\b\b\b14622720  [1462272000.00%]\b\b\b\b\b\b\b\b\b\b\b\b\b\b\b\b\b\b\b\b\b\b\b\b\b\b\b14630912  [1463091200.00%]\b\b\b\b\b\b\b\b\b\b\b\b\b\b\b\b\b\b\b\b\b\b\b\b\b\b\b14639104  [1463910400.00%]\b\b\b\b\b\b\b\b\b\b\b\b\b\b\b\b\b\b\b\b\b\b\b\b\b\b\b14647296  [1464729600.00%]\b\b\b\b\b\b\b\b\b\b\b\b\b\b\b\b\b\b\b\b\b\b\b\b\b\b\b14655488  [1465548800.00%]\b\b\b\b\b\b\b\b\b\b\b\b\b\b\b\b\b\b\b\b\b\b\b\b\b\b\b14663680  [1466368000.00%]\b\b\b\b\b\b\b\b\b\b\b\b\b\b\b\b\b\b\b\b\b\b\b\b\b\b\b14671872  [1467187200.00%]\b\b\b\b\b\b\b\b\b\b\b\b\b\b\b\b\b\b\b\b\b\b\b\b\b\b\b14680064  [1468006400.00%]\b\b\b\b\b\b\b\b\b\b\b\b\b\b\b\b\b\b\b\b\b\b\b\b\b\b\b14688256  [1468825600.00%]\b\b\b\b\b\b\b\b\b\b\b\b\b\b\b\b\b\b\b\b\b\b\b\b\b\b\b14696448  [1469644800.00%]\b\b\b\b\b\b\b\b\b\b\b\b\b\b\b\b\b\b\b\b\b\b\b\b\b\b\b14704640  [1470464000.00%]\b\b\b\b\b\b\b\b\b\b\b\b\b\b\b\b\b\b\b\b\b\b\b\b\b\b\b14712832  [1471283200.00%]\b\b\b\b\b\b\b\b\b\b\b\b\b\b\b\b\b\b\b\b\b\b\b\b\b\b\b14721024  [1472102400.00%]\b\b\b\b\b\b\b\b\b\b\b\b\b\b\b\b\b\b\b\b\b\b\b\b\b\b\b14729216  [1472921600.00%]\b\b\b\b\b\b\b\b\b\b\b\b\b\b\b\b\b\b\b\b\b\b\b\b\b\b\b14737408  [1473740800.00%]\b\b\b\b\b\b\b\b\b\b\b\b\b\b\b\b\b\b\b\b\b\b\b\b\b\b\b14745600  [1474560000.00%]\b\b\b\b\b\b\b\b\b\b\b\b\b\b\b\b\b\b\b\b\b\b\b\b\b\b\b14753792  [1475379200.00%]\b\b\b\b\b\b\b\b\b\b\b\b\b\b\b\b\b\b\b\b\b\b\b\b\b\b\b14761984  [1476198400.00%]\b\b\b\b\b\b\b\b\b\b\b\b\b\b\b\b\b\b\b\b\b\b\b\b\b\b\b14770176  [1477017600.00%]\b\b\b\b\b\b\b\b\b\b\b\b\b\b\b\b\b\b\b\b\b\b\b\b\b\b\b14778368  [1477836800.00%]\b\b\b\b\b\b\b\b\b\b\b\b\b\b\b\b\b\b\b\b\b\b\b\b\b\b\b14786560  [1478656000.00%]\b\b\b\b\b\b\b\b\b\b\b\b\b\b\b\b\b\b\b\b\b\b\b\b\b\b\b14794752  [1479475200.00%]\b\b\b\b\b\b\b\b\b\b\b\b\b\b\b\b\b\b\b\b\b\b\b\b\b\b\b14802944  [1480294400.00%]\b\b\b\b\b\b\b\b\b\b\b\b\b\b\b\b\b\b\b\b\b\b\b\b\b\b\b14811136  [1481113600.00%]\b\b\b\b\b\b\b\b\b\b\b\b\b\b\b\b\b\b\b\b\b\b\b\b\b\b\b14819328  [1481932800.00%]\b\b\b\b\b\b\b\b\b\b\b\b\b\b\b\b\b\b\b\b\b\b\b\b\b\b\b14827520  [1482752000.00%]\b\b\b\b\b\b\b\b\b\b\b\b\b\b\b\b\b\b\b\b\b\b\b\b\b\b\b14835712  [1483571200.00%]\b\b\b\b\b\b\b\b\b\b\b\b\b\b\b\b\b\b\b\b\b\b\b\b\b\b\b14843904  [1484390400.00%]\b\b\b\b\b\b\b\b\b\b\b\b\b\b\b\b\b\b\b\b\b\b\b\b\b\b\b14852096  [1485209600.00%]\b\b\b\b\b\b\b\b\b\b\b\b\b\b\b\b\b\b\b\b\b\b\b\b\b\b\b14860288  [1486028800.00%]\b\b\b\b\b\b\b\b\b\b\b\b\b\b\b\b\b\b\b\b\b\b\b\b\b\b\b14868480  [1486848000.00%]\b\b\b\b\b\b\b\b\b\b\b\b\b\b\b\b\b\b\b\b\b\b\b\b\b\b\b14876672  [1487667200.00%]\b\b\b\b\b\b\b\b\b\b\b\b\b\b\b\b\b\b\b\b\b\b\b\b\b\b\b14884864  [1488486400.00%]\b\b\b\b\b\b\b\b\b\b\b\b\b\b\b\b\b\b\b\b\b\b\b\b\b\b\b14893056  [1489305600.00%]\b\b\b\b\b\b\b\b\b\b\b\b\b\b\b\b\b\b\b\b\b\b\b\b\b\b\b14901248  [1490124800.00%]\b\b\b\b\b\b\b\b\b\b\b\b\b\b\b\b\b\b\b\b\b\b\b\b\b\b\b14909440  [1490944000.00%]\b\b\b\b\b\b\b\b\b\b\b\b\b\b\b\b\b\b\b\b\b\b\b\b\b\b\b14917632  [1491763200.00%]\b\b\b\b\b\b\b\b\b\b\b\b\b\b\b\b\b\b\b\b\b\b\b\b\b\b\b14925824  [1492582400.00%]\b\b\b\b\b\b\b\b\b\b\b\b\b\b\b\b\b\b\b\b\b\b\b\b\b\b\b14934016  [1493401600.00%]\b\b\b\b\b\b\b\b\b\b\b\b\b\b\b\b\b\b\b\b\b\b\b\b\b\b\b14942208  [1494220800.00%]\b\b\b\b\b\b\b\b\b\b\b\b\b\b\b\b\b\b\b\b\b\b\b\b\b\b\b14950400  [1495040000.00%]\b\b\b\b\b\b\b\b\b\b\b\b\b\b\b\b\b\b\b\b\b\b\b\b\b\b\b14958592  [1495859200.00%]\b\b\b\b\b\b\b\b\b\b\b\b\b\b\b\b\b\b\b\b\b\b\b\b\b\b\b14966784  [1496678400.00%]\b\b\b\b\b\b\b\b\b\b\b\b\b\b\b\b\b\b\b\b\b\b\b\b\b\b\b14974976  [1497497600.00%]\b\b\b\b\b\b\b\b\b\b\b\b\b\b\b\b\b\b\b\b\b\b\b\b\b\b\b14983168  [1498316800.00%]\b\b\b\b\b\b\b\b\b\b\b\b\b\b\b\b\b\b\b\b\b\b\b\b\b\b\b14991360  [1499136000.00%]\b\b\b\b\b\b\b\b\b\b\b\b\b\b\b\b\b\b\b\b\b\b\b\b\b\b\b14999552  [1499955200.00%]\b\b\b\b\b\b\b\b\b\b\b\b\b\b\b\b\b\b\b\b\b\b\b\b\b\b\b15007744  [1500774400.00%]\b\b\b\b\b\b\b\b\b\b\b\b\b\b\b\b\b\b\b\b\b\b\b\b\b\b\b15015936  [1501593600.00%]\b\b\b\b\b\b\b\b\b\b\b\b\b\b\b\b\b\b\b\b\b\b\b\b\b\b\b15024128  [1502412800.00%]\b\b\b\b\b\b\b\b\b\b\b\b\b\b\b\b\b\b\b\b\b\b\b\b\b\b\b15032320  [1503232000.00%]\b\b\b\b\b\b\b\b\b\b\b\b\b\b\b\b\b\b\b\b\b\b\b\b\b\b\b15040512  [1504051200.00%]\b\b\b\b\b\b\b\b\b\b\b\b\b\b\b\b\b\b\b\b\b\b\b\b\b\b\b15048704  [1504870400.00%]\b\b\b\b\b\b\b\b\b\b\b\b\b\b\b\b\b\b\b\b\b\b\b\b\b\b\b15056896  [1505689600.00%]\b\b\b\b\b\b\b\b\b\b\b\b\b\b\b\b\b\b\b\b\b\b\b\b\b\b\b15065088  [1506508800.00%]\b\b\b\b\b\b\b\b\b\b\b\b\b\b\b\b\b\b\b\b\b\b\b\b\b\b\b15073280  [1507328000.00%]\b\b\b\b\b\b\b\b\b\b\b\b\b\b\b\b\b\b\b\b\b\b\b\b\b\b\b15081472  [1508147200.00%]\b\b\b\b\b\b\b\b\b\b\b\b\b\b\b\b\b\b\b\b\b\b\b\b\b\b\b15089664  [1508966400.00%]\b\b\b\b\b\b\b\b\b\b\b\b\b\b\b\b\b\b\b\b\b\b\b\b\b\b\b15097856  [1509785600.00%]\b\b\b\b\b\b\b\b\b\b\b\b\b\b\b\b\b\b\b\b\b\b\b\b\b\b\b15106048  [1510604800.00%]\b\b\b\b\b\b\b\b\b\b\b\b\b\b\b\b\b\b\b\b\b\b\b\b\b\b\b15114240  [1511424000.00%]\b\b\b\b\b\b\b\b\b\b\b\b\b\b\b\b\b\b\b\b\b\b\b\b\b\b\b15122432  [1512243200.00%]\b\b\b\b\b\b\b\b\b\b\b\b\b\b\b\b\b\b\b\b\b\b\b\b\b\b\b15130624  [1513062400.00%]\b\b\b\b\b\b\b\b\b\b\b\b\b\b\b\b\b\b\b\b\b\b\b\b\b\b\b15138816  [1513881600.00%]\b\b\b\b\b\b\b\b\b\b\b\b\b\b\b\b\b\b\b\b\b\b\b\b\b\b\b15147008  [1514700800.00%]\b\b\b\b\b\b\b\b\b\b\b\b\b\b\b\b\b\b\b\b\b\b\b\b\b\b\b15155200  [1515520000.00%]\b\b\b\b\b\b\b\b\b\b\b\b\b\b\b\b\b\b\b\b\b\b\b\b\b\b\b15163392  [1516339200.00%]\b\b\b\b\b\b\b\b\b\b\b\b\b\b\b\b\b\b\b\b\b\b\b\b\b\b\b15171584  [1517158400.00%]\b\b\b\b\b\b\b\b\b\b\b\b\b\b\b\b\b\b\b\b\b\b\b\b\b\b\b15179776  [1517977600.00%]\b\b\b\b\b\b\b\b\b\b\b\b\b\b\b\b\b\b\b\b\b\b\b\b\b\b\b15187968  [1518796800.00%]\b\b\b\b\b\b\b\b\b\b\b\b\b\b\b\b\b\b\b\b\b\b\b\b\b\b\b15196160  [1519616000.00%]\b\b\b\b\b\b\b\b\b\b\b\b\b\b\b\b\b\b\b\b\b\b\b\b\b\b\b15204352  [1520435200.00%]\b\b\b\b\b\b\b\b\b\b\b\b\b\b\b\b\b\b\b\b\b\b\b\b\b\b\b15212544  [1521254400.00%]\b\b\b\b\b\b\b\b\b\b\b\b\b\b\b\b\b\b\b\b\b\b\b\b\b\b\b15220736  [1522073600.00%]\b\b\b\b\b\b\b\b\b\b\b\b\b\b\b\b\b\b\b\b\b\b\b\b\b\b\b15228928  [1522892800.00%]\b\b\b\b\b\b\b\b\b\b\b\b\b\b\b\b\b\b\b\b\b\b\b\b\b\b\b15237120  [1523712000.00%]\b\b\b\b\b\b\b\b\b\b\b\b\b\b\b\b\b\b\b\b\b\b\b\b\b\b\b15245312  [1524531200.00%]\b\b\b\b\b\b\b\b\b\b\b\b\b\b\b\b\b\b\b\b\b\b\b\b\b\b\b15253504  [1525350400.00%]\b\b\b\b\b\b\b\b\b\b\b\b\b\b\b\b\b\b\b\b\b\b\b\b\b\b\b15261696  [1526169600.00%]\b\b\b\b\b\b\b\b\b\b\b\b\b\b\b\b\b\b\b\b\b\b\b\b\b\b\b15269888  [1526988800.00%]\b\b\b\b\b\b\b\b\b\b\b\b\b\b\b\b\b\b\b\b\b\b\b\b\b\b\b15278080  [1527808000.00%]\b\b\b\b\b\b\b\b\b\b\b\b\b\b\b\b\b\b\b\b\b\b\b\b\b\b\b15286272  [1528627200.00%]\b\b\b\b\b\b\b\b\b\b\b\b\b\b\b\b\b\b\b\b\b\b\b\b\b\b\b15294464  [1529446400.00%]\b\b\b\b\b\b\b\b\b\b\b\b\b\b\b\b\b\b\b\b\b\b\b\b\b\b\b15302656  [1530265600.00%]\b\b\b\b\b\b\b\b\b\b\b\b\b\b\b\b\b\b\b\b\b\b\b\b\b\b\b15310848  [1531084800.00%]\b\b\b\b\b\b\b\b\b\b\b\b\b\b\b\b\b\b\b\b\b\b\b\b\b\b\b15319040  [1531904000.00%]\b\b\b\b\b\b\b\b\b\b\b\b\b\b\b\b\b\b\b\b\b\b\b\b\b\b\b15327232  [1532723200.00%]\b\b\b\b\b\b\b\b\b\b\b\b\b\b\b\b\b\b\b\b\b\b\b\b\b\b\b15335424  [1533542400.00%]\b\b\b\b\b\b\b\b\b\b\b\b\b\b\b\b\b\b\b\b\b\b\b\b\b\b\b15343616  [1534361600.00%]\b\b\b\b\b\b\b\b\b\b\b\b\b\b\b\b\b\b\b\b\b\b\b\b\b\b\b15351808  [1535180800.00%]\b\b\b\b\b\b\b\b\b\b\b\b\b\b\b\b\b\b\b\b\b\b\b\b\b\b\b15360000  [1536000000.00%]\b\b\b\b\b\b\b\b\b\b\b\b\b\b\b\b\b\b\b\b\b\b\b\b\b\b\b15368192  [1536819200.00%]\b\b\b\b\b\b\b\b\b\b\b\b\b\b\b\b\b\b\b\b\b\b\b\b\b\b\b15376384  [1537638400.00%]\b\b\b\b\b\b\b\b\b\b\b\b\b\b\b\b\b\b\b\b\b\b\b\b\b\b\b15384576  [1538457600.00%]\b\b\b\b\b\b\b\b\b\b\b\b\b\b\b\b\b\b\b\b\b\b\b\b\b\b\b15392768  [1539276800.00%]\b\b\b\b\b\b\b\b\b\b\b\b\b\b\b\b\b\b\b\b\b\b\b\b\b\b\b15400960  [1540096000.00%]\b\b\b\b\b\b\b\b\b\b\b\b\b\b\b\b\b\b\b\b\b\b\b\b\b\b\b15409152  [1540915200.00%]\b\b\b\b\b\b\b\b\b\b\b\b\b\b\b\b\b\b\b\b\b\b\b\b\b\b\b15417344  [1541734400.00%]\b\b\b\b\b\b\b\b\b\b\b\b\b\b\b\b\b\b\b\b\b\b\b\b\b\b\b15425536  [1542553600.00%]\b\b\b\b\b\b\b\b\b\b\b\b\b\b\b\b\b\b\b\b\b\b\b\b\b\b\b15433728  [1543372800.00%]\b\b\b\b\b\b\b\b\b\b\b\b\b\b\b\b\b\b\b\b\b\b\b\b\b\b\b15441920  [1544192000.00%]\b\b\b\b\b\b\b\b\b\b\b\b\b\b\b\b\b\b\b\b\b\b\b\b\b\b\b15450112  [1545011200.00%]\b\b\b\b\b\b\b\b\b\b\b\b\b\b\b\b\b\b\b\b\b\b\b\b\b\b\b15458304  [1545830400.00%]\b\b\b\b\b\b\b\b\b\b\b\b\b\b\b\b\b\b\b\b\b\b\b\b\b\b\b15466496  [1546649600.00%]\b\b\b\b\b\b\b\b\b\b\b\b\b\b\b\b\b\b\b\b\b\b\b\b\b\b\b15474688  [1547468800.00%]\b\b\b\b\b\b\b\b\b\b\b\b\b\b\b\b\b\b\b\b\b\b\b\b\b\b\b15482880  [1548288000.00%]\b\b\b\b\b\b\b\b\b\b\b\b\b\b\b\b\b\b\b\b\b\b\b\b\b\b\b15491072  [1549107200.00%]\b\b\b\b\b\b\b\b\b\b\b\b\b\b\b\b\b\b\b\b\b\b\b\b\b\b\b15499264  [1549926400.00%]\b\b\b\b\b\b\b\b\b\b\b\b\b\b\b\b\b\b\b\b\b\b\b\b\b\b\b15507456  [1550745600.00%]\b\b\b\b\b\b\b\b\b\b\b\b\b\b\b\b\b\b\b\b\b\b\b\b\b\b\b15515648  [1551564800.00%]\b\b\b\b\b\b\b\b\b\b\b\b\b\b\b\b\b\b\b\b\b\b\b\b\b\b\b15523840  [1552384000.00%]\b\b\b\b\b\b\b\b\b\b\b\b\b\b\b\b\b\b\b\b\b\b\b\b\b\b\b15532032  [1553203200.00%]\b\b\b\b\b\b\b\b\b\b\b\b\b\b\b\b\b\b\b\b\b\b\b\b\b\b\b15540224  [1554022400.00%]\b\b\b\b\b\b\b\b\b\b\b\b\b\b\b\b\b\b\b\b\b\b\b\b\b\b\b15548416  [1554841600.00%]\b\b\b\b\b\b\b\b\b\b\b\b\b\b\b\b\b\b\b\b\b\b\b\b\b\b\b15556608  [1555660800.00%]\b\b\b\b\b\b\b\b\b\b\b\b\b\b\b\b\b\b\b\b\b\b\b\b\b\b\b15564800  [1556480000.00%]\b\b\b\b\b\b\b\b\b\b\b\b\b\b\b\b\b\b\b\b\b\b\b\b\b\b\b15572992  [1557299200.00%]\b\b\b\b\b\b\b\b\b\b\b\b\b\b\b\b\b\b\b\b\b\b\b\b\b\b\b15581184  [1558118400.00%]\b\b\b\b\b\b\b\b\b\b\b\b\b\b\b\b\b\b\b\b\b\b\b\b\b\b\b15589376  [1558937600.00%]\b\b\b\b\b\b\b\b\b\b\b\b\b\b\b\b\b\b\b\b\b\b\b\b\b\b\b15597568  [1559756800.00%]\b\b\b\b\b\b\b\b\b\b\b\b\b\b\b\b\b\b\b\b\b\b\b\b\b\b\b15605760  [1560576000.00%]\b\b\b\b\b\b\b\b\b\b\b\b\b\b\b\b\b\b\b\b\b\b\b\b\b\b\b15613952  [1561395200.00%]\b\b\b\b\b\b\b\b\b\b\b\b\b\b\b\b\b\b\b\b\b\b\b\b\b\b\b15622144  [1562214400.00%]\b\b\b\b\b\b\b\b\b\b\b\b\b\b\b\b\b\b\b\b\b\b\b\b\b\b\b15630336  [1563033600.00%]\b\b\b\b\b\b\b\b\b\b\b\b\b\b\b\b\b\b\b\b\b\b\b\b\b\b\b15638528  [1563852800.00%]\b\b\b\b\b\b\b\b\b\b\b\b\b\b\b\b\b\b\b\b\b\b\b\b\b\b\b15646720  [1564672000.00%]\b\b\b\b\b\b\b\b\b\b\b\b\b\b\b\b\b\b\b\b\b\b\b\b\b\b\b15654912  [1565491200.00%]\b\b\b\b\b\b\b\b\b\b\b\b\b\b\b\b\b\b\b\b\b\b\b\b\b\b\b15663104  [1566310400.00%]\b\b\b\b\b\b\b\b\b\b\b\b\b\b\b\b\b\b\b\b\b\b\b\b\b\b\b15671296  [1567129600.00%]\b\b\b\b\b\b\b\b\b\b\b\b\b\b\b\b\b\b\b\b\b\b\b\b\b\b\b15679488  [1567948800.00%]\b\b\b\b\b\b\b\b\b\b\b\b\b\b\b\b\b\b\b\b\b\b\b\b\b\b\b15687680  [1568768000.00%]\b\b\b\b\b\b\b\b\b\b\b\b\b\b\b\b\b\b\b\b\b\b\b\b\b\b\b15695872  [1569587200.00%]\b\b\b\b\b\b\b\b\b\b\b\b\b\b\b\b\b\b\b\b\b\b\b\b\b\b\b15704064  [1570406400.00%]\b\b\b\b\b\b\b\b\b\b\b\b\b\b\b\b\b\b\b\b\b\b\b\b\b\b\b15712256  [1571225600.00%]\b\b\b\b\b\b\b\b\b\b\b\b\b\b\b\b\b\b\b\b\b\b\b\b\b\b\b15720448  [1572044800.00%]\b\b\b\b\b\b\b\b\b\b\b\b\b\b\b\b\b\b\b\b\b\b\b\b\b\b\b15728640  [1572864000.00%]\b\b\b\b\b\b\b\b\b\b\b\b\b\b\b\b\b\b\b\b\b\b\b\b\b\b\b15736832  [1573683200.00%]\b\b\b\b\b\b\b\b\b\b\b\b\b\b\b\b\b\b\b\b\b\b\b\b\b\b\b15745024  [1574502400.00%]\b\b\b\b\b\b\b\b\b\b\b\b\b\b\b\b\b\b\b\b\b\b\b\b\b\b\b15753216  [1575321600.00%]\b\b\b\b\b\b\b\b\b\b\b\b\b\b\b\b\b\b\b\b\b\b\b\b\b\b\b15761408  [1576140800.00%]\b\b\b\b\b\b\b\b\b\b\b\b\b\b\b\b\b\b\b\b\b\b\b\b\b\b\b15769600  [1576960000.00%]\b\b\b\b\b\b\b\b\b\b\b\b\b\b\b\b\b\b\b\b\b\b\b\b\b\b\b15777792  [1577779200.00%]\b\b\b\b\b\b\b\b\b\b\b\b\b\b\b\b\b\b\b\b\b\b\b\b\b\b\b15785984  [1578598400.00%]\b\b\b\b\b\b\b\b\b\b\b\b\b\b\b\b\b\b\b\b\b\b\b\b\b\b\b15794176  [1579417600.00%]\b\b\b\b\b\b\b\b\b\b\b\b\b\b\b\b\b\b\b\b\b\b\b\b\b\b\b15802368  [1580236800.00%]\b\b\b\b\b\b\b\b\b\b\b\b\b\b\b\b\b\b\b\b\b\b\b\b\b\b\b15810560  [1581056000.00%]\b\b\b\b\b\b\b\b\b\b\b\b\b\b\b\b\b\b\b\b\b\b\b\b\b\b\b15818752  [1581875200.00%]\b\b\b\b\b\b\b\b\b\b\b\b\b\b\b\b\b\b\b\b\b\b\b\b\b\b\b15826944  [1582694400.00%]\b\b\b\b\b\b\b\b\b\b\b\b\b\b\b\b\b\b\b\b\b\b\b\b\b\b\b15835136  [1583513600.00%]\b\b\b\b\b\b\b\b\b\b\b\b\b\b\b\b\b\b\b\b\b\b\b\b\b\b\b15843328  [1584332800.00%]\b\b\b\b\b\b\b\b\b\b\b\b\b\b\b\b\b\b\b\b\b\b\b\b\b\b\b15851520  [1585152000.00%]\b\b\b\b\b\b\b\b\b\b\b\b\b\b\b\b\b\b\b\b\b\b\b\b\b\b\b15859712  [1585971200.00%]\b\b\b\b\b\b\b\b\b\b\b\b\b\b\b\b\b\b\b\b\b\b\b\b\b\b\b15867904  [1586790400.00%]\b\b\b\b\b\b\b\b\b\b\b\b\b\b\b\b\b\b\b\b\b\b\b\b\b\b\b15876096  [1587609600.00%]\b\b\b\b\b\b\b\b\b\b\b\b\b\b\b\b\b\b\b\b\b\b\b\b\b\b\b15884288  [1588428800.00%]\b\b\b\b\b\b\b\b\b\b\b\b\b\b\b\b\b\b\b\b\b\b\b\b\b\b\b15892480  [1589248000.00%]\b\b\b\b\b\b\b\b\b\b\b\b\b\b\b\b\b\b\b\b\b\b\b\b\b\b\b15900672  [1590067200.00%]\b\b\b\b\b\b\b\b\b\b\b\b\b\b\b\b\b\b\b\b\b\b\b\b\b\b\b15908864  [1590886400.00%]\b\b\b\b\b\b\b\b\b\b\b\b\b\b\b\b\b\b\b\b\b\b\b\b\b\b\b15917056  [1591705600.00%]\b\b\b\b\b\b\b\b\b\b\b\b\b\b\b\b\b\b\b\b\b\b\b\b\b\b\b15925248  [1592524800.00%]\b\b\b\b\b\b\b\b\b\b\b\b\b\b\b\b\b\b\b\b\b\b\b\b\b\b\b15933440  [1593344000.00%]\b\b\b\b\b\b\b\b\b\b\b\b\b\b\b\b\b\b\b\b\b\b\b\b\b\b\b15941632  [1594163200.00%]\b\b\b\b\b\b\b\b\b\b\b\b\b\b\b\b\b\b\b\b\b\b\b\b\b\b\b"
     ]
    },
    {
     "name": "stdout",
     "output_type": "stream",
     "text": [
      "15949824  [1594982400.00%]\b\b\b\b\b\b\b\b\b\b\b\b\b\b\b\b\b\b\b\b\b\b\b\b\b\b\b15958016  [1595801600.00%]\b\b\b\b\b\b\b\b\b\b\b\b\b\b\b\b\b\b\b\b\b\b\b\b\b\b\b15966208  [1596620800.00%]\b\b\b\b\b\b\b\b\b\b\b\b\b\b\b\b\b\b\b\b\b\b\b\b\b\b\b15974400  [1597440000.00%]\b\b\b\b\b\b\b\b\b\b\b\b\b\b\b\b\b\b\b\b\b\b\b\b\b\b\b15982592  [1598259200.00%]\b\b\b\b\b\b\b\b\b\b\b\b\b\b\b\b\b\b\b\b\b\b\b\b\b\b\b15990784  [1599078400.00%]\b\b\b\b\b\b\b\b\b\b\b\b\b\b\b\b\b\b\b\b\b\b\b\b\b\b\b15998976  [1599897600.00%]\b\b\b\b\b\b\b\b\b\b\b\b\b\b\b\b\b\b\b\b\b\b\b\b\b\b\b16007168  [1600716800.00%]\b\b\b\b\b\b\b\b\b\b\b\b\b\b\b\b\b\b\b\b\b\b\b\b\b\b\b16015360  [1601536000.00%]\b\b\b\b\b\b\b\b\b\b\b\b\b\b\b\b\b\b\b\b\b\b\b\b\b\b\b16023552  [1602355200.00%]\b\b\b\b\b\b\b\b\b\b\b\b\b\b\b\b\b\b\b\b\b\b\b\b\b\b\b16031744  [1603174400.00%]\b\b\b\b\b\b\b\b\b\b\b\b\b\b\b\b\b\b\b\b\b\b\b\b\b\b\b16039936  [1603993600.00%]\b\b\b\b\b\b\b\b\b\b\b\b\b\b\b\b\b\b\b\b\b\b\b\b\b\b\b16048128  [1604812800.00%]\b\b\b\b\b\b\b\b\b\b\b\b\b\b\b\b\b\b\b\b\b\b\b\b\b\b\b16056320  [1605632000.00%]\b\b\b\b\b\b\b\b\b\b\b\b\b\b\b\b\b\b\b\b\b\b\b\b\b\b\b16064512  [1606451200.00%]\b\b\b\b\b\b\b\b\b\b\b\b\b\b\b\b\b\b\b\b\b\b\b\b\b\b\b16072704  [1607270400.00%]\b\b\b\b\b\b\b\b\b\b\b\b\b\b\b\b\b\b\b\b\b\b\b\b\b\b\b16080896  [1608089600.00%]\b\b\b\b\b\b\b\b\b\b\b\b\b\b\b\b\b\b\b\b\b\b\b\b\b\b\b16089088  [1608908800.00%]\b\b\b\b\b\b\b\b\b\b\b\b\b\b\b\b\b\b\b\b\b\b\b\b\b\b\b16097280  [1609728000.00%]\b\b\b\b\b\b\b\b\b\b\b\b\b\b\b\b\b\b\b\b\b\b\b\b\b\b\b16105472  [1610547200.00%]\b\b\b\b\b\b\b\b\b\b\b\b\b\b\b\b\b\b\b\b\b\b\b\b\b\b\b16113664  [1611366400.00%]\b\b\b\b\b\b\b\b\b\b\b\b\b\b\b\b\b\b\b\b\b\b\b\b\b\b\b16121856  [1612185600.00%]\b\b\b\b\b\b\b\b\b\b\b\b\b\b\b\b\b\b\b\b\b\b\b\b\b\b\b16130048  [1613004800.00%]\b\b\b\b\b\b\b\b\b\b\b\b\b\b\b\b\b\b\b\b\b\b\b\b\b\b\b16138240  [1613824000.00%]\b\b\b\b\b\b\b\b\b\b\b\b\b\b\b\b\b\b\b\b\b\b\b\b\b\b\b16146432  [1614643200.00%]\b\b\b\b\b\b\b\b\b\b\b\b\b\b\b\b\b\b\b\b\b\b\b\b\b\b\b16154624  [1615462400.00%]\b\b\b\b\b\b\b\b\b\b\b\b\b\b\b\b\b\b\b\b\b\b\b\b\b\b\b16162816  [1616281600.00%]\b\b\b\b\b\b\b\b\b\b\b\b\b\b\b\b\b\b\b\b\b\b\b\b\b\b\b16171008  [1617100800.00%]\b\b\b\b\b\b\b\b\b\b\b\b\b\b\b\b\b\b\b\b\b\b\b\b\b\b\b16179200  [1617920000.00%]\b\b\b\b\b\b\b\b\b\b\b\b\b\b\b\b\b\b\b\b\b\b\b\b\b\b\b16187392  [1618739200.00%]\b\b\b\b\b\b\b\b\b\b\b\b\b\b\b\b\b\b\b\b\b\b\b\b\b\b\b16195584  [1619558400.00%]\b\b\b\b\b\b\b\b\b\b\b\b\b\b\b\b\b\b\b\b\b\b\b\b\b\b\b16203776  [1620377600.00%]\b\b\b\b\b\b\b\b\b\b\b\b\b\b\b\b\b\b\b\b\b\b\b\b\b\b\b16211968  [1621196800.00%]\b\b\b\b\b\b\b\b\b\b\b\b\b\b\b\b\b\b\b\b\b\b\b\b\b\b\b16220160  [1622016000.00%]\b\b\b\b\b\b\b\b\b\b\b\b\b\b\b\b\b\b\b\b\b\b\b\b\b\b\b16228352  [1622835200.00%]\b\b\b\b\b\b\b\b\b\b\b\b\b\b\b\b\b\b\b\b\b\b\b\b\b\b\b16236544  [1623654400.00%]\b\b\b\b\b\b\b\b\b\b\b\b\b\b\b\b\b\b\b\b\b\b\b\b\b\b\b16244736  [1624473600.00%]\b\b\b\b\b\b\b\b\b\b\b\b\b\b\b\b\b\b\b\b\b\b\b\b\b\b\b16252928  [1625292800.00%]\b\b\b\b\b\b\b\b\b\b\b\b\b\b\b\b\b\b\b\b\b\b\b\b\b\b\b16261120  [1626112000.00%]\b\b\b\b\b\b\b\b\b\b\b\b\b\b\b\b\b\b\b\b\b\b\b\b\b\b\b16269312  [1626931200.00%]\b\b\b\b\b\b\b\b\b\b\b\b\b\b\b\b\b\b\b\b\b\b\b\b\b\b\b16277504  [1627750400.00%]\b\b\b\b\b\b\b\b\b\b\b\b\b\b\b\b\b\b\b\b\b\b\b\b\b\b\b16285696  [1628569600.00%]\b\b\b\b\b\b\b\b\b\b\b\b\b\b\b\b\b\b\b\b\b\b\b\b\b\b\b16293888  [1629388800.00%]\b\b\b\b\b\b\b\b\b\b\b\b\b\b\b\b\b\b\b\b\b\b\b\b\b\b\b16302080  [1630208000.00%]\b\b\b\b\b\b\b\b\b\b\b\b\b\b\b\b\b\b\b\b\b\b\b\b\b\b\b16310272  [1631027200.00%]\b\b\b\b\b\b\b\b\b\b\b\b\b\b\b\b\b\b\b\b\b\b\b\b\b\b\b16318464  [1631846400.00%]\b\b\b\b\b\b\b\b\b\b\b\b\b\b\b\b\b\b\b\b\b\b\b\b\b\b\b16326656  [1632665600.00%]\b\b\b\b\b\b\b\b\b\b\b\b\b\b\b\b\b\b\b\b\b\b\b\b\b\b\b16334848  [1633484800.00%]\b\b\b\b\b\b\b\b\b\b\b\b\b\b\b\b\b\b\b\b\b\b\b\b\b\b\b16343040  [1634304000.00%]\b\b\b\b\b\b\b\b\b\b\b\b\b\b\b\b\b\b\b\b\b\b\b\b\b\b\b16351232  [1635123200.00%]\b\b\b\b\b\b\b\b\b\b\b\b\b\b\b\b\b\b\b\b\b\b\b\b\b\b\b16359424  [1635942400.00%]\b\b\b\b\b\b\b\b\b\b\b\b\b\b\b\b\b\b\b\b\b\b\b\b\b\b\b16367616  [1636761600.00%]\b\b\b\b\b\b\b\b\b\b\b\b\b\b\b\b\b\b\b\b\b\b\b\b\b\b\b16375808  [1637580800.00%]\b\b\b\b\b\b\b\b\b\b\b\b\b\b\b\b\b\b\b\b\b\b\b\b\b\b\b16384000  [1638400000.00%]\b\b\b\b\b\b\b\b\b\b\b\b\b\b\b\b\b\b\b\b\b\b\b\b\b\b\b16392192  [1639219200.00%]\b\b\b\b\b\b\b\b\b\b\b\b\b\b\b\b\b\b\b\b\b\b\b\b\b\b\b16400384  [1640038400.00%]\b\b\b\b\b\b\b\b\b\b\b\b\b\b\b\b\b\b\b\b\b\b\b\b\b\b\b16408576  [1640857600.00%]\b\b\b\b\b\b\b\b\b\b\b\b\b\b\b\b\b\b\b\b\b\b\b\b\b\b\b16416768  [1641676800.00%]\b\b\b\b\b\b\b\b\b\b\b\b\b\b\b\b\b\b\b\b\b\b\b\b\b\b\b16424960  [1642496000.00%]\b\b\b\b\b\b\b\b\b\b\b\b\b\b\b\b\b\b\b\b\b\b\b\b\b\b\b16433152  [1643315200.00%]\b\b\b\b\b\b\b\b\b\b\b\b\b\b\b\b\b\b\b\b\b\b\b\b\b\b\b16441344  [1644134400.00%]\b\b\b\b\b\b\b\b\b\b\b\b\b\b\b\b\b\b\b\b\b\b\b\b\b\b\b16449536  [1644953600.00%]\b\b\b\b\b\b\b\b\b\b\b\b\b\b\b\b\b\b\b\b\b\b\b\b\b\b\b16457728  [1645772800.00%]\b\b\b\b\b\b\b\b\b\b\b\b\b\b\b\b\b\b\b\b\b\b\b\b\b\b\b16465920  [1646592000.00%]\b\b\b\b\b\b\b\b\b\b\b\b\b\b\b\b\b\b\b\b\b\b\b\b\b\b\b16474112  [1647411200.00%]\b\b\b\b\b\b\b\b\b\b\b\b\b\b\b\b\b\b\b\b\b\b\b\b\b\b\b16482304  [1648230400.00%]\b\b\b\b\b\b\b\b\b\b\b\b\b\b\b\b\b\b\b\b\b\b\b\b\b\b\b16490496  [1649049600.00%]\b\b\b\b\b\b\b\b\b\b\b\b\b\b\b\b\b\b\b\b\b\b\b\b\b\b\b16498688  [1649868800.00%]\b\b\b\b\b\b\b\b\b\b\b\b\b\b\b\b\b\b\b\b\b\b\b\b\b\b\b16506880  [1650688000.00%]\b\b\b\b\b\b\b\b\b\b\b\b\b\b\b\b\b\b\b\b\b\b\b\b\b\b\b16515072  [1651507200.00%]\b\b\b\b\b\b\b\b\b\b\b\b\b\b\b\b\b\b\b\b\b\b\b\b\b\b\b16523264  [1652326400.00%]\b\b\b\b\b\b\b\b\b\b\b\b\b\b\b\b\b\b\b\b\b\b\b\b\b\b\b16531456  [1653145600.00%]\b\b\b\b\b\b\b\b\b\b\b\b\b\b\b\b\b\b\b\b\b\b\b\b\b\b\b16539648  [1653964800.00%]\b\b\b\b\b\b\b\b\b\b\b\b\b\b\b\b\b\b\b\b\b\b\b\b\b\b\b16547840  [1654784000.00%]\b\b\b\b\b\b\b\b\b\b\b\b\b\b\b\b\b\b\b\b\b\b\b\b\b\b\b16556032  [1655603200.00%]\b\b\b\b\b\b\b\b\b\b\b\b\b\b\b\b\b\b\b\b\b\b\b\b\b\b\b16564224  [1656422400.00%]\b\b\b\b\b\b\b\b\b\b\b\b\b\b\b\b\b\b\b\b\b\b\b\b\b\b\b16572416  [1657241600.00%]\b\b\b\b\b\b\b\b\b\b\b\b\b\b\b\b\b\b\b\b\b\b\b\b\b\b\b16580608  [1658060800.00%]\b\b\b\b\b\b\b\b\b\b\b\b\b\b\b\b\b\b\b\b\b\b\b\b\b\b\b16588800  [1658880000.00%]\b\b\b\b\b\b\b\b\b\b\b\b\b\b\b\b\b\b\b\b\b\b\b\b\b\b\b16596992  [1659699200.00%]\b\b\b\b\b\b\b\b\b\b\b\b\b\b\b\b\b\b\b\b\b\b\b\b\b\b\b16605184  [1660518400.00%]\b\b\b\b\b\b\b\b\b\b\b\b\b\b\b\b\b\b\b\b\b\b\b\b\b\b\b16613376  [1661337600.00%]\b\b\b\b\b\b\b\b\b\b\b\b\b\b\b\b\b\b\b\b\b\b\b\b\b\b\b16621568  [1662156800.00%]\b\b\b\b\b\b\b\b\b\b\b\b\b\b\b\b\b\b\b\b\b\b\b\b\b\b\b16629760  [1662976000.00%]\b\b\b\b\b\b\b\b\b\b\b\b\b\b\b\b\b\b\b\b\b\b\b\b\b\b\b16637952  [1663795200.00%]\b\b\b\b\b\b\b\b\b\b\b\b\b\b\b\b\b\b\b\b\b\b\b\b\b\b\b16646144  [1664614400.00%]\b\b\b\b\b\b\b\b\b\b\b\b\b\b\b\b\b\b\b\b\b\b\b\b\b\b\b16654336  [1665433600.00%]\b\b\b\b\b\b\b\b\b\b\b\b\b\b\b\b\b\b\b\b\b\b\b\b\b\b\b16662528  [1666252800.00%]\b\b\b\b\b\b\b\b\b\b\b\b\b\b\b\b\b\b\b\b\b\b\b\b\b\b\b16670720  [1667072000.00%]\b\b\b\b\b\b\b\b\b\b\b\b\b\b\b\b\b\b\b\b\b\b\b\b\b\b\b16678912  [1667891200.00%]\b\b\b\b\b\b\b\b\b\b\b\b\b\b\b\b\b\b\b\b\b\b\b\b\b\b\b16687104  [1668710400.00%]\b\b\b\b\b\b\b\b\b\b\b\b\b\b\b\b\b\b\b\b\b\b\b\b\b\b\b16695296  [1669529600.00%]\b\b\b\b\b\b\b\b\b\b\b\b\b\b\b\b\b\b\b\b\b\b\b\b\b\b\b16703488  [1670348800.00%]\b\b\b\b\b\b\b\b\b\b\b\b\b\b\b\b\b\b\b\b\b\b\b\b\b\b\b16711680  [1671168000.00%]\b\b\b\b\b\b\b\b\b\b\b\b\b\b\b\b\b\b\b\b\b\b\b\b\b\b\b16719872  [1671987200.00%]\b\b\b\b\b\b\b\b\b\b\b\b\b\b\b\b\b\b\b\b\b\b\b\b\b\b\b16728064  [1672806400.00%]\b\b\b\b\b\b\b\b\b\b\b\b\b\b\b\b\b\b\b\b\b\b\b\b\b\b\b16736256  [1673625600.00%]\b\b\b\b\b\b\b\b\b\b\b\b\b\b\b\b\b\b\b\b\b\b\b\b\b\b\b16744448  [1674444800.00%]\b\b\b\b\b\b\b\b\b\b\b\b\b\b\b\b\b\b\b\b\b\b\b\b\b\b\b16752640  [1675264000.00%]\b\b\b\b\b\b\b\b\b\b\b\b\b\b\b\b\b\b\b\b\b\b\b\b\b\b\b16760832  [1676083200.00%]\b\b\b\b\b\b\b\b\b\b\b\b\b\b\b\b\b\b\b\b\b\b\b\b\b\b\b16769024  [1676902400.00%]\b\b\b\b\b\b\b\b\b\b\b\b\b\b\b\b\b\b\b\b\b\b\b\b\b\b\b16777216  [1677721600.00%]\b\b\b\b\b\b\b\b\b\b\b\b\b\b\b\b\b\b\b\b\b\b\b\b\b\b\b16785408  [1678540800.00%]\b\b\b\b\b\b\b\b\b\b\b\b\b\b\b\b\b\b\b\b\b\b\b\b\b\b\b16793600  [1679360000.00%]\b\b\b\b\b\b\b\b\b\b\b\b\b\b\b\b\b\b\b\b\b\b\b\b\b\b\b16801792  [1680179200.00%]\b\b\b\b\b\b\b\b\b\b\b\b\b\b\b\b\b\b\b\b\b\b\b\b\b\b\b16809984  [1680998400.00%]\b\b\b\b\b\b\b\b\b\b\b\b\b\b\b\b\b\b\b\b\b\b\b\b\b\b\b16818176  [1681817600.00%]\b\b\b\b\b\b\b\b\b\b\b\b\b\b\b\b\b\b\b\b\b\b\b\b\b\b\b16826368  [1682636800.00%]\b\b\b\b\b\b\b\b\b\b\b\b\b\b\b\b\b\b\b\b\b\b\b\b\b\b\b16834560  [1683456000.00%]\b\b\b\b\b\b\b\b\b\b\b\b\b\b\b\b\b\b\b\b\b\b\b\b\b\b\b16842752  [1684275200.00%]\b\b\b\b\b\b\b\b\b\b\b\b\b\b\b\b\b\b\b\b\b\b\b\b\b\b\b16850944  [1685094400.00%]\b\b\b\b\b\b\b\b\b\b\b\b\b\b\b\b\b\b\b\b\b\b\b\b\b\b\b16859136  [1685913600.00%]\b\b\b\b\b\b\b\b\b\b\b\b\b\b\b\b\b\b\b\b\b\b\b\b\b\b\b16867328  [1686732800.00%]\b\b\b\b\b\b\b\b\b\b\b\b\b\b\b\b\b\b\b\b\b\b\b\b\b\b\b16875520  [1687552000.00%]\b\b\b\b\b\b\b\b\b\b\b\b\b\b\b\b\b\b\b\b\b\b\b\b\b\b\b16883712  [1688371200.00%]\b\b\b\b\b\b\b\b\b\b\b\b\b\b\b\b\b\b\b\b\b\b\b\b\b\b\b16891904  [1689190400.00%]\b\b\b\b\b\b\b\b\b\b\b\b\b\b\b\b\b\b\b\b\b\b\b\b\b\b\b16900096  [1690009600.00%]\b\b\b\b\b\b\b\b\b\b\b\b\b\b\b\b\b\b\b\b\b\b\b\b\b\b\b16908288  [1690828800.00%]\b\b\b\b\b\b\b\b\b\b\b\b\b\b\b\b\b\b\b\b\b\b\b\b\b\b\b16916480  [1691648000.00%]\b\b\b\b\b\b\b\b\b\b\b\b\b\b\b\b\b\b\b\b\b\b\b\b\b\b\b16924672  [1692467200.00%]\b\b\b\b\b\b\b\b\b\b\b\b\b\b\b\b\b\b\b\b\b\b\b\b\b\b\b16932864  [1693286400.00%]\b\b\b\b\b\b\b\b\b\b\b\b\b\b\b\b\b\b\b\b\b\b\b\b\b\b\b16941056  [1694105600.00%]\b\b\b\b\b\b\b\b\b\b\b\b\b\b\b\b\b\b\b\b\b\b\b\b\b\b\b16949248  [1694924800.00%]\b\b\b\b\b\b\b\b\b\b\b\b\b\b\b\b\b\b\b\b\b\b\b\b\b\b\b16957440  [1695744000.00%]\b\b\b\b\b\b\b\b\b\b\b\b\b\b\b\b\b\b\b\b\b\b\b\b\b\b\b16965632  [1696563200.00%]\b\b\b\b\b\b\b\b\b\b\b\b\b\b\b\b\b\b\b\b\b\b\b\b\b\b\b16973824  [1697382400.00%]\b\b\b\b\b\b\b\b\b\b\b\b\b\b\b\b\b\b\b\b\b\b\b\b\b\b\b16982016  [1698201600.00%]\b\b\b\b\b\b\b\b\b\b\b\b\b\b\b\b\b\b\b\b\b\b\b\b\b\b\b16990208  [1699020800.00%]\b\b\b\b\b\b\b\b\b\b\b\b\b\b\b\b\b\b\b\b\b\b\b\b\b\b\b16998400  [1699840000.00%]\b\b\b\b\b\b\b\b\b\b\b\b\b\b\b\b\b\b\b\b\b\b\b\b\b\b\b17006592  [1700659200.00%]\b\b\b\b\b\b\b\b\b\b\b\b\b\b\b\b\b\b\b\b\b\b\b\b\b\b\b17014784  [1701478400.00%]\b\b\b\b\b\b\b\b\b\b\b\b\b\b\b\b\b\b\b\b\b\b\b\b\b\b\b17022976  [1702297600.00%]\b\b\b\b\b\b\b\b\b\b\b\b\b\b\b\b\b\b\b\b\b\b\b\b\b\b\b17031168  [1703116800.00%]\b\b\b\b\b\b\b\b\b\b\b\b\b\b\b\b\b\b\b\b\b\b\b\b\b\b\b17039360  [1703936000.00%]\b\b\b\b\b\b\b\b\b\b\b\b\b\b\b\b\b\b\b\b\b\b\b\b\b\b\b17047552  [1704755200.00%]\b\b\b\b\b\b\b\b\b\b\b\b\b\b\b\b\b\b\b\b\b\b\b\b\b\b\b17055744  [1705574400.00%]\b\b\b\b\b\b\b\b\b\b\b\b\b\b\b\b\b\b\b\b\b\b\b\b\b\b\b17063936  [1706393600.00%]\b\b\b\b\b\b\b\b\b\b\b\b\b\b\b\b\b\b\b\b\b\b\b\b\b\b\b17072128  [1707212800.00%]\b\b\b\b\b\b\b\b\b\b\b\b\b\b\b\b\b\b\b\b\b\b\b\b\b\b\b17080320  [1708032000.00%]\b\b\b\b\b\b\b\b\b\b\b\b\b\b\b\b\b\b\b\b\b\b\b\b\b\b\b17088512  [1708851200.00%]\b\b\b\b\b\b\b\b\b\b\b\b\b\b\b\b\b\b\b\b\b\b\b\b\b\b\b17096704  [1709670400.00%]\b\b\b\b\b\b\b\b\b\b\b\b\b\b\b\b\b\b\b\b\b\b\b\b\b\b\b17104896  [1710489600.00%]\b\b\b\b\b\b\b\b\b\b\b\b\b\b\b\b\b\b\b\b\b\b\b\b\b\b\b17113088  [1711308800.00%]\b\b\b\b\b\b\b\b\b\b\b\b\b\b\b\b\b\b\b\b\b\b\b\b\b\b\b17121280  [1712128000.00%]\b\b\b\b\b\b\b\b\b\b\b\b\b\b\b\b\b\b\b\b\b\b\b\b\b\b\b17129472  [1712947200.00%]\b\b\b\b\b\b\b\b\b\b\b\b\b\b\b\b\b\b\b\b\b\b\b\b\b\b\b17137664  [1713766400.00%]\b\b\b\b\b\b\b\b\b\b\b\b\b\b\b\b\b\b\b\b\b\b\b\b\b\b\b17145856  [1714585600.00%]\b\b\b\b\b\b\b\b\b\b\b\b\b\b\b\b\b\b\b\b\b\b\b\b\b\b\b17154048  [1715404800.00%]\b\b\b\b\b\b\b\b\b\b\b\b\b\b\b\b\b\b\b\b\b\b\b\b\b\b\b17162240  [1716224000.00%]\b\b\b\b\b\b\b\b\b\b\b\b\b\b\b\b\b\b\b\b\b\b\b\b\b\b\b17170432  [1717043200.00%]\b\b\b\b\b\b\b\b\b\b\b\b\b\b\b\b\b\b\b\b\b\b\b\b\b\b\b17178624  [1717862400.00%]\b\b\b\b\b\b\b\b\b\b\b\b\b\b\b\b\b\b\b\b\b\b\b\b\b\b\b17186816  [1718681600.00%]\b\b\b\b\b\b\b\b\b\b\b\b\b\b\b\b\b\b\b\b\b\b\b\b\b\b\b17195008  [1719500800.00%]\b\b\b\b\b\b\b\b\b\b\b\b\b\b\b\b\b\b\b\b\b\b\b\b\b\b\b17203200  [1720320000.00%]\b\b\b\b\b\b\b\b\b\b\b\b\b\b\b\b\b\b\b\b\b\b\b\b\b\b\b17211392  [1721139200.00%]\b\b\b\b\b\b\b\b\b\b\b\b\b\b\b\b\b\b\b\b\b\b\b\b\b\b\b17219584  [1721958400.00%]\b\b\b\b\b\b\b\b\b\b\b\b\b\b\b\b\b\b\b\b\b\b\b\b\b\b\b17227776  [1722777600.00%]\b\b\b\b\b\b\b\b\b\b\b\b\b\b\b\b\b\b\b\b\b\b\b\b\b\b\b17235968  [1723596800.00%]\b\b\b\b\b\b\b\b\b\b\b\b\b\b\b\b\b\b\b\b\b\b\b\b\b\b\b17244160  [1724416000.00%]\b\b\b\b\b\b\b\b\b\b\b\b\b\b\b\b\b\b\b\b\b\b\b\b\b\b\b17252352  [1725235200.00%]\b\b\b\b\b\b\b\b\b\b\b\b\b\b\b\b\b\b\b\b\b\b\b\b\b\b\b17260544  [1726054400.00%]\b\b\b\b\b\b\b\b\b\b\b\b\b\b\b\b\b\b\b\b\b\b\b\b\b\b\b17268736  [1726873600.00%]\b\b\b\b\b\b\b\b\b\b\b\b\b\b\b\b\b\b\b\b\b\b\b\b\b\b\b17276928  [1727692800.00%]\b\b\b\b\b\b\b\b\b\b\b\b\b\b\b\b\b\b\b\b\b\b\b\b\b\b\b17285120  [1728512000.00%]\b\b\b\b\b\b\b\b\b\b\b\b\b\b\b\b\b\b\b\b\b\b\b\b\b\b\b17293312  [1729331200.00%]\b\b\b\b\b\b\b\b\b\b\b\b\b\b\b\b\b\b\b\b\b\b\b\b\b\b\b17301504  [1730150400.00%]\b\b\b\b\b\b\b\b\b\b\b\b\b\b\b\b\b\b\b\b\b\b\b\b\b\b\b17309696  [1730969600.00%]\b\b\b\b\b\b\b\b\b\b\b\b\b\b\b\b\b\b\b\b\b\b\b\b\b\b\b17317888  [1731788800.00%]\b\b\b\b\b\b\b\b\b\b\b\b\b\b\b\b\b\b\b\b\b\b\b\b\b\b\b17326080  [1732608000.00%]\b\b\b\b\b\b\b\b\b\b\b\b\b\b\b\b\b\b\b\b\b\b\b\b\b\b\b17334272  [1733427200.00%]\b\b\b\b\b\b\b\b\b\b\b\b\b\b\b\b\b\b\b\b\b\b\b\b\b\b\b17338397  [1733839700.00%]\b\b\b\b\b\b\b\b\b\b\b\b\b\b\b\b\b\b\b\b\b\b\b\b\b\b\b"
     ]
    }
   ],
   "source": [
    "# First thing to do - Download the current Neurosynth database\n",
    "ns_save_path = 'query_results/neurosynth_results/database_info'\n",
    "ns.dataset.download(path=ns_save_path, unpack=True) # download the current dataset and unpack into 'database.txt' and 'features.txt'"
   ]
  },
  {
   "cell_type": "code",
   "execution_count": 269,
   "metadata": {},
   "outputs": [
    {
     "name": "stdout",
     "output_type": "stream",
     "text": [
      "What is the date? (e.g., 030420) 040520\n"
     ]
    }
   ],
   "source": [
    "# Setup up the dataset object to search through\n",
    "from neurosynth.base.dataset import Dataset\n",
    "dataset = Dataset(opj(ns_save_path,'database.txt'))\n",
    "dataset.add_features(opj(ns_save_path,'features.txt'))\n",
    "\n",
    "# only run code below if you want to save the neurosynth database search\n",
    "# this is mainly important when running to code for real\n",
    "date_when_saving = input('What is the date? (e.g., 030420) ')\n",
    "dataset.save(opj(ns_save_path, 'dataset_' + str(date_when_saving) + '.pkl'))"
   ]
  },
  {
   "cell_type": "code",
   "execution_count": 272,
   "metadata": {},
   "outputs": [
    {
     "data": {
      "text/plain": [
       "3228"
      ]
     },
     "execution_count": 272,
     "metadata": {},
     "output_type": "execute_result"
    }
   ],
   "source": [
    "# Get list of possible feature names to search through \n",
    "ns_feature_list = dataset.get_feature_names()\n",
    "len(ns_feature_list)"
   ]
  },
  {
   "cell_type": "code",
   "execution_count": 273,
   "metadata": {},
   "outputs": [],
   "source": [
    "# check if any of of our keywords are in the feature list and make new list to feature search\n",
    "ns_features = []\n",
    "for i in neurosynth_keywords:\n",
    "    if i in ns_feature_list:\n",
    "        ns_features.append(i)"
   ]
  },
  {
   "cell_type": "markdown",
   "metadata": {},
   "source": [
    "Neurosynth does not have a way to keyword search, they only have feature search.\n",
    "Therefore, we will first feature search based on our keyword list.\n",
    "Then, we will download all abstracts and keyword search the abstracts"
   ]
  },
  {
   "cell_type": "code",
   "execution_count": 274,
   "metadata": {},
   "outputs": [],
   "source": [
    "# Download all neurosynth abstracts\n",
    "ns_abstracts = ns.base.dataset.download_abstracts(dataset, email = email)"
   ]
  },
  {
   "cell_type": "code",
   "execution_count": 275,
   "metadata": {
    "scrolled": true
   },
   "outputs": [
    {
     "name": "stdout",
     "output_type": "stream",
     "text": [
      "Total number of features of interest found, with duplicates: 2551\n",
      "Total number of features of interest found, without duplicates: 1679\n"
     ]
    }
   ],
   "source": [
    "# create list of all IDs of interest\n",
    "ns_interest = pd.DataFrame(columns=['pmid','keyword'])\n",
    "for feat_search in ns_features:\n",
    "    \n",
    "    ns_ids = dataset.get_studies(features=feat_search, frequency_threshold=0.001) # use a pretty liberal frequency threshold\n",
    "    ns_add_interest = pd.DataFrame({'pmid':ns_ids,'keyword':feat_search}) # save the IDs that were found\n",
    "    ns_interest = ns_interest.append(ns_add_interest) # append it to an overall dataframe\n",
    "\n",
    "print(f\"Total number of features of interest found, with duplicates: {len(ns_interest)}\")\n",
    "# Now we want to remove the redundency of IDs from the search query results\n",
    "ns_interest.drop_duplicates(subset = \"pmid\", keep = 'first', inplace = True)\n",
    "\n",
    "print(f\"Total number of features of interest found, without duplicates: {len(ns_interest)}\")"
   ]
  },
  {
   "cell_type": "code",
   "execution_count": 276,
   "metadata": {},
   "outputs": [
    {
     "name": "stdout",
     "output_type": "stream",
     "text": [
      "Total number of abstracts of interest found, with duplicates: 2620\n",
      "Total number of abstracts of interest found, without duplicates: 1750\n"
     ]
    }
   ],
   "source": [
    "# We now have a dataframe of all of the PubMed IDs that we want to look at\n",
    "# Next: Keyword search the abstracts of all of the neurosynth datasets\n",
    "\n",
    "ns_interest_abstract = pd.DataFrame(columns = ['pmid','abstract','keyword'])\n",
    "for keyword_search in neurosynth_keywords:\n",
    "    for index, row in ns_abstracts.iterrows():\n",
    "        if keyword_search in row['abstract']:\n",
    "             ns_interest_abstract = ns_interest_abstract.append(pd.concat([ns_abstracts.iloc[[index]].reset_index(drop=True),\n",
    "                                                                pd.DataFrame({'keyword':[keyword_search]})],axis=1))\n",
    "\n",
    "print(f\"Total number of abstracts of interest found, with duplicates: {len(ns_interest_abstract)}\")\n",
    "# Now we want to remove the redundency of IDs from the search query results again\n",
    "ns_interest_abstract.drop_duplicates(subset = \"pmid\", keep = 'first', inplace = True)\n",
    "\n",
    "print(f\"Total number of abstracts of interest found, without duplicates: {len(ns_interest_abstract)}\")"
   ]
  },
  {
   "cell_type": "code",
   "execution_count": 277,
   "metadata": {},
   "outputs": [
    {
     "name": "stdout",
     "output_type": "stream",
     "text": [
      "Total combined number of studies, with duplicates = 3429\n",
      "Total combined number of studies, without duplicates = 1832\n"
     ]
    }
   ],
   "source": [
    "# Now, we can compare the pubmed IDs of these two dataframes and remove redundency\n",
    "ns_interest[\"abstract\"] = 'None' # create 'abstract' column for cancatenation\n",
    "ns_interest_abstract = ns_interest_abstract[['pmid','keyword','abstract']] # adapt column orders\n",
    "\n",
    "ns_final_interest = pd.concat([ns_interest, ns_interest_abstract]).reset_index(drop=True) # concatenate\n",
    "print(f'Total combined number of studies, with duplicates = {len(ns_final_interest)}')\n",
    "\n",
    "ns_final_interest['pmid'] = ns_final_interest['pmid'].astype('str')\n",
    "ns_final_interest.drop_duplicates(subset = \"pmid\", keep = 'first', inplace = True) # drop duplicates\n",
    "print(f'Total combined number of studies, without duplicates = {len(ns_final_interest)}')\n",
    "ns_total = len(ns_final_interest)"
   ]
  },
  {
   "cell_type": "code",
   "execution_count": 278,
   "metadata": {},
   "outputs": [],
   "source": [
    "# We now have PubMed IDs for all of the Neurosynth articles of interest\n",
    "# We can use the PudMed query searcher again to extract the information we want from the articles"
   ]
  },
  {
   "cell_type": "code",
   "execution_count": 284,
   "metadata": {},
   "outputs": [
    {
     "name": "stdout",
     "output_type": "stream",
     "text": [
      "There are 1832 articles to extract\n",
      "Processing article 50...\n",
      "Processing article 100...\n",
      "Processing article 150...\n",
      "Processing article 200...\n",
      "Skipping author, nonetype\n",
      "Processing article 250...\n",
      "Processing article 300...\n",
      "Skipping author, nonetype\n",
      "Processing article 350...\n",
      "Processing article 400...\n",
      "Processing article 450...\n",
      "Processing article 500...\n",
      "Processing article 550...\n",
      "Skipping author, nonetype\n",
      "Processing article 600...\n",
      "Processing article 650...\n",
      "Processing article 700...\n",
      "Processing article 750...\n",
      "Processing article 800...\n",
      "Processing article 850...\n",
      "Processing article 900...\n",
      "Processing article 950...\n",
      "Processing article 1000...\n",
      "Processing article 1050...\n",
      "Processing article 1100...\n",
      "Processing article 1150...\n",
      "Processing article 1200...\n",
      "Processing article 1250...\n",
      "Processing article 1300...\n",
      "Processing article 1350...\n",
      "Processing article 1400...\n",
      "Processing article 1450...\n",
      "Processing article 1500...\n",
      "Processing article 1550...\n",
      "Processing article 1600...\n",
      "Skipping author, nonetype\n",
      "Processing article 1650...\n",
      "Skipping author, nonetype\n",
      "Processing article 1700...\n",
      "Processing article 1750...\n",
      "Processing article 1800...\n",
      "Finished\n"
     ]
    }
   ],
   "source": [
    "save_dir = opj(os.getcwd(), 'query_results/neurosynth_results')\n",
    "\n",
    "pubmed = pm.PubMed(tool=\"MyTool\", email = 'scott@leeclan.net')\n",
    "\n",
    "# pubmed = pm.PubMed(tool=\"MyTool\", email = email) # this is already done above\n",
    "\n",
    "duplicate_checker = [] # setup list incase multiple articles are found (should only find one per PMID)\n",
    "\n",
    "article_info = pd.DataFrame(columns = [\"title\",\"authors\",\"pmid\",\"keywords\",\"pubdate\",\"abstract\"]) # create pd object to append to\n",
    "\n",
    "counter = 1\n",
    "\n",
    "print(f'There are {ns_total} articles to extract')\n",
    "\n",
    "for pmid_args in ns_final_interest.pmid: # loop over all keyword argmuents\n",
    "    \n",
    "    results = pubmed.query(query=pmid_args, max_results=2) # run search query\n",
    "    lengthable = pubmed.query(query=pmid_args, max_results=2) # non-elegant method to measure length of results\n",
    "    \n",
    "    len_of_results = sum(1 for x in lengthable) # only way to get length of results output\n",
    "    \n",
    "    if len_of_results > 1: # skip this PMID query search if more than one article comes up\n",
    "        duplicate_checker = duplicate_checker.append(pmid_args)\n",
    "        continue\n",
    "    elif len_of_results == 0:\n",
    "        print(f\"PMID: {pmid_args} not found\")\n",
    "        \n",
    "    for article in results: # loop over all found articles\n",
    "    \n",
    "        if '\\n' in article.pubmed_id: # extract pubmed ID\n",
    "            article_id = article.pubmed_id.split('\\n')[0]\n",
    "        else:\n",
    "            article_id = article.pubmed_id # extract info from each article\n",
    "            \n",
    "        article_title = article.title # extract title\n",
    "\n",
    "        if hasattr(article,'keywords'):\n",
    "            if article.keywords: # find keywords if they exist\n",
    "                if None in article.keywords:\n",
    "                    article.keywords.remove(None)\n",
    "                article_keywords = '\", \"'.join(article.keywords)\n",
    "            else:\n",
    "                article_keywords = \"Article has no keywords\"\n",
    "            \n",
    "        article_publication_date = article.publication_date # extract publication date\n",
    "        article_abstract = article.abstract # extract abstract\n",
    "\n",
    "        article_authors = []\n",
    "        for auths in range(len(article.authors)):\n",
    "            if auths == len(article.authors)-1:\n",
    "                if article.authors[auths]['lastname']==None or article.authors[auths]['firstname']==None:\n",
    "                    print('Skipping author, nonetype')\n",
    "                else:\n",
    "                    article_authors.append(article.authors[auths]['lastname'] + ', ' + article.authors[auths]['initials'])\n",
    "            else:\n",
    "                if article.authors[auths]['lastname']==None or article.authors[auths]['firstname']==None:\n",
    "                    print('Skipping author, nonetype')\n",
    "                else:\n",
    "                    article_authors.append(article.authors[auths]['lastname'] + ', ' + article.authors[auths]['initials'] + '.,')\n",
    "        \n",
    "        # Throw all this info into a pandas dataframe so we can export it to excel\n",
    "        article_info = article_info.append(pd.DataFrame({\"title\":[article_title],\"authors\":[str(' '.join(article_authors))],\"pmid\":[article_id],\n",
    "                                          \"keywords\":[article_keywords],\"pubdate\":[article_publication_date],\n",
    "                                          \"abstract\":[article_abstract]}))\n",
    "        \n",
    "        # provide some output so we know what stage the code is at\n",
    "        if counter%50==0:\n",
    "            print(f'Processing article {counter}...')\n",
    "        counter += 1\n",
    "        \n",
    "        time.sleep(0.5)\n",
    "        \n",
    "# SAVE EXCEL DOCUMENT\n",
    "article_info.to_excel(opj(save_dir, 'excel', 'neurosynth_articles.xlsx'), sheet_name = 'pmid_neurosynth')\n",
    "\n",
    "print('Finished')"
   ]
  },
  {
   "cell_type": "code",
   "execution_count": 286,
   "metadata": {},
   "outputs": [
    {
     "name": "stdout",
     "output_type": "stream",
     "text": [
      "Length of article_info (1832) should be the same as ns_total (1832)\n"
     ]
    }
   ],
   "source": [
    "# check ns query serach ran correctly \n",
    "print(f'Length of article_info ({len(article_info)}) should be the same as ns_total ({ns_total})')"
   ]
  },
  {
   "cell_type": "code",
   "execution_count": 289,
   "metadata": {},
   "outputs": [],
   "source": [
    "# remove articles prior to 2010\n",
    "article_info[\"pubdate\"] = article_info[\"pubdate\"].astype(str)\n",
    "article_info = article_info[article_info['pubdate'].str.startswith(('2020','2019','2018','2017','2016','2015','2014','2013','2012','2011','2010'),na=False)]"
   ]
  },
  {
   "cell_type": "code",
   "execution_count": 290,
   "metadata": {},
   "outputs": [
    {
     "data": {
      "text/plain": [
       "1254"
      ]
     },
     "execution_count": 290,
     "metadata": {},
     "output_type": "execute_result"
    }
   ],
   "source": [
    "len(article_info)\n",
    "# there are 1254 articles after or during 2010"
   ]
  },
  {
   "cell_type": "markdown",
   "metadata": {},
   "source": [
    "## Remove duplicates between pubmed and neurosynth searches"
   ]
  },
  {
   "cell_type": "code",
   "execution_count": 295,
   "metadata": {},
   "outputs": [],
   "source": [
    "# compare article_info from neurosynth search to all_pm_articles from pubmed search to remove duplicates\n",
    "# First: concatenate articles\n",
    "all_pms['type'] = 'pm'\n",
    "article_info['type'] = 'ns'\n",
    "all_articles = pd.concat([all_pms, article_info])"
   ]
  },
  {
   "cell_type": "code",
   "execution_count": 292,
   "metadata": {},
   "outputs": [
    {
     "ename": "NameError",
     "evalue": "name 'pm_total' is not defined",
     "output_type": "error",
     "traceback": [
      "\u001b[0;31m---------------------------------------------------------------------------\u001b[0m",
      "\u001b[0;31mNameError\u001b[0m                                 Traceback (most recent call last)",
      "\u001b[0;32m<ipython-input-292-aec5d444573b>\u001b[0m in \u001b[0;36m<module>\u001b[0;34m\u001b[0m\n\u001b[1;32m      1\u001b[0m \u001b[0;31m# check concatenation was successful\u001b[0m\u001b[0;34m\u001b[0m\u001b[0;34m\u001b[0m\u001b[0;34m\u001b[0m\u001b[0m\n\u001b[1;32m      2\u001b[0m \u001b[0mw_dupe\u001b[0m \u001b[0;34m=\u001b[0m \u001b[0mlen\u001b[0m\u001b[0;34m(\u001b[0m\u001b[0mall_articles\u001b[0m\u001b[0;34m)\u001b[0m\u001b[0;34m\u001b[0m\u001b[0;34m\u001b[0m\u001b[0m\n\u001b[0;32m----> 3\u001b[0;31m \u001b[0mprint\u001b[0m\u001b[0;34m(\u001b[0m\u001b[0;34mf'The total number of articles should be {ns_total} + {pm_total} = {ns_total + pm_total}'\u001b[0m\u001b[0;34m)\u001b[0m\u001b[0;34m\u001b[0m\u001b[0;34m\u001b[0m\u001b[0m\n\u001b[0m\u001b[1;32m      4\u001b[0m \u001b[0mprint\u001b[0m\u001b[0;34m(\u001b[0m\u001b[0;34mf'The total number of articles is {len(all_articles)}'\u001b[0m\u001b[0;34m)\u001b[0m\u001b[0;34m\u001b[0m\u001b[0;34m\u001b[0m\u001b[0m\n",
      "\u001b[0;31mNameError\u001b[0m: name 'pm_total' is not defined"
     ]
    }
   ],
   "source": [
    "# check concatenation was successful\n",
    "w_dupe = len(all_articles)\n",
    "print(f'The total number of articles should be {ns_total} + {pm_total} = {ns_total + pm_total}')\n",
    "print(f'The total number of articles is {len(all_articles)}')"
   ]
  },
  {
   "cell_type": "code",
   "execution_count": 296,
   "metadata": {},
   "outputs": [],
   "source": [
    "# Remove duplicates\n",
    "all_articles.drop_duplicates(subset = \"pmid\", keep = 'first', inplace = True)\n",
    "all_articles.reset_index(drop=True, inplace=True)"
   ]
  },
  {
   "cell_type": "code",
   "execution_count": 297,
   "metadata": {},
   "outputs": [
    {
     "name": "stdout",
     "output_type": "stream",
     "text": [
      "The total number of articles was 1257, with duplicates\n",
      "There are now 19598 articles from both ns and pm\n"
     ]
    }
   ],
   "source": [
    "print(f'The total number of articles was {w_dupe}, with duplicates')\n",
    "print(f'There are now {len(all_articles)} articles from both ns and pm')"
   ]
  },
  {
   "cell_type": "code",
   "execution_count": 298,
   "metadata": {},
   "outputs": [],
   "source": [
    "# add colmuns to dataframe so we know whether it should be kept or removed for phase 2\n",
    "# split this based on 2 raters\n",
    "# e.g. 'y' for yes (keep), 'n' for no (remove)\n",
    "all_articles['rater'] = '-'"
   ]
  },
  {
   "cell_type": "code",
   "execution_count": 301,
   "metadata": {},
   "outputs": [],
   "source": [
    "# save all pm and ns articles\n",
    "all_articles.to_excel(opj(save_dir, 'excel', 'all_pm_ns_articles.xlsx'), sheet_name = 'pmid_all')"
   ]
  },
  {
   "cell_type": "code",
   "execution_count": 302,
   "metadata": {},
   "outputs": [],
   "source": [
    "# Randomly shuffle the dataframe so that they are in no particular order for each rater\n",
    "all_articles_rater1 = all_articles.sample(frac=1).reset_index(drop=True)\n",
    "all_articles_rater2 = all_articles.sample(frac=1).reset_index(drop=True)"
   ]
  },
  {
   "cell_type": "code",
   "execution_count": 308,
   "metadata": {},
   "outputs": [],
   "source": [
    "# save thse dataframe for both raters\n",
    "save_dir = opj(os.getcwd(), 'query_results')\n",
    "all_articles_rater1.to_excel(opj(save_dir, 'articles_to_check_sct.xlsx'), sheet_name = 'pmid_sct')\n",
    "all_articles_rater2.to_excel(opj(save_dir, 'articles_to_check_mck.xlsx'), sheet_name = 'pmid_mck')"
   ]
  },
  {
   "cell_type": "code",
   "execution_count": 309,
   "metadata": {},
   "outputs": [],
   "source": [
    "# Save excel file with all info and abstracts for both query routes\n",
    "all_articles.to_excel(opj(save_dir, 'all_articles_to_check.xlsx'), sheet_name = 'searches')"
   ]
  },
  {
   "cell_type": "markdown",
   "metadata": {},
   "source": [
    "# The code below loads, rechecks and gives info on the searches above\n",
    "Useful instead of running code above again"
   ]
  },
  {
   "cell_type": "code",
   "execution_count": 56,
   "metadata": {},
   "outputs": [
    {
     "name": "stderr",
     "output_type": "stream",
     "text": [
      "/opt/anaconda3/lib/python3.7/site-packages/ipykernel_launcher.py:24: SettingWithCopyWarning: \n",
      "A value is trying to be set on a copy of a slice from a DataFrame.\n",
      "Try using .loc[row_indexer,col_indexer] = value instead\n",
      "\n",
      "See the caveats in the documentation: http://pandas.pydata.org/pandas-docs/stable/user_guide/indexing.html#returning-a-view-versus-a-copy\n",
      "/opt/anaconda3/lib/python3.7/site-packages/ipykernel_launcher.py:25: SettingWithCopyWarning: \n",
      "A value is trying to be set on a copy of a slice from a DataFrame.\n",
      "Try using .loc[row_indexer,col_indexer] = value instead\n",
      "\n",
      "See the caveats in the documentation: http://pandas.pydata.org/pandas-docs/stable/user_guide/indexing.html#returning-a-view-versus-a-copy\n",
      "/opt/anaconda3/lib/python3.7/site-packages/ipykernel_launcher.py:32: SettingWithCopyWarning: \n",
      "A value is trying to be set on a copy of a slice from a DataFrame.\n",
      "Try using .loc[row_indexer,col_indexer] = value instead\n",
      "\n",
      "See the caveats in the documentation: http://pandas.pydata.org/pandas-docs/stable/user_guide/indexing.html#returning-a-view-versus-a-copy\n"
     ]
    }
   ],
   "source": [
    "# start with pubmed\n",
    "save_dir = opj(os.getcwd(), 'query_results/pubmed_results')\n",
    "\n",
    "# load and combine the different search batches from the pubmed articles\n",
    "first = pd.read_excel(opj(save_dir, 'excel', 'pubmed_articles_first_sunday.xlsx'),index_col=0)\n",
    "second = pd.read_excel(opj(save_dir, 'excel', 'pubmed_articles_second_sunday.xlsx'),index_col=0)\n",
    "third = pd.read_excel(opj(save_dir, 'excel', 'pubmed_articles_third_sunday.xlsx'),index_col=0)\n",
    "fourth = pd.read_excel(opj(save_dir, 'excel', 'pubmed_articles_fourth_sunday.xlsx'),index_col=0)\n",
    "fifth = pd.read_excel(opj(save_dir, 'excel', 'pubmed_articles_fifth_sunday.xlsx'),index_col=0)\n",
    "all_pms_with_duplicates = pd.concat([first,second,third,fourth,fifth])\n",
    "\n",
    "# save this as excel for future use/checks\n",
    "#all_pms_with_duplicates.to_excel(opj(save_dir, 'excel', 'pubmed_articles_all_with_duplicates.xlsx'), sheet_name = 'pmid_pubmed')\n",
    "n_pm_with_duplicates = len(all_pms_with_duplicates)\n",
    "\n",
    "# drop the duplicates from this and save again\n",
    "all_pms_no_duplicates = all_pms_with_duplicates.drop_duplicates(subset=\"pmid\", keep=\"first\", inplace=False)\n",
    "all_pms_no_duplicates.reset_index(inplace=True,drop=True)\n",
    "n_pm_no_duplicates = len(all_pms_no_duplicates)\n",
    "#all_pms_no_duplicates.to_excel(opj(save_dir, 'excel', 'pubmed_articles_no_duplicates.xlsx'), sheet_name = 'pmid_pubmed')\n",
    "\n",
    "# remove articles from before 2010 and save again\n",
    "# make some columns strings to make it easier to index\n",
    "all_pms_no_duplicates[\"pubdate\"] = all_pms_no_duplicates[\"pubdate\"].astype(str)\n",
    "all_pms_no_duplicates[\"pmid\"] = all_pms_no_duplicates[\"pmid\"].astype(str)\n",
    "\n",
    "all_pms_no_duplicates_post2010 = all_pms_no_duplicates[all_pms_no_duplicates['pubdate'].str.startswith(('2020','2019','2018','2017','2016','2015','2014','2013','2012','2011','2010'),na=False)]\n",
    "#all_pms_no_duplicates_post2010.to_excel(opj(save_dir, 'excel', 'pubmed_articles_all_no_duplicates_post_2010.xlsx'), sheet_name = 'pmid_pubmed')\n",
    "n_pm_post_2010 = len(all_pms_no_duplicates_post2010)\n",
    "\n",
    "# add type column and save as final sheet for pubmed articles\n",
    "all_pms_no_duplicates_post2010['type'] = 'pm'\n",
    "all_pms_final = all_pms_no_duplicates_post2010\n",
    "#all_pms_final.to_excel(opj(save_dir, 'excel', 'pubmed_articles_all_final.xlsx'), sheet_name = 'pmid_pubmed'\n",
    "n_pm_final = len(all_pms_final)"
   ]
  },
  {
   "cell_type": "code",
   "execution_count": 57,
   "metadata": {},
   "outputs": [
    {
     "name": "stderr",
     "output_type": "stream",
     "text": [
      "/opt/anaconda3/lib/python3.7/site-packages/ipykernel_launcher.py:25: SettingWithCopyWarning: \n",
      "A value is trying to be set on a copy of a slice from a DataFrame.\n",
      "Try using .loc[row_indexer,col_indexer] = value instead\n",
      "\n",
      "See the caveats in the documentation: http://pandas.pydata.org/pandas-docs/stable/user_guide/indexing.html#returning-a-view-versus-a-copy\n"
     ]
    }
   ],
   "source": [
    "# then do neurosynth\n",
    "save_dir = opj(os.getcwd(), 'query_results/neurosynth_results')\n",
    "\n",
    "# load article sheet \n",
    "ns_check = pd.read_excel(opj(save_dir, 'excel', 'neurosynth_articles.xlsx'), index_col=0)\n",
    "#ns_check.to_excel(opj(save_dir, 'excel', 'neurosynth_articles_all_with_duplicates.xlsx'), sheet_name = 'pmid_ns')\n",
    "n_ns_with_duplicates = len(ns_check)\n",
    "\n",
    "# make some columns strings to make it easier to index\n",
    "ns_check[\"pubdate\"] = ns_check[\"pubdate\"].astype(str)\n",
    "ns_check[\"pmid\"] = ns_check[\"pmid\"].astype(str)\n",
    "\n",
    "# drop the duplicates from this and save again\n",
    "all_ns_no_duplicates = ns_check.drop_duplicates(subset=\"pmid\", keep=\"first\", inplace=False)\n",
    "all_ns_no_duplicates.reset_index(inplace=True,drop=True)\n",
    "n_ns_no_duplicates = len(all_ns_no_duplicates)\n",
    "#all_ns_no_duplicates.to_excel(opj(save_dir, 'excel', 'neurosynth_articles_no_duplicates.xlsx'), sheet_name = 'pmid_neurosynth')\n",
    "\n",
    "# remove all articles that were before 2010\n",
    "all_ns_no_duplicates_post_2010 = all_ns_no_duplicates[all_ns_no_duplicates['pubdate'].str.startswith(('2020','2019','2018','2017','2016','2015','2014','2013','2012','2011','2010'),na=False)]\n",
    "#all_ns_no_duplicates_post_2010.to_excel(opj(save_dir, 'excel', 'neurosynth_articles_all_no_duplicates_post_2010.xlsx'), sheet_name = 'pmid_neurosynth')\n",
    "n_ns_post_2010 = len(all_ns_no_duplicates_post_2010)\n",
    "\n",
    "# add type column and save as final sheet for neurosynth articles\n",
    "all_ns_no_duplicates_post_2010['type'] = 'ns'\n",
    "all_ns_final = all_ns_no_duplicates_post_2010\n",
    "#all_ns_final.to_excel(opj(save_dir, 'excel', 'neurosynth_articles_all_final.xlsx'), sheet_name = 'pmid_neurosynth'\n",
    "n_ns_final = len(all_ns_final)"
   ]
  },
  {
   "cell_type": "code",
   "execution_count": 58,
   "metadata": {},
   "outputs": [],
   "source": [
    "# combine them and recheck \n",
    "combine_check = pd.concat([all_pms_final, all_ns_final])\n",
    "n_combined_with_duplicates = len(combine_check)\n",
    "\n",
    "combine_check[\"pmid\"] = combine_check[\"pmid\"].astype(str)\n",
    "\n",
    "# drop duplicates and measure again\n",
    "combined_without_duplicates = combine_check.drop_duplicates(subset = \"pmid\", keep = 'first', inplace = False)\n",
    "n_combined_without_duplicates = len(combined_without_duplicates)"
   ]
  },
  {
   "cell_type": "code",
   "execution_count": 55,
   "metadata": {},
   "outputs": [
    {
     "name": "stdout",
     "output_type": "stream",
     "text": [
      "There were 26391 pubmed articles left after the removal of duplicates\n",
      "The final amount of pubmed articles found, after removing all from before 2010 is 19527\n",
      "\n",
      "There were 1832 articles found through all neurosynth searches with duplicates\n",
      "There were 1832 pubmed articles left after the removal of duplicates\n",
      "The final amount of pubmed articles found, after removing all from before 2010 is 1254\n",
      "\n",
      "After combing the results of pubmed and neurosynth, there are 20781 articles\n",
      "After removing duplicates, the final number of articles to check in stage 1 is: 19598\n"
     ]
    }
   ],
   "source": [
    "# now print all the measurements/stages for clarity\n",
    "# print(f\"There were {n_pm_with_duplicates} articles found through all pubmed searches with duplicates\")\n",
    "print(f\"There were {n_pm_no_duplicates} pubmed articles left after the removal of duplicates\")\n",
    "print(f\"The final amount of pubmed articles found, after removing all from before 2010 is {n_pm_final}\\n\")\n",
    "\n",
    "print(f\"There were {n_ns_with_duplicates} articles found through all neurosynth searches with duplicates\")\n",
    "print(f\"There were {n_ns_no_duplicates} pubmed articles left after the removal of duplicates\")\n",
    "print(f\"The final amount of pubmed articles found, after removing all from before 2010 is {n_ns_final}\\n\")\n",
    "\n",
    "print(f\"After combing the results of pubmed and neurosynth, there are {n_combined_with_duplicates} articles\")\n",
    "print(f\"After removing duplicates, the final number of articles to check in stage 1 is: {n_combined_without_duplicates}\")"
   ]
  },
  {
   "cell_type": "markdown",
   "metadata": {},
   "source": [
    "## Print and save data pertaining to overview"
   ]
  },
  {
   "cell_type": "code",
   "execution_count": 82,
   "metadata": {},
   "outputs": [
    {
     "name": "stdout",
     "output_type": "stream",
     "text": [
      "Total number of articles found in all searches (Phase 1): 8776\n",
      "Number of articles found in PubMed search (Phase 1): 7386\n",
      "Number of articles found in Neurosynth search (Phase 1): 1390\n",
      "Final number of articles after removing duplicates (Phase 1): 8405\n",
      "\n"
     ]
    }
   ],
   "source": [
    "# Create, print and save overview of all steps taken in this search\n",
    "# All numbers were calculated after removal of duplicates\n",
    "print(f\"\"\"Total number of articles found in all searches (Phase 1): {pm_total + ns_total}\n",
    "Number of articles found in PubMed search (Phase 1): {pm_total}\n",
    "Number of articles found in Neurosynth search (Phase 1): {ns_total}\n",
    "Final number of articles after removing duplicates (Phase 1): {len(all_articles)}\n",
    "\"\"\")\n",
    "\n",
    "#overview = pd.DataFrame(columns)"
   ]
  },
  {
   "cell_type": "markdown",
   "metadata": {},
   "source": [
    "# Remove articles based on meta-analysis criteria (Phase 2)"
   ]
  },
  {
   "cell_type": "markdown",
   "metadata": {},
   "source": [
    "Criteria:\n",
    "\n",
    "1) 3x3x3mm or less voxel resolution\n",
    "\n",
    "2) 3T or higher MRI\n",
    "\n",
    "3) publiation during or after 2010\n",
    "\n",
    "4) Non patient groups (control/healthy individuals only)"
   ]
  },
  {
   "cell_type": "markdown",
   "metadata": {},
   "source": [
    "# Create flow chart for query search methods"
   ]
  },
  {
   "cell_type": "code",
   "execution_count": 103,
   "metadata": {},
   "outputs": [
    {
     "ename": "AttributeError",
     "evalue": "'Digraph' object has no attribute 'label'",
     "output_type": "error",
     "traceback": [
      "\u001b[0;31m---------------------------------------------------------------------------\u001b[0m",
      "\u001b[0;31mAttributeError\u001b[0m                            Traceback (most recent call last)",
      "\u001b[0;32m<ipython-input-103-3605f434f375>\u001b[0m in \u001b[0;36m<module>\u001b[0;34m\u001b[0m\n\u001b[1;32m      6\u001b[0m \u001b[0;34m\u001b[0m\u001b[0m\n\u001b[1;32m      7\u001b[0m \u001b[0mg\u001b[0m\u001b[0;34m.\u001b[0m\u001b[0medge\u001b[0m\u001b[0;34m(\u001b[0m\u001b[0;34m'Keywords Pubmed'\u001b[0m\u001b[0;34m,\u001b[0m \u001b[0;34m'Abstracts'\u001b[0m\u001b[0;34m)\u001b[0m\u001b[0;34m\u001b[0m\u001b[0;34m\u001b[0m\u001b[0m\n\u001b[0;32m----> 8\u001b[0;31m \u001b[0mg\u001b[0m\u001b[0;34m.\u001b[0m\u001b[0mlabel\u001b[0m\u001b[0;34m(\u001b[0m\u001b[0;34m)\u001b[0m\u001b[0;34m\u001b[0m\u001b[0;34m\u001b[0m\u001b[0m\n\u001b[0m\u001b[1;32m      9\u001b[0m \u001b[0mg\u001b[0m\u001b[0;34m.\u001b[0m\u001b[0medge\u001b[0m\u001b[0;34m(\u001b[0m\u001b[0;34m'Abstracts'\u001b[0m\u001b[0;34m,\u001b[0m \u001b[0;34m'Re-check abstracts'\u001b[0m\u001b[0;34m)\u001b[0m\u001b[0;34m\u001b[0m\u001b[0;34m\u001b[0m\u001b[0m\n\u001b[1;32m     10\u001b[0m \u001b[0mg\u001b[0m\u001b[0;34m.\u001b[0m\u001b[0medge\u001b[0m\u001b[0;34m(\u001b[0m\u001b[0;34m'Re-check abstracts'\u001b[0m\u001b[0;34m,\u001b[0m \u001b[0;34m'Read full article'\u001b[0m\u001b[0;34m)\u001b[0m\u001b[0;34m\u001b[0m\u001b[0;34m\u001b[0m\u001b[0m\n",
      "\u001b[0;31mAttributeError\u001b[0m: 'Digraph' object has no attribute 'label'"
     ]
    }
   ],
   "source": [
    "from graphviz import Digraph\n",
    "\n",
    "graph_dir = opj(os.getcwd(), 'query_results')\n",
    "\n",
    "g = Digraph('G', filename=opj(graph_dir, 'query_results.gv'))\n",
    "\n",
    "g.edge('Keywords Pubmed', 'Abstracts')\n",
    "g.edge('Abstracts', 'Re-check abstracts')\n",
    "g.edge('Re-check abstracts', 'Read full article')\n",
    "g.edge('Read full article', 'Include')\n",
    "\n",
    "g.view()"
   ]
  },
  {
   "cell_type": "code",
   "execution_count": 104,
   "metadata": {},
   "outputs": [
    {
     "data": {
      "text/plain": [
       "'test.gv.png'"
      ]
     },
     "execution_count": 104,
     "metadata": {},
     "output_type": "execute_result"
    }
   ],
   "source": [
    "from graphviz import Source\n",
    "temp = \"\"\"\n",
    "digraph G{\n",
    "edge [dir=forward]\n",
    "node [shape=plaintext]\n",
    "\n",
    "0 [label=\"Keywords PubMed\"]\n",
    "0 -> 2 \n",
    "1 [label=\"Keywords Neurosynth\"]\n",
    "1 -> 2\n",
    "2 [label=\"Abstracts\"]\n",
    "\n",
    "\n",
    "\n",
    "1 [label=\"1 (Hello)\"]\n",
    "2 [label=\"2 (how)\"]\n",
    "2 -> 1 [label=\"advmod\"]\n",
    "3 [label=\"3 (are)\"]\n",
    "4 [label=\"4 (you)\"]\n",
    "5 [label=\"5 (doing)\"]\n",
    "5 -> 3 [label=\"aux\"]\n",
    "5 -> 2 [label=\"advmod\"]\n",
    "5 -> 4 [label=\"nsubj\"]\n",
    "}\n",
    "\"\"\"\n",
    "s = Source(temp, filename=\"test.gv\", format=\"png\")\n",
    "s.view()"
   ]
  },
  {
   "cell_type": "code",
   "execution_count": 105,
   "metadata": {},
   "outputs": [
    {
     "data": {
      "text/plain": [
       "'test.gv.png'"
      ]
     },
     "execution_count": 105,
     "metadata": {},
     "output_type": "execute_result"
    }
   ],
   "source": [
    "from graphviz import Source\n",
    "temp = \"\"\"\n",
    "digraph g1 {\n",
    "\n",
    "  graph [splines=false];\n",
    "\n",
    "  // invisible nodes\n",
    "  node[ shape = point, width=0, height=0] ;\n",
    "  i1 [ style=\"invis\"];\n",
    "  i2 [ style=\"invis\"];\n",
    "  i3 [ style=\"invis\"];\n",
    "  i4 [ style=\"invis\"];\n",
    "\n",
    "  node[fontsize=15, color = black, shape = box, width=3, height=1] ;\n",
    "  a[color=blue, label=\"a\"];\n",
    "  b[color=green, label=\"b\"];\n",
    "  c[color=orange, label=\"c\"]; \n",
    "  d[color=red, label=\"d\"] ;       \n",
    "\n",
    "  {rank=same; a -> b -> c};\n",
    "\n",
    "  c -> i1[arrowhead=none];\n",
    "  i1 -> d[label=\"  FOR EACH\\n\\n\"]; \n",
    "  d -> i2[arrowhead=none];\n",
    "\n",
    "  {rank=same; i3 -> i2[arrowhead=none, minlen = 7 ] };\n",
    "\n",
    "  b -> i4[style=\"invis\"];\n",
    "  i4 -> i3[arrowhead=none];\n",
    "\n",
    "  {rank=same; i4 -> i1};\n",
    "\n",
    "}\n",
    "\"\"\"\n",
    "s = Source(temp, filename=\"test.gv\", format=\"png\")\n",
    "s.view()"
   ]
  },
  {
   "cell_type": "code",
   "execution_count": null,
   "metadata": {},
   "outputs": [],
   "source": []
  },
  {
   "cell_type": "code",
   "execution_count": null,
   "metadata": {},
   "outputs": [],
   "source": []
  },
  {
   "cell_type": "code",
   "execution_count": null,
   "metadata": {},
   "outputs": [],
   "source": []
  },
  {
   "cell_type": "code",
   "execution_count": null,
   "metadata": {},
   "outputs": [],
   "source": []
  },
  {
   "cell_type": "code",
   "execution_count": null,
   "metadata": {},
   "outputs": [],
   "source": []
  },
  {
   "cell_type": "code",
   "execution_count": null,
   "metadata": {},
   "outputs": [],
   "source": []
  },
  {
   "cell_type": "code",
   "execution_count": null,
   "metadata": {},
   "outputs": [],
   "source": []
  },
  {
   "cell_type": "code",
   "execution_count": null,
   "metadata": {},
   "outputs": [],
   "source": []
  },
  {
   "cell_type": "code",
   "execution_count": null,
   "metadata": {},
   "outputs": [],
   "source": []
  },
  {
   "cell_type": "markdown",
   "metadata": {},
   "source": [
    "# Old code/not to use/notes"
   ]
  },
  {
   "cell_type": "code",
   "execution_count": null,
   "metadata": {},
   "outputs": [],
   "source": [
    "# use features to search for articles we want to include\n",
    "ids = dataset.get_studies(features='conflict control', frequency_threshold=0.001)"
   ]
  },
  {
   "cell_type": "code",
   "execution_count": 155,
   "metadata": {},
   "outputs": [
    {
     "data": {
      "text/plain": [
       "0"
      ]
     },
     "execution_count": 155,
     "metadata": {},
     "output_type": "execute_result"
    }
   ],
   "source": [
    "len(ids)"
   ]
  },
  {
   "cell_type": "code",
   "execution_count": 128,
   "metadata": {
    "collapsed": true
   },
   "outputs": [
    {
     "data": {
      "text/plain": [
       "[10666562,\n",
       " 11571223,\n",
       " 11804576,\n",
       " 12631562,\n",
       " 12742674,\n",
       " 12902389,\n",
       " 12925284,\n",
       " 12944513,\n",
       " 14766185,\n",
       " 15183394,\n",
       " 15473975,\n",
       " 15574744,\n",
       " 15590917,\n",
       " 15627596,\n",
       " 15734361,\n",
       " 15795135,\n",
       " 15834861,\n",
       " 15862220,\n",
       " 15925092,\n",
       " 15955496,\n",
       " 15964211,\n",
       " 15994228,\n",
       " 16000652,\n",
       " 16019232,\n",
       " 16033888,\n",
       " 16111898,\n",
       " 16125977,\n",
       " 16126415,\n",
       " 16407479,\n",
       " 16414280,\n",
       " 16452666,\n",
       " 16490365,\n",
       " 16520064,\n",
       " 16553630,\n",
       " 16571373,\n",
       " 16624583,\n",
       " 16641225,\n",
       " 16650775,\n",
       " 16672649,\n",
       " 16683265,\n",
       " 16718653,\n",
       " 16764897,\n",
       " 16766210,\n",
       " 16769743,\n",
       " 16859648,\n",
       " 16978881,\n",
       " 17046722,\n",
       " 17112745,\n",
       " 17118409,\n",
       " 17276088,\n",
       " 17292590,\n",
       " 17306437,\n",
       " 17321151,\n",
       " 17346989,\n",
       " 17370344,\n",
       " 17544015,\n",
       " 17553704,\n",
       " 17585887,\n",
       " 17588776,\n",
       " 17596416,\n",
       " 17655834,\n",
       " 17719567,\n",
       " 17765572,\n",
       " 17765933,\n",
       " 17855604,\n",
       " 17888409,\n",
       " 17913474,\n",
       " 17919934,\n",
       " 17979124,\n",
       " 18033768,\n",
       " 18094962,\n",
       " 18155254,\n",
       " 18172852,\n",
       " 18261931,\n",
       " 18308710,\n",
       " 18445602,\n",
       " 18495886,\n",
       " 18559283,\n",
       " 18578603,\n",
       " 18601941,\n",
       " 18632120,\n",
       " 18635157,\n",
       " 18674847,\n",
       " 18678764,\n",
       " 18685833,\n",
       " 18689860,\n",
       " 18706701,\n",
       " 18799601,\n",
       " 18954965,\n",
       " 19015088,\n",
       " 19166943,\n",
       " 19199402,\n",
       " 19199417,\n",
       " 19261334,\n",
       " 19301994,\n",
       " 19302005,\n",
       " 19307251,\n",
       " 19321789,\n",
       " 19398537,\n",
       " 19400679,\n",
       " 19410583,\n",
       " 19427089,\n",
       " 19429078,\n",
       " 19429861,\n",
       " 19457372,\n",
       " 19494138,\n",
       " 19505444,\n",
       " 19540863,\n",
       " 19574440,\n",
       " 19577651,\n",
       " 19580877,\n",
       " 19650139,\n",
       " 19703568,\n",
       " 19717138,\n",
       " 19789183,\n",
       " 19853290,\n",
       " 19875675,\n",
       " 19909818,\n",
       " 19915091,\n",
       " 19945172,\n",
       " 20026317,\n",
       " 20032247,\n",
       " 20035016,\n",
       " 20035830,\n",
       " 20036266,\n",
       " 20051357,\n",
       " 20060480,\n",
       " 20140099,\n",
       " 20147457,\n",
       " 20152906,\n",
       " 20156657,\n",
       " 20169080,\n",
       " 20188516,\n",
       " 20194514,\n",
       " 20336653,\n",
       " 20350171,\n",
       " 20363236,\n",
       " 20394829,\n",
       " 20399622,\n",
       " 20399838,\n",
       " 20417713,\n",
       " 20421135,\n",
       " 20561537,\n",
       " 20617884,\n",
       " 20645312,\n",
       " 20656038,\n",
       " 20660273,\n",
       " 20688176,\n",
       " 20699229,\n",
       " 20851189,\n",
       " 20861380,\n",
       " 20883800,\n",
       " 20934987,\n",
       " 20949134,\n",
       " 20955801,\n",
       " 20965635,\n",
       " 20980588,\n",
       " 21055874,\n",
       " 21084608,\n",
       " 21094259,\n",
       " 21126593,\n",
       " 21147136,\n",
       " 21152391,\n",
       " 21168122,\n",
       " 21184220,\n",
       " 21212836,\n",
       " 21229616,\n",
       " 21246665,\n",
       " 21254801,\n",
       " 21256228,\n",
       " 21258644,\n",
       " 21273421,\n",
       " 21281720,\n",
       " 21298074,\n",
       " 21349335,\n",
       " 21352923,\n",
       " 21368033,\n",
       " 21389239,\n",
       " 21391268,\n",
       " 21391280,\n",
       " 21398015,\n",
       " 21408006,\n",
       " 21411661,\n",
       " 21440645,\n",
       " 21451040,\n",
       " 21452938,\n",
       " 21481335,\n",
       " 21482547,\n",
       " 21507542,\n",
       " 21515385,\n",
       " 21568631,\n",
       " 21570470,\n",
       " 21572088,\n",
       " 21612005,\n",
       " 21620984,\n",
       " 21664278,\n",
       " 21738725,\n",
       " 21756946,\n",
       " 21769993,\n",
       " 21775675,\n",
       " 21778039,\n",
       " 21799807,\n",
       " 21831605,\n",
       " 21840409,\n",
       " 21843538,\n",
       " 21874602,\n",
       " 21907809,\n",
       " 21945693,\n",
       " 21958514,\n",
       " 21981803,\n",
       " 21989805,\n",
       " 21992873,\n",
       " 21993055,\n",
       " 22016480,\n",
       " 22022611,\n",
       " 22027088,\n",
       " 22041256,\n",
       " 22114083,\n",
       " 22155041,\n",
       " 22172578,\n",
       " 22193727,\n",
       " 22200490,\n",
       " 22228751,\n",
       " 22230946,\n",
       " 22238632,\n",
       " 22244835,\n",
       " 22270350,\n",
       " 22276205,\n",
       " 22276215,\n",
       " 22277668,\n",
       " 22284615,\n",
       " 22288392,\n",
       " 22306803,\n",
       " 22319604,\n",
       " 22363273,\n",
       " 22368081,\n",
       " 22392009,\n",
       " 22411802,\n",
       " 22426336,\n",
       " 22427332,\n",
       " 22427852,\n",
       " 22445780,\n",
       " 22484205,\n",
       " 22494771,\n",
       " 22497878,\n",
       " 22510535,\n",
       " 22564480,\n",
       " 22571460,\n",
       " 22574280,\n",
       " 22576840,\n",
       " 22617632,\n",
       " 22617829,\n",
       " 22617850,\n",
       " 22683384,\n",
       " 22696421,\n",
       " 22699920,\n",
       " 22724025,\n",
       " 22745498,\n",
       " 22750124,\n",
       " 22766165,\n",
       " 22798398,\n",
       " 22855822,\n",
       " 22905823,\n",
       " 22905826,\n",
       " 22906785,\n",
       " 22911806,\n",
       " 22922525,\n",
       " 22928000,\n",
       " 22952762,\n",
       " 22959916,\n",
       " 22960116,\n",
       " 23000552,\n",
       " 23015531,\n",
       " 23046903,\n",
       " 23062585,\n",
       " 23127796,\n",
       " 23131612,\n",
       " 23146247,\n",
       " 23162047,\n",
       " 23163412,\n",
       " 23165220,\n",
       " 23170237,\n",
       " 23174403,\n",
       " 23190328,\n",
       " 23194816,\n",
       " 23194834,\n",
       " 23196144,\n",
       " 23228724,\n",
       " 23245750,\n",
       " 23249349,\n",
       " 23262174,\n",
       " 23274799,\n",
       " 23281064,\n",
       " 23284730,\n",
       " 23303919,\n",
       " 23328350,\n",
       " 23355606,\n",
       " 23365241,\n",
       " 23376475,\n",
       " 23376698,\n",
       " 23382821,\n",
       " 23402762,\n",
       " 23454071,\n",
       " 23475755,\n",
       " 23485025,\n",
       " 23507386,\n",
       " 23563963,\n",
       " 23567890,\n",
       " 23578576,\n",
       " 23595766,\n",
       " 23613739,\n",
       " 23691984,\n",
       " 23765157,\n",
       " 23776553,\n",
       " 23778236,\n",
       " 23791040,\n",
       " 23796796,\n",
       " 23800705,\n",
       " 23812762,\n",
       " 23847500,\n",
       " 23859480,\n",
       " 23872155,\n",
       " 23908622,\n",
       " 23933469,\n",
       " 23949893,\n",
       " 23959200,\n",
       " 23962468,\n",
       " 24009754,\n",
       " 24019938,\n",
       " 24027122,\n",
       " 24064075,\n",
       " 24096208,\n",
       " 24108799,\n",
       " 24116842,\n",
       " 24120302,\n",
       " 24121447,\n",
       " 24142148,\n",
       " 24144246,\n",
       " 24155301,\n",
       " 24156926,\n",
       " 24198777,\n",
       " 24209777,\n",
       " 24236763,\n",
       " 24239131,\n",
       " 24240601,\n",
       " 24263193,\n",
       " 24270043,\n",
       " 24300085,\n",
       " 24314347,\n",
       " 24334109,\n",
       " 24363971,\n",
       " 24387822,\n",
       " 24392900,\n",
       " 24398332,\n",
       " 24416003,\n",
       " 24421765,\n",
       " 24430617,\n",
       " 24448735,\n",
       " 24451658,\n",
       " 24473095,\n",
       " 24475211,\n",
       " 24493837,\n",
       " 24510765,\n",
       " 24530294,\n",
       " 24557637,\n",
       " 24564464,\n",
       " 24564466,\n",
       " 24615691,\n",
       " 24631396,\n",
       " 24650280,\n",
       " 24652858,\n",
       " 24661911,\n",
       " 24675647,\n",
       " 24709569,\n",
       " 24740815,\n",
       " 24742155,\n",
       " 24753396,\n",
       " 24763910,\n",
       " 24778608,\n",
       " 24788317,\n",
       " 24825503,\n",
       " 24842002,\n",
       " 24844926,\n",
       " 24867712,\n",
       " 24902936,\n",
       " 24906703,\n",
       " 24936412,\n",
       " 24966373,\n",
       " 24966390,\n",
       " 25037924,\n",
       " 25100217,\n",
       " 25107854,\n",
       " 25131828,\n",
       " 25148704,\n",
       " 25158155,\n",
       " 25160678,\n",
       " 25162661,\n",
       " 25180974,\n",
       " 25191704,\n",
       " 25203271,\n",
       " 25223905,\n",
       " 25249406,\n",
       " 25263609,\n",
       " 25277841,\n",
       " 25284272,\n",
       " 25284304,\n",
       " 25305570,\n",
       " 25319705,\n",
       " 25352218,\n",
       " 25356830,\n",
       " 25360099,\n",
       " 25381653,\n",
       " 25433095,\n",
       " 25444164,\n",
       " 25450109,\n",
       " 25463140,\n",
       " 25463462,\n",
       " 25481386,\n",
       " 25481622,\n",
       " 25499146,\n",
       " 25505309,\n",
       " 25568119,\n",
       " 25610386,\n",
       " 25614233,\n",
       " 25637772,\n",
       " 25648705,\n",
       " 25670645,\n",
       " 25694215,\n",
       " 25698637,\n",
       " 25698755,\n",
       " 25759470,\n",
       " 25768010,\n",
       " 25774886,\n",
       " 25797657,\n",
       " 25812714,\n",
       " 25818869,\n",
       " 25833189,\n",
       " 25862263,\n",
       " 25868150,\n",
       " 25872899,\n",
       " 25875000,\n",
       " 25875640,\n",
       " 25879953,\n",
       " 25938442,\n",
       " 25960314,\n",
       " 25969399,\n",
       " 25982488,\n",
       " 25989852,\n",
       " 26003860,\n",
       " 26028185,\n",
       " 26045566,\n",
       " 26052943,\n",
       " 26095091,\n",
       " 26106526,\n",
       " 26108101,\n",
       " 26177161,\n",
       " 26197049,\n",
       " 26197092,\n",
       " 26215473,\n",
       " 26219536,\n",
       " 26244883,\n",
       " 26280275,\n",
       " 26299314,\n",
       " 26300450,\n",
       " 26318935,\n",
       " 26322974,\n",
       " 26351864,\n",
       " 26358975,\n",
       " 26363618,\n",
       " 26364127,\n",
       " 26365712,\n",
       " 26373604,\n",
       " 26419389,\n",
       " 26434803,\n",
       " 26441146,\n",
       " 26458520,\n",
       " 26459074,\n",
       " 26459989,\n",
       " 26471057,\n",
       " 26478962,\n",
       " 26584870,\n",
       " 26601909,\n",
       " 26685089,\n",
       " 26696871,\n",
       " 26716447,\n",
       " 26778366,\n",
       " 26826874,\n",
       " 26843002,\n",
       " 27114896,\n",
       " 27136416,\n",
       " 27155070,\n",
       " 27199724,\n",
       " 27243614,\n",
       " 27244227,\n",
       " 27253724,\n",
       " 27260987,\n",
       " 27261161,\n",
       " 27261927,\n",
       " 27274075,\n",
       " 27294029,\n",
       " 27363008,\n",
       " 27391013,\n",
       " 27399612,\n",
       " 27456537,\n",
       " 27458349,\n",
       " 27473167,\n",
       " 27504261,\n",
       " 27510495,\n",
       " 27524674,\n",
       " 27560361,\n",
       " 27567966,\n",
       " 27676615,\n",
       " 27697593,\n",
       " 27738993,\n",
       " 27746729,\n",
       " 27755551,\n",
       " 27771559,\n",
       " 27784627,\n",
       " 27807031,\n",
       " 27810271,\n",
       " 27857686,\n",
       " 27864082,\n",
       " 27876651,\n",
       " 27880789,\n",
       " 27894892,\n",
       " 27895564,\n",
       " 27913157,\n",
       " 27914042,\n",
       " 27955939,\n",
       " 27974616,\n",
       " 27979789,\n",
       " 27998996,\n",
       " 28031150,\n",
       " 28039553,\n",
       " 28057531,\n",
       " 28077311,\n",
       " 28077513,\n",
       " 28123033,\n",
       " 28138426,\n",
       " 28142026,\n",
       " 28159685,\n",
       " 28169089,\n",
       " 28199893,\n",
       " 28210783,\n",
       " 28253080,\n",
       " 28282414,\n",
       " 28285207,\n",
       " 28292705,\n",
       " 28294716,\n",
       " 28348521,\n",
       " 28371646,\n",
       " 28376413,\n",
       " 28392763,\n",
       " 28423021,\n",
       " 28458022,\n",
       " 28477862,\n",
       " 28478139,\n",
       " 28486506,\n",
       " 28526931,\n",
       " 28527789,\n",
       " 28544983,\n",
       " 28577979,\n",
       " 28596726,\n",
       " 28647596,\n",
       " 28648285,\n",
       " 28662482,\n",
       " 28669784,\n",
       " 28688343,\n",
       " 28712089,\n",
       " 28716966,\n",
       " 28750252,\n",
       " 28794976,\n",
       " 28803349,\n",
       " 28842270,\n",
       " 28877969,\n",
       " 28880891,\n",
       " 28984525,\n",
       " 29084283,\n",
       " 29100150,\n",
       " 29110183,\n",
       " 29159044,\n",
       " 29161358,\n",
       " 29181816,\n",
       " 29191480,\n",
       " 29297154,\n",
       " 29311870,\n",
       " 29339315,\n",
       " 29414492,\n",
       " 29467636,\n",
       " 29499312,\n",
       " 29519851,\n",
       " 29555561,\n",
       " 29616472,\n",
       " 29700724,\n",
       " 29740292,\n",
       " 29744804,\n",
       " 29765312,\n",
       " 29845006]"
      ]
     },
     "execution_count": 128,
     "metadata": {},
     "output_type": "execute_result"
    }
   ],
   "source": [
    "ids"
   ]
  },
  {
   "cell_type": "code",
   "execution_count": 156,
   "metadata": {},
   "outputs": [
    {
     "data": {
      "text/plain": [
       "{'conflict control',\n",
       " 'flanker',\n",
       " 'global inhibition',\n",
       " 'go no go',\n",
       " 'go-no go',\n",
       " 'go/no go',\n",
       " 'go/nogo',\n",
       " 'interference',\n",
       " 'selective inhibition',\n",
       " 'simon',\n",
       " 'stop signal',\n",
       " 'stop-signal',\n",
       " 'stroop'}"
      ]
     },
     "execution_count": 156,
     "metadata": {},
     "output_type": "execute_result"
    }
   ],
   "source": [
    "neurosynth_keywords"
   ]
  },
  {
   "cell_type": "code",
   "execution_count": 92,
   "metadata": {},
   "outputs": [
    {
     "ename": "TypeError",
     "evalue": "'Dataset' object is not callable",
     "output_type": "error",
     "traceback": [
      "\u001b[0;31m---------------------------------------------------------------------------\u001b[0m",
      "\u001b[0;31mTypeError\u001b[0m                                 Traceback (most recent call last)",
      "\u001b[0;32m<ipython-input-92-080f8183ceed>\u001b[0m in \u001b[0;36m<module>\u001b[0;34m\u001b[0m\n\u001b[0;32m----> 1\u001b[0;31m \u001b[0mdataset\u001b[0m\u001b[0;34m(\u001b[0m\u001b[0mids\u001b[0m\u001b[0;34m)\u001b[0m\u001b[0;34m\u001b[0m\u001b[0;34m\u001b[0m\u001b[0m\n\u001b[0m",
      "\u001b[0;31mTypeError\u001b[0m: 'Dataset' object is not callable"
     ]
    }
   ],
   "source": [
    "# Okay, so now we have the PubMed IDs for each study that Neurosynth finds\n",
    "# We can then used a PubMEd search again for these specific IDs (as all neurosynth studies have a PubMed ID)\n"
   ]
  },
  {
   "cell_type": "code",
   "execution_count": 129,
   "metadata": {},
   "outputs": [
    {
     "ename": "AttributeError",
     "evalue": "'Dataset' object has no attribute 'download_abstracts'",
     "output_type": "error",
     "traceback": [
      "\u001b[0;31m---------------------------------------------------------------------------\u001b[0m",
      "\u001b[0;31mAttributeError\u001b[0m                            Traceback (most recent call last)",
      "\u001b[0;32m<ipython-input-129-6e7febed1f6a>\u001b[0m in \u001b[0;36m<module>\u001b[0;34m\u001b[0m\n\u001b[0;32m----> 1\u001b[0;31m \u001b[0mabstracts\u001b[0m \u001b[0;34m=\u001b[0m \u001b[0mdataset\u001b[0m\u001b[0;34m.\u001b[0m\u001b[0mdownload_abstracts\u001b[0m\u001b[0;34m(\u001b[0m\u001b[0mids\u001b[0m\u001b[0;34m)\u001b[0m\u001b[0;34m\u001b[0m\u001b[0;34m\u001b[0m\u001b[0m\n\u001b[0m",
      "\u001b[0;31mAttributeError\u001b[0m: 'Dataset' object has no attribute 'download_abstracts'"
     ]
    }
   ],
   "source": [
    "abstracts = dataset.download_abstracts(ids)"
   ]
  },
  {
   "cell_type": "code",
   "execution_count": 107,
   "metadata": {},
   "outputs": [
    {
     "ename": "NameError",
     "evalue": "name 'neurosynth' is not defined",
     "output_type": "error",
     "traceback": [
      "\u001b[0;31m---------------------------------------------------------------------------\u001b[0m",
      "\u001b[0;31mNameError\u001b[0m                                 Traceback (most recent call last)",
      "\u001b[0;32m<ipython-input-107-8abea9885e9c>\u001b[0m in \u001b[0;36m<module>\u001b[0;34m\u001b[0m\n\u001b[0;32m----> 1\u001b[0;31m \u001b[0mneurosynth\u001b[0m\u001b[0;34m\u001b[0m\u001b[0;34m\u001b[0m\u001b[0m\n\u001b[0m",
      "\u001b[0;31mNameError\u001b[0m: name 'neurosynth' is not defined"
     ]
    }
   ],
   "source": [
    "neurosynth"
   ]
  },
  {
   "cell_type": "code",
   "execution_count": 131,
   "metadata": {},
   "outputs": [],
   "source": [
    "test_ab = ns.base.dataset.download_abstracts(ids, email='scottifict@gmail.com')"
   ]
  },
  {
   "cell_type": "code",
   "execution_count": 120,
   "metadata": {},
   "outputs": [
    {
     "data": {
      "text/plain": [
       "['__class__',\n",
       " '__delattr__',\n",
       " '__dict__',\n",
       " '__dir__',\n",
       " '__doc__',\n",
       " '__eq__',\n",
       " '__format__',\n",
       " '__ge__',\n",
       " '__getattribute__',\n",
       " '__gt__',\n",
       " '__hash__',\n",
       " '__init__',\n",
       " '__init_subclass__',\n",
       " '__le__',\n",
       " '__lt__',\n",
       " '__module__',\n",
       " '__ne__',\n",
       " '__new__',\n",
       " '__reduce__',\n",
       " '__reduce_ex__',\n",
       " '__repr__',\n",
       " '__setattr__',\n",
       " '__sizeof__',\n",
       " '__slotnames__',\n",
       " '__str__',\n",
       " '__subclasshook__',\n",
       " '__weakref__',\n",
       " '_load_activations',\n",
       " 'activations',\n",
       " 'add_features',\n",
       " 'create_image_table',\n",
       " 'feature_table',\n",
       " 'get_feature_counts',\n",
       " 'get_feature_data',\n",
       " 'get_feature_names',\n",
       " 'get_image_data',\n",
       " 'get_studies',\n",
       " 'image_table',\n",
       " 'load',\n",
       " 'masker',\n",
       " 'r',\n",
       " 'save',\n",
       " 'transformer']"
      ]
     },
     "execution_count": 120,
     "metadata": {},
     "output_type": "execute_result"
    }
   ],
   "source": [
    "dir(dataset)"
   ]
  },
  {
   "cell_type": "code",
   "execution_count": 136,
   "metadata": {},
   "outputs": [
    {
     "data": {
      "text/plain": [
       "'When a switch between two tasks has to be carried out, performance is slower than in trials where the same task is performed repeatedly. This finding has been attributed to time-consuming control processes required for task switching. Previous results of other paradigms investigating cognitive control processes suggested that prefrontal cortex is involved in executive control. We used event-related fMRI to investigate prefrontal cortex involvement in task switching. Regions in the lateral prefrontal and premotor cortex bilaterally, the anterior insula bilaterally, the left intraparietal sulcus, the SMA/pre-SMA region and the cuneus/precuneus were activated by the task repetition condition and showed additional activation in the task switch condition. This confirmed the hypothesis that lateral prefrontal cortex is involved in task switching. However, the results also showed that this region is neither the only region involved in task switching nor a region specifically involved in task switching.'"
      ]
     },
     "execution_count": 136,
     "metadata": {},
     "output_type": "execute_result"
    }
   ],
   "source": [
    "test_ab.abstract[0]"
   ]
  },
  {
   "cell_type": "code",
   "execution_count": 138,
   "metadata": {},
   "outputs": [
    {
     "ename": "AttributeError",
     "evalue": "'Dataset' object has no attribute 'id'",
     "output_type": "error",
     "traceback": [
      "\u001b[0;31m---------------------------------------------------------------------------\u001b[0m",
      "\u001b[0;31mAttributeError\u001b[0m                            Traceback (most recent call last)",
      "\u001b[0;32m<ipython-input-138-13e9a6dbeec7>\u001b[0m in \u001b[0;36m<module>\u001b[0;34m\u001b[0m\n\u001b[0;32m----> 1\u001b[0;31m \u001b[0mdataset\u001b[0m\u001b[0;34m.\u001b[0m\u001b[0mid\u001b[0m\u001b[0;34m\u001b[0m\u001b[0;34m\u001b[0m\u001b[0m\n\u001b[0m",
      "\u001b[0;31mAttributeError\u001b[0m: 'Dataset' object has no attribute 'id'"
     ]
    }
   ],
   "source": [
    "dataset.id"
   ]
  },
  {
   "cell_type": "code",
   "execution_count": 151,
   "metadata": {},
   "outputs": [],
   "source": [
    "test_id = dataset.get_studies(features='conflict', frequency_threshold=0.001)"
   ]
  },
  {
   "cell_type": "code",
   "execution_count": 152,
   "metadata": {},
   "outputs": [
    {
     "data": {
      "text/plain": [
       "337"
      ]
     },
     "execution_count": 152,
     "metadata": {},
     "output_type": "execute_result"
    }
   ],
   "source": [
    "len(test_id)"
   ]
  },
  {
   "cell_type": "code",
   "execution_count": 182,
   "metadata": {},
   "outputs": [
    {
     "data": {
      "text/html": [
       "<div>\n",
       "<style scoped>\n",
       "    .dataframe tbody tr th:only-of-type {\n",
       "        vertical-align: middle;\n",
       "    }\n",
       "\n",
       "    .dataframe tbody tr th {\n",
       "        vertical-align: top;\n",
       "    }\n",
       "\n",
       "    .dataframe thead th {\n",
       "        text-align: right;\n",
       "    }\n",
       "</style>\n",
       "<table border=\"1\" class=\"dataframe\">\n",
       "  <thead>\n",
       "    <tr style=\"text-align: right;\">\n",
       "      <th></th>\n",
       "      <th>pmid</th>\n",
       "      <th>abstract</th>\n",
       "    </tr>\n",
       "  </thead>\n",
       "  <tbody>\n",
       "  </tbody>\n",
       "</table>\n",
       "</div>"
      ],
      "text/plain": [
       "Empty DataFrame\n",
       "Columns: [pmid, abstract]\n",
       "Index: []"
      ]
     },
     "execution_count": 182,
     "metadata": {},
     "output_type": "execute_result"
    }
   ],
   "source": [
    "ns_abstracts"
   ]
  },
  {
   "cell_type": "code",
   "execution_count": null,
   "metadata": {},
   "outputs": [],
   "source": [
    "# this was the original code, but did not remove duplicates so was moved to 'notes' section\n",
    "\n",
    "save_dir = opj(os.getcwd(), 'query_results/pubmed_results')\n",
    "\n",
    "pubmed = pm.PubMed(tool=\"MyTool\", email = email)\n",
    "\n",
    "pm_total = 0\n",
    "\n",
    "all_pm_articles = pd.DataFrame(columns = [\"title\",\"authors\",\"pmid\",\"keywords\",\"pubdate\",\"abstract\"])\n",
    "\n",
    "for args in keyword_arguments: # loop over all keyword argmuents\n",
    "    \n",
    "    results = pubmed.query(query=args, max_results=2) # run search query\n",
    "    lengthable = pubmed.query(query=args, max_results=2) # non-elegant method to measure length of results\n",
    "    \n",
    "    len_of_results = sum(1 for x in lengthable) # only way to get length of results output\n",
    "    pm_total += len_of_results\n",
    "    \n",
    "    document = Document() # create the word document to save to\n",
    "    document.add_heading(args, 0) # make keyword the title of the document\n",
    "    document.add_paragraph(f\"Number of articles found: {len_of_results}\")\n",
    "    \n",
    "    article_info = pd.DataFrame(columns = [\"title\",\"authors\",\"pmid\",\"keywords\",\"pubdate\",\"abstract\"])\n",
    "    \n",
    "    for article in results: # loop over all found articles\n",
    "        \n",
    "        article_id = article.pubmed_id # extract info from each article\n",
    "        article_title = article.title # extract title\n",
    "\n",
    "        if article.keywords: # find keywords if they exist\n",
    "            if None in article.keywords:\n",
    "                article.keywords.remove(None)\n",
    "            article_keywords = '\", \"'.join(article.keywords)\n",
    "        else:\n",
    "            article_keywords = \"Article has no keywords\"\n",
    "            \n",
    "        article_publication_date = article.publication_date # extract publication date\n",
    "        article_abstract = article.abstract # extract abstract\n",
    "        \n",
    "        article_authors = []\n",
    "        for auths in range(len(article.authors)):\n",
    "            if auths == len(article.authors)-1:\n",
    "                article_authors.append(article.authors[auths]['lastname'] + ', ' + article.authors[auths]['initials'])\n",
    "            else:\n",
    "                article_authors.append(article.authors[auths]['lastname'] + ', ' + article.authors[auths]['initials'] + '.,')\n",
    "        \n",
    "        # Throw all this info into a pandas dataframe so we can export it to excel\n",
    "        article_info = article_info.append(pd.DataFrame({\"title\":[article_title],\"authors\":[str(' '.join(article_authors))],\"pmid\":[article_id],\n",
    "                                          \"keywords\":[article_keywords],\"pubdate\":[article_publication_date],\n",
    "                                          \"abstract\":[article_abstract]}))\n",
    "        \n",
    "        # Save one dataframe object with every found article so we can remove duplicates\n",
    "        all_pm_articles = all_pm_articles.append(pd.DataFrame({\"title\":[article_title],\"authors\":[str(' '.join(article_authors))],\"pmid\":[article_id],\n",
    "                                  \"keywords\":[article_keywords],\"pubdate\":[article_publication_date],\n",
    "                                  \"abstract\":[article_abstract]}))\n",
    "        \n",
    "        # append info to word document\n",
    "        document.add_page_break()\n",
    "        document.add_heading(str(article_title))\n",
    "        document.add_paragraph(str(' '.join(article_authors)))\n",
    "        document.add_paragraph(str(article_id))\n",
    "        document.add_paragraph(str(article_keywords))\n",
    "        document.add_paragraph(str(article_publication_date))\n",
    "        document.add_paragraph(str(article_abstract))\n",
    "        \n",
    "    # SAVE WORD DOCUMENT    \n",
    "    if \"/\" not in args:\n",
    "        document.save(opj(save_dir, 'word', str(args) + '.docx')) # save the documents for each query\n",
    "    else:\n",
    "        new_string = args.replace('/','_')\n",
    "        document.save(opj(save_dir, 'word', str(new_string) + '.docx')) # save the documents for each query\n",
    "        \n",
    "    # SAVE EXCEL DOCUMENT\n",
    "    if \"/\" not in args:\n",
    "        article_info.to_excel(opj(save_dir, 'excel', str(args) + '.xlsx'), sheet_name = args)\n",
    "    else:\n",
    "        article_info.to_excel(opj(save_dir, 'excel', str(new_string) + '.xlsx'), sheet_name = new_string)\n"
   ]
  },
  {
   "cell_type": "code",
   "execution_count": null,
   "metadata": {},
   "outputs": [],
   "source": [
    "# moved here on 23/04/20 to be replaced by code incorporating bio.entrez module\n",
    "save_dir = opj(os.getcwd(), 'query_results/pubmed_results')\n",
    "\n",
    "pm_total_w_dupe = 0 # to count number of articles found\n",
    "\n",
    "all_pm_articles = pd.DataFrame(columns = [\"title\",\"authors\",\"pmid\",\"keywords\",\"pubdate\",\"abstract\"])\n",
    "\n",
    "pm_IDs = []\n",
    "\n",
    "counter = 1\n",
    "\n",
    "for args in keyword_arguments[0]: # loop over all keyword argmuents\n",
    "    for method in keyword_arguments[1]:\n",
    "    \n",
    "        to_search = args + ' ' + method\n",
    "        \n",
    "        results = pubmed.query(query=to_search, max_results=1) # run search query\n",
    "        lengthable = pubmed.query(query=to_search, max_results=1) # non-elegant method to measure length of results\n",
    "\n",
    "        len_of_results = sum(1 for x in lengthable) # only way to get length of results output\n",
    "        pm_total_w_dupe += len_of_results\n",
    "\n",
    "        article_info = pd.DataFrame(columns = [\"title\",\"authors\",\"pmid\",\"keywords\",\"pubdate\",\"abstract\"])\n",
    "\n",
    "        for article in results: # loop over all found articles\n",
    "\n",
    "            if '\\n' in article.pubmed_id: # extract pubmed ID\n",
    "                article_id = article.pubmed_id.split('\\n')[0]\n",
    "            else:\n",
    "                article_id = article.pubmed_id\n",
    "\n",
    "            article_title = article.title # extract title\n",
    "\n",
    "            if hasattr(article,'keywords'):\n",
    "                if article.keywords: # find keywords if they exist\n",
    "                    if None in article.keywords:\n",
    "                        article.keywords.remove(None)\n",
    "                    article_keywords = '\", \"'.join(article.keywords)\n",
    "                else:\n",
    "                    article_keywords = \"Article has no keywords\"\n",
    "\n",
    "            article_publication_date = article.publication_date # extract publication date\n",
    "            article_abstract = article.abstract # extract abstract\n",
    "\n",
    "            article_authors = []\n",
    "            for auths in range(len(article.authors)):\n",
    "                if auths == len(article.authors)-1:\n",
    "                    if article.authors[auths]['lastname']==None or article.authors[auths]['firstname']==None:\n",
    "                        print('Skipping author, nonetype')\n",
    "                    else:\n",
    "                        article_authors.append(article.authors[auths]['lastname'] + ', ' + article.authors[auths]['initials'])\n",
    "                else:\n",
    "                    if article.authors[auths]['lastname']==None or article.authors[auths]['firstname']==None:\n",
    "                        print('Skipping author, nonetype')\n",
    "                    else:\n",
    "                        article_authors.append(article.authors[auths]['lastname'] + ', ' + article.authors[auths]['initials'] + '.,')\n",
    "\n",
    "            # Throw all this info into a pandas dataframe so we can export it to excel\n",
    "            article_info = article_info.append(pd.DataFrame({\"title\":[article_title],\"authors\":[str(' '.join(article_authors))],\"pmid\":[article_id],\n",
    "                                              \"keywords\":[article_keywords],\"pubdate\":[article_publication_date],\n",
    "                                              \"abstract\":[article_abstract]}))\n",
    "\n",
    "            # Save one dataframe object with every found article so we can remove duplicates\n",
    "            all_pm_articles = all_pm_articles.append(pd.DataFrame({\"title\":[article_title],\"authors\":[str(' '.join(article_authors))],\"pmid\":[article_id],\n",
    "                                      \"keywords\":[article_keywords],\"pubdate\":[article_publication_date],\n",
    "                                      \"abstract\":[article_abstract]}))\n",
    "\n",
    "            # provide some output so we know what stage the code is at\n",
    "            if counter%50==0:\n",
    "                print(f'Processing article {counter} for {args} argument...')\n",
    "            counter += 1\n",
    "        \n",
    "print('Finished')\n"
   ]
  }
 ],
 "metadata": {
  "kernelspec": {
   "display_name": "Python 3",
   "language": "python",
   "name": "python3"
  },
  "language_info": {
   "codemirror_mode": {
    "name": "ipython",
    "version": 3
   },
   "file_extension": ".py",
   "mimetype": "text/x-python",
   "name": "python",
   "nbconvert_exporter": "python",
   "pygments_lexer": "ipython3",
   "version": "3.7.3"
  },
  "toc": {
   "base_numbering": 1,
   "nav_menu": {},
   "number_sections": true,
   "sideBar": true,
   "skip_h1_title": false,
   "title_cell": "Table of Contents",
   "title_sidebar": "Contents",
   "toc_cell": false,
   "toc_position": {},
   "toc_section_display": true,
   "toc_window_display": false
  }
 },
 "nbformat": 4,
 "nbformat_minor": 2
}
